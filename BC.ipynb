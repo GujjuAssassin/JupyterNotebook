{
 "cells": [
  {
   "cell_type": "code",
   "execution_count": 13,
   "metadata": {},
   "outputs": [
    {
     "name": "stdout",
     "output_type": "stream",
     "text": [
      "{\"jsonrpc\":\"2.0\",\"error\":{\"code\":-32600,\"message\":\"invalid json request\"}}\n"
     ]
    }
   ],
   "source": [
    "import requests as req\n",
    "\n",
    "url=\"https://mainnet.infura.io/v3/34cce7f7681b4eee980486882348bf40\"\n",
    "header = {\"content-type:application/json\"}\n",
    "data = {\n",
    "    \"jsonrpc\":\"2.0\",\n",
    "    \"id\":\"1\",\n",
    "    \"method\":\"eth_blockNumber\",\n",
    "    \"params\":[]\n",
    "}\n",
    "\n",
    "x = req.post(url, data=data)\n",
    "print(x.text)"
   ]
  }
 ],
 "metadata": {
  "kernelspec": {
   "display_name": "Python 3",
   "language": "python",
   "name": "python3"
  },
  "language_info": {
   "codemirror_mode": {
    "name": "ipython",
    "version": 3
   },
   "file_extension": ".py",
   "mimetype": "text/x-python",
   "name": "python",
   "nbconvert_exporter": "python",
   "pygments_lexer": "ipython3",
   "version": "3.7.6"
  }
 },
 "nbformat": 4,
 "nbformat_minor": 4
}
