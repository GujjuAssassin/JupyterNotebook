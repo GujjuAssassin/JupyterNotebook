{
 "cells": [
  {
   "cell_type": "code",
   "execution_count": 1,
   "metadata": {
    "scrolled": false
   },
   "outputs": [
    {
     "name": "stdout",
     "output_type": "stream",
     "text": [
      "              total  persantage\n",
      "PoolQC         2909    0.996574\n",
      "MiscFeature    2814    0.964029\n",
      "Alley          2721    0.932169\n",
      "Fence          2348    0.804385\n",
      "SalePrice      1459    0.499829\n",
      "...             ...         ...\n",
      "Id                0    0.000000\n",
      "HouseStyle        0    0.000000\n",
      "HeatingQC         0    0.000000\n",
      "YearRemodAdd      0    0.000000\n",
      "1stFlrSF          0    0.000000\n",
      "\n",
      "[81 rows x 2 columns]\n"
     ]
    },
    {
     "name": "stderr",
     "output_type": "stream",
     "text": [
      "C:\\Users\\Assessioner\\Anaconda3\\lib\\site-packages\\ipykernel_launcher.py:6: FutureWarning: Sorting because non-concatenation axis is not aligned. A future version\n",
      "of pandas will change to not sort by default.\n",
      "\n",
      "To accept the future behavior, pass 'sort=False'.\n",
      "\n",
      "To retain the current behavior and silence the warning, pass 'sort=True'.\n",
      "\n",
      "  \n"
     ]
    }
   ],
   "source": [
    "import pandas as pd\n",
    "\n",
    "train = pd.read_csv('garbage/house_price/train.csv')\n",
    "test  = pd.read_csv('garbage/house_price/test.csv')\n",
    "sp=train['SalePrice']\n",
    "df = pd.concat([train, test]).reset_index(drop=True)\n",
    "totalMissing = df.isnull().sum().sort_values(ascending=False)\n",
    "persentage = (df.isnull().sum()/df.isnull().count()).sort_values(ascending=False)\n",
    "missing = pd.concat([totalMissing, persentage], axis = 1)\n",
    "missing.columns = ['total', 'persantage']\n",
    "print(missing)\n",
    "\n",
    "nTrain = train.shape[0]"
   ]
  },
  {
   "cell_type": "code",
   "execution_count": 3,
   "metadata": {
    "scrolled": true
   },
   "outputs": [
    {
     "name": "stdout",
     "output_type": "stream",
     "text": [
      "        var_name  total  persantage\n",
      "0         PoolQC   2909    0.996574\n",
      "1    MiscFeature   2814    0.964029\n",
      "2          Alley   2721    0.932169\n",
      "3          Fence   2348    0.804385\n",
      "4      SalePrice   1459    0.499829\n",
      "5    FireplaceQu   1420    0.486468\n",
      "6    LotFrontage    486    0.166495\n",
      "7   GarageFinish    159    0.054471\n",
      "8     GarageCond    159    0.054471\n",
      "9     GarageQual    159    0.054471\n",
      "10   GarageYrBlt    159    0.054471\n",
      "11    GarageType    157    0.053786\n",
      "12      BsmtCond     82    0.028092\n",
      "13  BsmtExposure     82    0.028092\n",
      "14      BsmtQual     81    0.027749\n",
      "15  BsmtFinType2     80    0.027407\n",
      "16  BsmtFinType1     79    0.027064\n",
      "17    MasVnrType     24    0.008222\n",
      "18    MasVnrArea     23    0.007879\n"
     ]
    }
   ],
   "source": [
    "\n",
    "test = missing.reset_index().rename(columns={'index':'var_name'})\n",
    "print(test.loc[test['total']>5])"
   ]
  },
  {
   "cell_type": "code",
   "execution_count": 5,
   "metadata": {},
   "outputs": [
    {
     "name": "stdout",
     "output_type": "stream",
     "text": [
      "0        True\n",
      "1        True\n",
      "2        True\n",
      "3        True\n",
      "4        True\n",
      "        ...  \n",
      "2914    False\n",
      "2915     True\n",
      "2916     True\n",
      "2917    False\n",
      "2918     True\n",
      "Name: GarageType, Length: 2919, dtype: bool\n"
     ]
    }
   ],
   "source": [
    "print(df['GarageType'].notnull())"
   ]
  },
  {
   "cell_type": "code",
   "execution_count": 6,
   "metadata": {},
   "outputs": [
    {
     "name": "stderr",
     "output_type": "stream",
     "text": [
      "C:\\Users\\Assessioner\\Anaconda3\\lib\\site-packages\\pandas\\core\\indexing.py:205: SettingWithCopyWarning: \n",
      "A value is trying to be set on a copy of a slice from a DataFrame\n",
      "\n",
      "See the caveats in the documentation: http://pandas.pydata.org/pandas-docs/stable/user_guide/indexing.html#returning-a-view-versus-a-copy\n",
      "  self._setitem_with_indexer(indexer, value)\n",
      "C:\\Users\\Assessioner\\Anaconda3\\lib\\site-packages\\ipykernel_launcher.py:8: SettingWithCopyWarning: \n",
      "A value is trying to be set on a copy of a slice from a DataFrame\n",
      "\n",
      "See the caveats in the documentation: http://pandas.pydata.org/pandas-docs/stable/user_guide/indexing.html#returning-a-view-versus-a-copy\n",
      "  \n"
     ]
    }
   ],
   "source": [
    "missing_garage_index = df[df['GarageType'].notnull() & df['GarageQual'].isnull()].index\n",
    "df['GarageYrBlt'].iloc[missing_garage_index] = df['YearBuilt'].iloc[missing_garage_index]\n",
    "df['GarageFinish'].iloc[missing_garage_index] = df[df['GarageType'] == 'Detchd']['GarageFinish'].mode(dropna = False)[0]\n",
    "df['GarageCars'].iloc[missing_garage_index[1]] = df[df['GarageType'] == 'Detchd']['GarageCars'].mode(dropna = False)[0]\n",
    "df['GarageArea'].iloc[missing_garage_index[1]] = df[df['GarageType'] == 'Detchd']['GarageArea'].median()\n",
    "df['GarageQual'].iloc[missing_garage_index] = df[df['GarageType'] == 'Detchd']['GarageQual'].mode(dropna = False)[0]\n",
    "df['GarageCond'].iloc[missing_garage_index] = df[df['GarageType'] == 'Detchd']['GarageCond'].mode(dropna = False)[0]\n",
    "df['GarageYrBlt'][df['GarageYrBlt'].isnull()] = df['YearBuilt'][df['GarageYrBlt'].isnull()]"
   ]
  },
  {
   "cell_type": "code",
   "execution_count": 7,
   "metadata": {},
   "outputs": [
    {
     "name": "stdout",
     "output_type": "stream",
     "text": [
      "Int64Index([2126, 2576], dtype='int64')\n"
     ]
    }
   ],
   "source": [
    "print(missing_garage_index)"
   ]
  },
  {
   "cell_type": "code",
   "execution_count": 16,
   "metadata": {
    "scrolled": false
   },
   "outputs": [
    {
     "name": "stderr",
     "output_type": "stream",
     "text": [
      "C:\\Users\\Assessioner\\Anaconda3\\lib\\site-packages\\ipykernel_launcher.py:22: SettingWithCopyWarning: \n",
      "A value is trying to be set on a copy of a slice from a DataFrame\n",
      "\n",
      "See the caveats in the documentation: http://pandas.pydata.org/pandas-docs/stable/indexing.html#indexing-view-versus-copy\n",
      "C:\\Users\\Assessioner\\Anaconda3\\lib\\site-packages\\ipykernel_launcher.py:25: SettingWithCopyWarning: \n",
      "A value is trying to be set on a copy of a slice from a DataFrame\n",
      "\n",
      "See the caveats in the documentation: http://pandas.pydata.org/pandas-docs/stable/indexing.html#indexing-view-versus-copy\n",
      "C:\\Users\\Assessioner\\Anaconda3\\lib\\site-packages\\ipykernel_launcher.py:27: SettingWithCopyWarning: \n",
      "A value is trying to be set on a copy of a slice from a DataFrame\n",
      "\n",
      "See the caveats in the documentation: http://pandas.pydata.org/pandas-docs/stable/indexing.html#indexing-view-versus-copy\n"
     ]
    },
    {
     "name": "stdout",
     "output_type": "stream",
     "text": [
      "Int64Index([  17,   39,   90,  102,  156,  182,  259,  342,  362,  371,  392,\n",
      "             520,  532,  533,  553,  646,  705,  736,  749,  778,  868,  894,\n",
      "             897,  984, 1000, 1011, 1035, 1045, 1048, 1049, 1090, 1179, 1216,\n",
      "            1218, 1232, 1321, 1412, 1585, 1593, 1729, 1778, 1814, 1847, 1848,\n",
      "            1856, 1857, 1858, 1860, 1915, 2050, 2066, 2068, 2120, 2122, 2188,\n",
      "            2189, 2190, 2193, 2216, 2224, 2387, 2435, 2452, 2453, 2490, 2498,\n",
      "            2547, 2552, 2564, 2578, 2599, 2702, 2763, 2766, 2803, 2804, 2824,\n",
      "            2891, 2904],\n",
      "           dtype='int64')\n"
     ]
    },
    {
     "name": "stderr",
     "output_type": "stream",
     "text": [
      "C:\\Users\\Assessioner\\Anaconda3\\lib\\site-packages\\ipykernel_launcher.py:29: SettingWithCopyWarning: \n",
      "A value is trying to be set on a copy of a slice from a DataFrame\n",
      "\n",
      "See the caveats in the documentation: http://pandas.pydata.org/pandas-docs/stable/indexing.html#indexing-view-versus-copy\n"
     ]
    }
   ],
   "source": [
    "basementColumns = []\n",
    "\n",
    "for name in df.columns:\n",
    "    if name.lower().find('bsmt') != -1:\n",
    "        basementColumns.append(name)\n",
    "nbasementColumns = df[basementColumns].dtypes[df[basementColumns].dtypes != 'object'].index\n",
    "cbasementColumns = df[basementColumns].dtypes[df[basementColumns].dtypes == 'object'].index\n",
    "\n",
    "noBasementIndex = df[(df['BsmtCond'].isnull() & df['BsmtQual'].isnull()\n",
    "    & df['BsmtExposure'].isnull() & df['BsmtFinType1'].isnull() & df['BsmtFinType2'].isnull())].index\n",
    "print(noBasementIndex)\n",
    "\n",
    "\n",
    "for no in noBasementIndex:\n",
    "    for col in nbasementColumns:\n",
    "        df.at[no, col] = 0\n",
    "\n",
    "for no in noBasementIndex:\n",
    "    for col in cbasementColumns:\n",
    "        df.at[no, col] = 'None'\n",
    "\n",
    "df['BsmtQual'][df['BsmtQual'].isnull()] = df['BsmtCond'][df['BsmtQual'].isnull()]\n",
    "\n",
    "# BsmtCond, replace na value with value of BsmtQual\n",
    "df['BsmtCond'][df['BsmtCond'].isnull()] = df['BsmtQual'][df['BsmtCond'].isnull()]\n",
    "# BsmtExposure, replace with mode\n",
    "df['BsmtExposure'][df['BsmtExposure'].isnull()] = df['BsmtExposure'].mode()[0]\n",
    "# BsmtFinType2, replace with FinType1\n",
    "df['BsmtFinType2'][df['BsmtFinType2'].isnull()] = df['BsmtFinType2'].mode()[0]\n"
   ]
  },
  {
   "cell_type": "code",
   "execution_count": 36,
   "metadata": {},
   "outputs": [
    {
     "name": "stdout",
     "output_type": "stream",
     "text": [
      "0\n",
      "7      NaN\n",
      "12     NaN\n",
      "14     NaN\n",
      "16     NaN\n",
      "24     NaN\n",
      "        ..\n",
      "2847   NaN\n",
      "2850   NaN\n",
      "2900   NaN\n",
      "2901   NaN\n",
      "2908   NaN\n",
      "Name: LotFrontage, Length: 486, dtype: float64\n"
     ]
    }
   ],
   "source": [
    "x = df.groupby('Neighborhood')['LotFrontage'].transform(lambda x: x.fillna(x.median()))\n",
    "print(x.isnull().sum())\n",
    "print(df[df['LotFrontage'].isnull()]['LotFrontage'])"
   ]
  },
  {
   "cell_type": "code",
   "execution_count": 17,
   "metadata": {
    "scrolled": true
   },
   "outputs": [
    {
     "name": "stderr",
     "output_type": "stream",
     "text": [
      "C:\\Users\\Assessioner\\Anaconda3\\lib\\site-packages\\pandas\\core\\indexing.py:190: SettingWithCopyWarning: \n",
      "A value is trying to be set on a copy of a slice from a DataFrame\n",
      "\n",
      "See the caveats in the documentation: http://pandas.pydata.org/pandas-docs/stable/indexing.html#indexing-view-versus-copy\n",
      "  self._setitem_with_indexer(indexer, value)\n",
      "C:\\Users\\Assessioner\\Anaconda3\\lib\\site-packages\\ipykernel_launcher.py:17: SettingWithCopyWarning: \n",
      "A value is trying to be set on a copy of a slice from a DataFrame\n",
      "\n",
      "See the caveats in the documentation: http://pandas.pydata.org/pandas-docs/stable/indexing.html#indexing-view-versus-copy\n",
      "C:\\Users\\Assessioner\\Anaconda3\\lib\\site-packages\\ipykernel_launcher.py:18: SettingWithCopyWarning: \n",
      "A value is trying to be set on a copy of a slice from a DataFrame\n",
      "\n",
      "See the caveats in the documentation: http://pandas.pydata.org/pandas-docs/stable/indexing.html#indexing-view-versus-copy\n"
     ]
    }
   ],
   "source": [
    "dropDominate = ['PoolQC', 'MiscFeature', 'Alley', 'Utilities']\n",
    "\n",
    "df = df.drop(dropDominate, axis = 1)\n",
    "\n",
    "\n",
    "cols = ['Fence', 'FireplaceQu', 'GarageCond', 'GarageFinish', 'GarageQual', 'GarageType'] \n",
    "\n",
    "for col in cols:\n",
    "    df[col].fillna('None', inplace=True)\n",
    "    \n",
    "cols = ['LotFrontage'] #replace numerical with LotFrontage median in neighbor\n",
    "for col in cols:\n",
    "    df[col] = df.groupby('Neighborhood')[col].transform(lambda x: x.fillna(x.median()))\n",
    "    \n",
    "missing_MasVnrType = df[df['MasVnrArea'].notnull() & df['MasVnrType'].isnull()].index\n",
    "df['MasVnrType'].iloc[missing_MasVnrType[0]] = 'BrkFace'\n",
    "df['MasVnrType'][df['MasVnrType'].isnull()] = df['MasVnrType'].mode()[0]\n",
    "df['MasVnrArea'][df['MasVnrArea'].isnull()] = df['MasVnrArea'].median()\n",
    "\n",
    "\n",
    "# the rest missing categorical variable\n",
    "cols = ['MSZoning', 'Functional', 'Electrical', 'KitchenQual', 'Exterior1st', 'Exterior2nd', 'SaleType'] #replace categorical with the mode\n",
    "\n",
    "for col in cols:\n",
    "    df[col].fillna(df[col].mode()[0], inplace = True)"
   ]
  },
  {
   "cell_type": "code",
   "execution_count": 18,
   "metadata": {},
   "outputs": [
    {
     "data": {
      "text/plain": [
       "<matplotlib.legend.Legend at 0x1cd833acef0>"
      ]
     },
     "execution_count": 18,
     "metadata": {},
     "output_type": "execute_result"
    },
    {
     "data": {
      "image/png": "[encoded data removed]",
      "text/plain": [
       "<Figure size 720x504 with 1 Axes>"
      ]
     },
     "metadata": {
      "needs_background": "light"
     },
     "output_type": "display_data"
    }
   ],
   "source": [
    "import matplotlib.pyplot as plt\n",
    "import seaborn as sns\n",
    "from scipy.stats import norm\n",
    "\n",
    "plt.figure(figsize = [10, 7])\n",
    "salesPrice = df['SalePrice'][df['SalePrice'].notnull()]\n",
    "sns.distplot(salesPrice, fit=norm, kde_kws={'label': 'Kernel Density Estimation'}, fit_kws={'label': 'Normal Distribution'});\n",
    "plt.ylabel('pdf')\n",
    "plt.title('Distribution of SalePrice(before log transformed)')\n",
    "plt.legend()"
   ]
  },
  {
   "cell_type": "code",
   "execution_count": 19,
   "metadata": {},
   "outputs": [
    {
     "name": "stdout",
     "output_type": "stream",
     "text": [
      "0       12.247694\n",
      "1       12.109011\n",
      "2       12.317167\n",
      "3       11.849398\n",
      "4       12.429216\n",
      "5       11.870600\n",
      "6       12.634603\n",
      "7       12.206073\n",
      "8       11.774520\n",
      "9       11.678440\n",
      "10      11.771436\n",
      "11      12.751300\n",
      "12      11.877569\n",
      "13      12.540758\n",
      "14      11.964001\n",
      "15      11.790557\n",
      "16      11.911702\n",
      "17      11.407565\n",
      "18      11.976659\n",
      "19      11.842229\n",
      "20      12.692503\n",
      "21      11.845103\n",
      "22      12.345835\n",
      "23      11.774520\n",
      "24      11.944708\n",
      "25      12.454104\n",
      "26      11.811547\n",
      "27      12.631340\n",
      "28      12.242887\n",
      "29      11.134589\n",
      "          ...    \n",
      "1430    12.165980\n",
      "1431    11.875831\n",
      "1432    11.074421\n",
      "1433    12.136187\n",
      "1434    11.982929\n",
      "1435    12.066811\n",
      "1436    11.699405\n",
      "1437    12.885671\n",
      "1438    11.916389\n",
      "1439    12.190959\n",
      "1440    12.160029\n",
      "1441    11.913713\n",
      "1442    12.644328\n",
      "1443    11.703546\n",
      "1444    12.098487\n",
      "1445    11.767568\n",
      "1446    11.969717\n",
      "1447    12.388394\n",
      "1448    11.626254\n",
      "1449    11.429544\n",
      "1450    11.820410\n",
      "1451    12.567551\n",
      "1452    11.884489\n",
      "1453    11.344507\n",
      "1454    12.128111\n",
      "1455    12.072541\n",
      "1456    12.254863\n",
      "1457    12.493130\n",
      "1458    11.864462\n",
      "1459    11.901583\n",
      "Name: SalePrice, Length: 1460, dtype: float64\n"
     ]
    }
   ],
   "source": [
    "import numpy as np\n",
    "\n",
    "salesPrice = np.log(salesPrice)\n",
    "print(salesPrice)"
   ]
  },
  {
   "cell_type": "code",
   "execution_count": 20,
   "metadata": {
    "scrolled": true
   },
   "outputs": [
    {
     "data": {
      "text/plain": [
       "<matplotlib.legend.Legend at 0x1cd8569ab70>"
      ]
     },
     "execution_count": 20,
     "metadata": {},
     "output_type": "execute_result"
    },
    {
     "data": {
      "image/png": "[encoded data removed]",
      "text/plain": [
       "<Figure size 720x504 with 1 Axes>"
      ]
     },
     "metadata": {
      "needs_background": "light"
     },
     "output_type": "display_data"
    }
   ],
   "source": [
    "plt.figure(figsize = [10, 7])\n",
    "sns.distplot(salesPrice, fit=norm, kde_kws={'label': 'Kernel Density Estimation'}, fit_kws={'label': 'Normal Distribution'});\n",
    "plt.ylabel('pdf')\n",
    "plt.title('Distribution of SalePrice(after log transformed)')\n",
    "plt.legend()"
   ]
  },
  {
   "cell_type": "code",
   "execution_count": 21,
   "metadata": {},
   "outputs": [
    {
     "name": "stdout",
     "output_type": "stream",
     "text": [
      "['BldgType', 'BsmtCond', 'BsmtExposure', 'BsmtFinType1', 'BsmtFinType2', 'BsmtQual', 'CentralAir', 'Condition1', 'Condition2', 'Electrical', 'ExterCond', 'ExterQual', 'Exterior1st', 'Exterior2nd', 'Fence', 'FireplaceQu', 'Foundation', 'Functional', 'GarageCond', 'GarageFinish', 'GarageQual', 'GarageType', 'Heating', 'HeatingQC', 'HouseStyle', 'KitchenQual', 'LandContour', 'LandSlope', 'LotConfig', 'LotShape', 'MSZoning', 'MasVnrType', 'Neighborhood', 'PavedDrive', 'RoofMatl', 'RoofStyle', 'SaleCondition', 'SaleType', 'Street']\n",
      "1Fam      2425\n",
      "TwnhsE     227\n",
      "Duplex     109\n",
      "Twnhs       96\n",
      "2fmCon      62\n",
      "Name: BldgType, dtype: int64\n",
      "TA      2608\n",
      "Gd       123\n",
      "Fa       104\n",
      "None      79\n",
      "Po         5\n",
      "Name: BsmtCond, dtype: int64\n",
      "No      1907\n",
      "Av       418\n",
      "Gd       276\n",
      "Mn       239\n",
      "None      79\n",
      "Name: BsmtExposure, dtype: int64\n",
      "Unf     851\n",
      "GLQ     849\n",
      "ALQ     429\n",
      "Rec     288\n",
      "BLQ     269\n",
      "LwQ     154\n",
      "None     79\n",
      "Name: BsmtFinType1, dtype: int64\n",
      "Unf     2494\n",
      "Rec      105\n",
      "LwQ       87\n",
      "None      79\n",
      "BLQ       68\n",
      "ALQ       52\n",
      "GLQ       34\n",
      "Name: BsmtFinType2, dtype: int64\n",
      "TA      1284\n",
      "Gd      1209\n",
      "Ex       258\n",
      "Fa        89\n",
      "None      79\n",
      "Name: BsmtQual, dtype: int64\n",
      "Y    2723\n",
      "N     196\n",
      "Name: CentralAir, dtype: int64\n",
      "Norm      2511\n",
      "Feedr      164\n",
      "Artery      92\n",
      "RRAn        50\n",
      "PosN        39\n",
      "RRAe        28\n",
      "PosA        20\n",
      "RRNn         9\n",
      "RRNe         6\n",
      "Name: Condition1, dtype: int64\n",
      "Norm      2889\n",
      "Feedr       13\n",
      "Artery       5\n",
      "PosA         4\n",
      "PosN         4\n",
      "RRNn         2\n",
      "RRAn         1\n",
      "RRAe         1\n",
      "Name: Condition2, dtype: int64\n",
      "SBrkr    2672\n",
      "FuseA     188\n",
      "FuseF      50\n",
      "FuseP       8\n",
      "Mix         1\n",
      "Name: Electrical, dtype: int64\n",
      "TA    2538\n",
      "Gd     299\n",
      "Fa      67\n",
      "Ex      12\n",
      "Po       3\n",
      "Name: ExterCond, dtype: int64\n",
      "TA    1798\n",
      "Gd     979\n",
      "Ex     107\n",
      "Fa      35\n",
      "Name: ExterQual, dtype: int64\n",
      "VinylSd    1026\n",
      "MetalSd     450\n",
      "HdBoard     442\n",
      "Wd Sdng     411\n",
      "Plywood     221\n",
      "CemntBd     126\n",
      "BrkFace      87\n",
      "WdShing      56\n",
      "AsbShng      44\n",
      "Stucco       43\n",
      "BrkComm       6\n",
      "Stone         2\n",
      "CBlock        2\n",
      "AsphShn       2\n",
      "ImStucc       1\n",
      "Name: Exterior1st, dtype: int64\n",
      "VinylSd    1015\n",
      "MetalSd     447\n",
      "HdBoard     406\n",
      "Wd Sdng     391\n",
      "Plywood     270\n",
      "CmentBd     126\n",
      "Wd Shng      81\n",
      "BrkFace      47\n",
      "Stucco       47\n",
      "AsbShng      38\n",
      "Brk Cmn      22\n",
      "ImStucc      15\n",
      "Stone         6\n",
      "AsphShn       4\n",
      "CBlock        3\n",
      "Other         1\n",
      "Name: Exterior2nd, dtype: int64\n",
      "None     2348\n",
      "MnPrv     329\n",
      "GdPrv     118\n",
      "GdWo      112\n",
      "MnWw       12\n",
      "Name: Fence, dtype: int64\n",
      "None    1420\n",
      "Gd       744\n",
      "TA       592\n",
      "Fa        74\n",
      "Po        46\n",
      "Ex        43\n",
      "Name: FireplaceQu, dtype: int64\n",
      "PConc     1308\n",
      "CBlock    1235\n",
      "BrkTil     311\n",
      "Slab        49\n",
      "Stone       11\n",
      "Wood         5\n",
      "Name: Foundation, dtype: int64\n",
      "Typ     2719\n",
      "Min2      70\n",
      "Min1      65\n",
      "Mod       35\n",
      "Maj1      19\n",
      "Maj2       9\n",
      "Sev        2\n",
      "Name: Functional, dtype: int64\n",
      "TA      2656\n",
      "None     157\n",
      "Fa        74\n",
      "Gd        15\n",
      "Po        14\n",
      "Ex         3\n",
      "Name: GarageCond, dtype: int64\n",
      "Unf     1232\n",
      "RFn      811\n",
      "Fin      719\n",
      "None     157\n",
      "Name: GarageFinish, dtype: int64\n",
      "TA      2606\n",
      "None     157\n",
      "Fa       124\n",
      "Gd        24\n",
      "Po         5\n",
      "Ex         3\n",
      "Name: GarageQual, dtype: int64\n",
      "Attchd     1723\n",
      "Detchd      779\n",
      "BuiltIn     186\n",
      "None        157\n",
      "Basment      36\n",
      "2Types       23\n",
      "CarPort      15\n",
      "Name: GarageType, dtype: int64\n",
      "GasA     2874\n",
      "GasW       27\n",
      "Grav        9\n",
      "Wall        6\n",
      "OthW        2\n",
      "Floor       1\n",
      "Name: Heating, dtype: int64\n",
      "Ex    1493\n",
      "TA     857\n",
      "Gd     474\n",
      "Fa      92\n",
      "Po       3\n",
      "Name: HeatingQC, dtype: int64\n",
      "1Story    1471\n",
      "2Story     872\n",
      "1.5Fin     314\n",
      "SLvl       128\n",
      "SFoyer      83\n",
      "2.5Unf      24\n",
      "1.5Unf      19\n",
      "2.5Fin       8\n",
      "Name: HouseStyle, dtype: int64\n",
      "TA    1493\n",
      "Gd    1151\n",
      "Ex     205\n",
      "Fa      70\n",
      "Name: KitchenQual, dtype: int64\n",
      "Lvl    2622\n",
      "HLS     120\n",
      "Bnk     117\n",
      "Low      60\n",
      "Name: LandContour, dtype: int64\n",
      "Gtl    2778\n",
      "Mod     125\n",
      "Sev      16\n",
      "Name: LandSlope, dtype: int64\n",
      "Inside     2133\n",
      "Corner      511\n",
      "CulDSac     176\n",
      "FR2          85\n",
      "FR3          14\n",
      "Name: LotConfig, dtype: int64\n",
      "Reg    1859\n",
      "IR1     968\n",
      "IR2      76\n",
      "IR3      16\n",
      "Name: LotShape, dtype: int64\n",
      "RL         2269\n",
      "RM          460\n",
      "FV          139\n",
      "RH           26\n",
      "C (all)      25\n",
      "Name: MSZoning, dtype: int64\n",
      "None       1765\n",
      "BrkFace     880\n",
      "Stone       249\n",
      "BrkCmn       25\n",
      "Name: MasVnrType, dtype: int64\n",
      "NAmes      443\n",
      "CollgCr    267\n",
      "OldTown    239\n",
      "Edwards    194\n",
      "Somerst    182\n",
      "NridgHt    166\n",
      "Gilbert    165\n",
      "Sawyer     151\n",
      "NWAmes     131\n",
      "SawyerW    125\n",
      "Mitchel    114\n",
      "BrkSide    108\n",
      "Crawfor    103\n",
      "IDOTRR      93\n",
      "Timber      72\n",
      "NoRidge     71\n",
      "StoneBr     51\n",
      "SWISU       48\n",
      "ClearCr     44\n",
      "MeadowV     37\n",
      "BrDale      30\n",
      "Blmngtn     28\n",
      "Veenker     24\n",
      "NPkVill     23\n",
      "Blueste     10\n",
      "Name: Neighborhood, dtype: int64\n",
      "Y    2641\n",
      "N     216\n",
      "P      62\n",
      "Name: PavedDrive, dtype: int64\n",
      "CompShg    2876\n",
      "Tar&Grv      23\n",
      "WdShake       9\n",
      "WdShngl       7\n",
      "Roll          1\n",
      "Membran       1\n",
      "Metal         1\n",
      "ClyTile       1\n",
      "Name: RoofMatl, dtype: int64\n",
      "Gable      2310\n",
      "Hip         551\n",
      "Gambrel      22\n",
      "Flat         20\n",
      "Mansard      11\n",
      "Shed          5\n",
      "Name: RoofStyle, dtype: int64\n",
      "Normal     2402\n",
      "Partial     245\n",
      "Abnorml     190\n",
      "Family       46\n",
      "Alloca       24\n",
      "AdjLand      12\n",
      "Name: SaleCondition, dtype: int64\n",
      "WD       2526\n",
      "New       239\n",
      "COD        87\n",
      "ConLD      26\n",
      "CWD        12\n",
      "ConLI       9\n",
      "ConLw       8\n",
      "Oth         7\n",
      "Con         5\n",
      "Name: SaleType, dtype: int64\n",
      "Pave    2907\n",
      "Grvl      12\n",
      "Name: Street, dtype: int64\n",
      "['Exterior1st', 'Exterior2nd', 'Neighborhood']\n"
     ]
    }
   ],
   "source": [
    "cat_name = df.dtypes[df.dtypes=='object'].index.tolist()\n",
    "print(cat_name)\n",
    "df_cate = df[cat_name]\n",
    "\n",
    "numlev = 10\n",
    "\n",
    "catOver10 = []\n",
    "\n",
    "for col in df_cate.columns:\n",
    "    print(df[col].value_counts())\n",
    "    if len(df[col].value_counts())>10:\n",
    "        catOver10.append(col)\n",
    "        \n",
    "print(catOver10)"
   ]
  },
  {
   "cell_type": "code",
   "execution_count": 22,
   "metadata": {},
   "outputs": [
    {
     "name": "stdout",
     "output_type": "stream",
     "text": [
      "Street\n"
     ]
    }
   ],
   "source": [
    "\n",
    "\n",
    "percent_levels = 0.95\n",
    "categoryOver95 = []\n",
    "for column in df_cate.columns:\n",
    "    if (df_cate[column].value_counts()/df_cate.shape[0]).sort_values(ascending = False)[0] > 0.95:\n",
    "        categoryOver95.append(column)\n",
    "print(column)\n",
    "\n",
    "df  = df.drop(column, axis=1)"
   ]
  },
  {
   "cell_type": "code",
   "execution_count": 23,
   "metadata": {
    "scrolled": false
   },
   "outputs": [
    {
     "name": "stdout",
     "output_type": "stream",
     "text": [
      "76\n",
      "(1460,)\n",
      "1460\n"
     ]
    }
   ],
   "source": [
    "\n",
    "print(len(df.columns))\n",
    "print(sp.shape)\n",
    "print(nTrain)"
   ]
  },
  {
   "cell_type": "code",
   "execution_count": 24,
   "metadata": {},
   "outputs": [
    {
     "name": "stdout",
     "output_type": "stream",
     "text": [
      "Linear Regression root mean squared error: 37.156795877217874\n"
     ]
    }
   ],
   "source": [
    "from sklearn.linear_model import Lasso, LinearRegression\n",
    "from sklearn.model_selection import KFold, cross_val_score, train_test_split\n",
    "from sklearn.preprocessing import RobustScaler\n",
    "from sklearn.pipeline import make_pipeline\n",
    "from sklearn.ensemble import RandomForestRegressor\n",
    "\n",
    "df = pd.get_dummies(df)\n",
    "train = df[:nTrain]\n",
    "test = df[nTrain:]\n",
    "sp = sp[:nTrain]\n",
    "\n",
    "sp = np.log(sp)\n",
    "\n",
    "def cv_rms(model = None):\n",
    "    kf = KFold(n_splits=5)\n",
    "    kf.get_n_splits(X = train, y = salesPrice[:nTrain])\n",
    "    rmse_cv = np.sqrt(-cross_val_score(estimator=model, X = train, y = sp, scoring='neg_mean_squared_error', cv = kf))\n",
    "    return rmse_cv\n",
    "\n",
    "\n",
    "clf = LinearRegression()\n",
    "rmse_cv = cv_rms(model = clf)\n",
    "print('Linear Regression root mean squared error: {}'.format(rmse_cv.mean()))\n",
    "\n"
   ]
  },
  {
   "cell_type": "code",
   "execution_count": 26,
   "metadata": {},
   "outputs": [
    {
     "ename": "NotFittedError",
     "evalue": "This LinearRegression instance is not fitted yet. Call 'fit' with appropriate arguments before using this method.",
     "output_type": "error",
     "traceback": [
      "\u001b[1;31m---------------------------------------------------------------------------\u001b[0m",
      "\u001b[1;31mNotFittedError\u001b[0m                            Traceback (most recent call last)",
      "\u001b[1;32m<ipython-input-26-11e4a7c7374e>\u001b[0m in \u001b[0;36m<module>\u001b[1;34m\u001b[0m\n\u001b[1;32m----> 1\u001b[1;33m \u001b[0mclf\u001b[0m\u001b[1;33m.\u001b[0m\u001b[0mpredict\u001b[0m\u001b[1;33m(\u001b[0m\u001b[0mtest\u001b[0m\u001b[1;33m[\u001b[0m\u001b[1;36m0\u001b[0m\u001b[1;33m:\u001b[0m\u001b[1;36m3\u001b[0m\u001b[1;33m]\u001b[0m\u001b[1;33m)\u001b[0m\u001b[1;33m\u001b[0m\u001b[1;33m\u001b[0m\u001b[0m\n\u001b[0m",
      "\u001b[1;32m~\\Anaconda3\\lib\\site-packages\\sklearn\\linear_model\\base.py\u001b[0m in \u001b[0;36mpredict\u001b[1;34m(self, X)\u001b[0m\n\u001b[0;32m    211\u001b[0m             \u001b[0mReturns\u001b[0m \u001b[0mpredicted\u001b[0m \u001b[0mvalues\u001b[0m\u001b[1;33m.\u001b[0m\u001b[1;33m\u001b[0m\u001b[1;33m\u001b[0m\u001b[0m\n\u001b[0;32m    212\u001b[0m         \"\"\"\n\u001b[1;32m--> 213\u001b[1;33m         \u001b[1;32mreturn\u001b[0m \u001b[0mself\u001b[0m\u001b[1;33m.\u001b[0m\u001b[0m_decision_function\u001b[0m\u001b[1;33m(\u001b[0m\u001b[0mX\u001b[0m\u001b[1;33m)\u001b[0m\u001b[1;33m\u001b[0m\u001b[1;33m\u001b[0m\u001b[0m\n\u001b[0m\u001b[0;32m    214\u001b[0m \u001b[1;33m\u001b[0m\u001b[0m\n\u001b[0;32m    215\u001b[0m     \u001b[0m_preprocess_data\u001b[0m \u001b[1;33m=\u001b[0m \u001b[0mstaticmethod\u001b[0m\u001b[1;33m(\u001b[0m\u001b[0m_preprocess_data\u001b[0m\u001b[1;33m)\u001b[0m\u001b[1;33m\u001b[0m\u001b[1;33m\u001b[0m\u001b[0m\n",
      "\u001b[1;32m~\\Anaconda3\\lib\\site-packages\\sklearn\\linear_model\\base.py\u001b[0m in \u001b[0;36m_decision_function\u001b[1;34m(self, X)\u001b[0m\n\u001b[0;32m    192\u001b[0m \u001b[1;33m\u001b[0m\u001b[0m\n\u001b[0;32m    193\u001b[0m     \u001b[1;32mdef\u001b[0m \u001b[0m_decision_function\u001b[0m\u001b[1;33m(\u001b[0m\u001b[0mself\u001b[0m\u001b[1;33m,\u001b[0m \u001b[0mX\u001b[0m\u001b[1;33m)\u001b[0m\u001b[1;33m:\u001b[0m\u001b[1;33m\u001b[0m\u001b[1;33m\u001b[0m\u001b[0m\n\u001b[1;32m--> 194\u001b[1;33m         \u001b[0mcheck_is_fitted\u001b[0m\u001b[1;33m(\u001b[0m\u001b[0mself\u001b[0m\u001b[1;33m,\u001b[0m \u001b[1;34m\"coef_\"\u001b[0m\u001b[1;33m)\u001b[0m\u001b[1;33m\u001b[0m\u001b[1;33m\u001b[0m\u001b[0m\n\u001b[0m\u001b[0;32m    195\u001b[0m \u001b[1;33m\u001b[0m\u001b[0m\n\u001b[0;32m    196\u001b[0m         \u001b[0mX\u001b[0m \u001b[1;33m=\u001b[0m \u001b[0mcheck_array\u001b[0m\u001b[1;33m(\u001b[0m\u001b[0mX\u001b[0m\u001b[1;33m,\u001b[0m \u001b[0maccept_sparse\u001b[0m\u001b[1;33m=\u001b[0m\u001b[1;33m[\u001b[0m\u001b[1;34m'csr'\u001b[0m\u001b[1;33m,\u001b[0m \u001b[1;34m'csc'\u001b[0m\u001b[1;33m,\u001b[0m \u001b[1;34m'coo'\u001b[0m\u001b[1;33m]\u001b[0m\u001b[1;33m)\u001b[0m\u001b[1;33m\u001b[0m\u001b[1;33m\u001b[0m\u001b[0m\n",
      "\u001b[1;32m~\\Anaconda3\\lib\\site-packages\\sklearn\\utils\\validation.py\u001b[0m in \u001b[0;36mcheck_is_fitted\u001b[1;34m(estimator, attributes, msg, all_or_any)\u001b[0m\n\u001b[0;32m    949\u001b[0m \u001b[1;33m\u001b[0m\u001b[0m\n\u001b[0;32m    950\u001b[0m     \u001b[1;32mif\u001b[0m \u001b[1;32mnot\u001b[0m \u001b[0mall_or_any\u001b[0m\u001b[1;33m(\u001b[0m\u001b[1;33m[\u001b[0m\u001b[0mhasattr\u001b[0m\u001b[1;33m(\u001b[0m\u001b[0mestimator\u001b[0m\u001b[1;33m,\u001b[0m \u001b[0mattr\u001b[0m\u001b[1;33m)\u001b[0m \u001b[1;32mfor\u001b[0m \u001b[0mattr\u001b[0m \u001b[1;32min\u001b[0m \u001b[0mattributes\u001b[0m\u001b[1;33m]\u001b[0m\u001b[1;33m)\u001b[0m\u001b[1;33m:\u001b[0m\u001b[1;33m\u001b[0m\u001b[1;33m\u001b[0m\u001b[0m\n\u001b[1;32m--> 951\u001b[1;33m         \u001b[1;32mraise\u001b[0m \u001b[0mNotFittedError\u001b[0m\u001b[1;33m(\u001b[0m\u001b[0mmsg\u001b[0m \u001b[1;33m%\u001b[0m \u001b[1;33m{\u001b[0m\u001b[1;34m'name'\u001b[0m\u001b[1;33m:\u001b[0m \u001b[0mtype\u001b[0m\u001b[1;33m(\u001b[0m\u001b[0mestimator\u001b[0m\u001b[1;33m)\u001b[0m\u001b[1;33m.\u001b[0m\u001b[0m__name__\u001b[0m\u001b[1;33m}\u001b[0m\u001b[1;33m)\u001b[0m\u001b[1;33m\u001b[0m\u001b[1;33m\u001b[0m\u001b[0m\n\u001b[0m\u001b[0;32m    952\u001b[0m \u001b[1;33m\u001b[0m\u001b[0m\n\u001b[0;32m    953\u001b[0m \u001b[1;33m\u001b[0m\u001b[0m\n",
      "\u001b[1;31mNotFittedError\u001b[0m: This LinearRegression instance is not fitted yet. Call 'fit' with appropriate arguments before using this method."
     ]
    }
   ],
   "source": []
  }
 ],
 "metadata": {
  "kernelspec": {
   "display_name": "Python 3",
   "language": "python",
   "name": "python3"
  },
  "language_info": {
   "codemirror_mode": {
    "name": "ipython",
    "version": 3
   },
   "file_extension": ".py",
   "mimetype": "text/x-python",
   "name": "python",
   "nbconvert_exporter": "python",
   "pygments_lexer": "ipython3",
   "version": "3.7.3"
  }
 },
 "nbformat": 4,
 "nbformat_minor": 2
}
