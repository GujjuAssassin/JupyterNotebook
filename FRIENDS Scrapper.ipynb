{
 "cells": [
  {
   "cell_type": "code",
   "execution_count": 102,
   "metadata": {},
   "outputs": [
    {
     "name": "stdout",
     "output_type": "stream",
     "text": [
      "18\n"
     ]
    }
   ],
   "source": [
    "import requests as req\n",
    "import re\n",
    "from bs4 import BeautifulSoup\n",
    "\n",
    "pageUrls = []\n",
    "for season in range(9):\n",
    "    url = \"https://friendsfullepisodes.com/browse-watch-friends-season-{}-with-english-subtitles-videos-1-date.html\".format(season+2)\n",
    "#     print(url)\n",
    "    page = req.get(url)\n",
    "    soup = BeautifulSoup(page.text)\n",
    "    noOfPages = len(soup.find('ul',{\"class\":\"pagination pagination-sm pagination-arrows\"}).findAll('li')) - 2\n",
    "    for i in range(noOfPages):\n",
    "        pageUrls.append(\"https://friendsfullepisodes.com/browse-watch-friends-season-{}-with-english-subtitles-videos-{}-date.html\".format(season+2,i+1))\n",
    "print(len(pageUrls))"
   ]
  },
  {
   "cell_type": "code",
   "execution_count": 113,
   "metadata": {},
   "outputs": [
    {
     "name": "stdout",
     "output_type": "stream",
     "text": [
      "18\n"
     ]
    }
   ],
   "source": [
    "with open(\"FriendsLink.txt\",'r') as file:\n",
    "    link=file.read()\n",
    "links = re.split(\": \",link)[:-1]\n",
    "print(len(links))"
   ]
  },
  {
   "cell_type": "code",
   "execution_count": 115,
   "metadata": {},
   "outputs": [
    {
     "name": "stdout",
     "output_type": "stream",
     "text": [
      "https://friendsfullepisodes.com/browse-watch-friends-season-2-with-english-subtitles-videos-1-date.html\n"
     ]
    }
   ],
   "source": []
  },
  {
   "cell_type": "code",
   "execution_count": 133,
   "metadata": {
    "collapsed": true
   },
   "outputs": [
    {
     "name": "stdout",
     "output_type": "stream",
     "text": [
      "Friends S2E1 season 2 episode 1 - The One with Rosss New Girlfriend 1995 with English subtitles\n",
      "Friends S2E2 season 2 episode 2 - The One with the Breast Milk 1995 with English subtitles\n",
      "Friends S2E3 season 2 episode 3 - The One Where Heckles Dies with English subtitles\n",
      "Friends S2E4 season 2 episode 4 - The One with Phoebes Husband 1995 with English subtitles\n",
      "Friends S2E5 season 2 episode 5 - The One with Five Steaks and an Eggplant 1995 with English subtitl\n",
      "Friends S2E6 season 2 episode 6 - The One with the Baby on the Bus 1995 with English subtitles\n",
      "Friends S2E7 season 2 episode 7 - The One Where Ross Finds Out with English subtitles\n",
      "Friends S2E8 season 2 episode 8 - The One with the List 1995 with English subtitles\n",
      "Friends S2E9 season 2 episode 9 - The One with Phoebes Dad 1995 with English subtitles\n",
      "Friends S2E10 season 2 episode 10 - The One with Russ 1996 with English subtitles\n",
      "Friends S2E11 season 2 episode 11 - The One with the Lesbian Wedding 1996 with English subtitles\n",
      "Friends S2E12 season 2 episode 12 - The One After the Superbowl: Part 1 1996 with English subtitles\n",
      "Friends S2E13 season 2 episode 13 - The One After the Superbowl: Part 2 1996 with English subtitles\n",
      "Friends S2E14 season 2 episode 14 - The One with the Prom Video 1996 with English subtitles\n",
      "Friends S2E15 season 2 episode 15 - The One Where Ross and Rachel... You Know 1996 with English subt\n",
      "Friends S2E16 season 2 episode 16 - The One Where Joey Moves Out 1996 with English subtitles\n",
      "['The One with Rosss New Girlfriend', 'The One with the Breast Milk', 'The One Where Heckles Dies', 'The One with Phoebes Husband', 'The One with Five Steaks and an Eggplant', 'The One with the Baby on the Bus', 'The One Where Ross Finds Out', 'The One with the List', 'The One with Phoebes Dad', 'The One with Russ', 'The One with the Lesbian Wedding', 'The One After the Superbowl: Part 1', 'The One After the Superbowl: Part 2', 'The One with the Prom Video', 'The One Where Ross and Rachel... You Know', 'The One Where Joey Moves Out']\n"
     ]
    }
   ],
   "source": [
    "#get Episode name from \n",
    "\n",
    "ti = []\n",
    "\n",
    "epi = req.get(links[0]).text\n",
    "episoup = BeautifulSoup(epi)\n",
    "res = episoup.find('ul',{\"class\":\"row pm-ul-browse-videos list-unstyled\",\"id\":\"pm-grid\"}).findAll('li')\n",
    "for row in res:\n",
    "    name = row.find(\"div\",{\"class\":\"caption\"}).h3.a.text\n",
    "    r = re.search(r'- (.*?) (199[0-9]|with English)',name).group(1)\n",
    "    ti.append(r)\n",
    "print(ti)"
   ]
  },
  {
   "cell_type": "code",
   "execution_count": 152,
   "metadata": {
    "scrolled": true
   },
   "outputs": [],
   "source": [
    "baseLink =\"http://s22.dropapk.to:182/d/f3c6mzwc4tcdvbi4b6z5lfi527jqta76ocyxlfx3mt4zgythlyxyjsbd2dts3wj7bu5hvo43/Friends%20S0{}E{}%20{}%20(1080p%20x265%2010bit%20Joy).mkv\"\n",
    "season = 2\n",
    "eps = [24,24,25,24,24,25,24,24,24,18]\n",
    "downloadLinks=[]\n",
    "# for season in range(10):\n",
    "for ep in range(16):\n",
    "    title = ti[ep].replace(\" \",\"%20\") + \"%20\"\n",
    "    baseLink = \"http://s22.dropapk.to:182/d/f3c6mzwc4tcdvbi4b6z5lfi527jqta76ocyxlfx3mt4zgythlyxyjsbd2dts3wj7bu5hvo43/Friends%20S0{}E0{}%20{}%20(1080p%20x265%2010bit%20Joy).mkv\".format(season+1, ep+1, title)\n",
    "    ep=ep+1\n",
    "    downloadLinks.append(baseLink)"
   ]
  },
  {
   "cell_type": "code",
   "execution_count": 154,
   "metadata": {
    "scrolled": true
   },
   "outputs": [
    {
     "name": "stdout",
     "output_type": "stream",
     "text": [
      "http://s22.dropapk.to:182/d/f3c6mzwc4tcdvbi4b6z5lfi527jqta76ocyxlfx3mt4zgythlyxyjsbd2dts3wj7bu5hvo43/Friends%20S03E01%20The%20One%20with%20Rosss%20New%20Girlfriend%20%20(1080p%20x265%2010bit%20Joy).mkv\n",
      "http://s22.dropapk.to:182/d/f3c6mzwc4tcdvbi4b6z5lfi527jqta76ocyxlfx3mt4zgythlyxyjsbd2dts3wj7bu5hvo43/Friends%20S03E02%20The%20One%20with%20the%20Breast%20Milk%20%20(1080p%20x265%2010bit%20Joy).mkv\n",
      "http://s22.dropapk.to:182/d/f3c6mzwc4tcdvbi4b6z5lfi527jqta76ocyxlfx3mt4zgythlyxyjsbd2dts3wj7bu5hvo43/Friends%20S03E03%20The%20One%20Where%20Heckles%20Dies%20%20(1080p%20x265%2010bit%20Joy).mkv\n",
      "http://s22.dropapk.to:182/d/f3c6mzwc4tcdvbi4b6z5lfi527jqta76ocyxlfx3mt4zgythlyxyjsbd2dts3wj7bu5hvo43/Friends%20S03E04%20The%20One%20with%20Phoebes%20Husband%20%20(1080p%20x265%2010bit%20Joy).mkv\n",
      "http://s22.dropapk.to:182/d/f3c6mzwc4tcdvbi4b6z5lfi527jqta76ocyxlfx3mt4zgythlyxyjsbd2dts3wj7bu5hvo43/Friends%20S03E05%20The%20One%20with%20Five%20Steaks%20and%20an%20Eggplant%20%20(1080p%20x265%2010bit%20Joy).mkv\n",
      "http://s22.dropapk.to:182/d/f3c6mzwc4tcdvbi4b6z5lfi527jqta76ocyxlfx3mt4zgythlyxyjsbd2dts3wj7bu5hvo43/Friends%20S03E06%20The%20One%20with%20the%20Baby%20on%20the%20Bus%20%20(1080p%20x265%2010bit%20Joy).mkv\n",
      "http://s22.dropapk.to:182/d/f3c6mzwc4tcdvbi4b6z5lfi527jqta76ocyxlfx3mt4zgythlyxyjsbd2dts3wj7bu5hvo43/Friends%20S03E07%20The%20One%20Where%20Ross%20Finds%20Out%20%20(1080p%20x265%2010bit%20Joy).mkv\n",
      "http://s22.dropapk.to:182/d/f3c6mzwc4tcdvbi4b6z5lfi527jqta76ocyxlfx3mt4zgythlyxyjsbd2dts3wj7bu5hvo43/Friends%20S03E08%20The%20One%20with%20the%20List%20%20(1080p%20x265%2010bit%20Joy).mkv\n",
      "http://s22.dropapk.to:182/d/f3c6mzwc4tcdvbi4b6z5lfi527jqta76ocyxlfx3mt4zgythlyxyjsbd2dts3wj7bu5hvo43/Friends%20S03E09%20The%20One%20with%20Phoebes%20Dad%20%20(1080p%20x265%2010bit%20Joy).mkv\n",
      "http://s22.dropapk.to:182/d/f3c6mzwc4tcdvbi4b6z5lfi527jqta76ocyxlfx3mt4zgythlyxyjsbd2dts3wj7bu5hvo43/Friends%20S03E010%20The%20One%20with%20Russ%20%20(1080p%20x265%2010bit%20Joy).mkv\n",
      "http://s22.dropapk.to:182/d/f3c6mzwc4tcdvbi4b6z5lfi527jqta76ocyxlfx3mt4zgythlyxyjsbd2dts3wj7bu5hvo43/Friends%20S03E011%20The%20One%20with%20the%20Lesbian%20Wedding%20%20(1080p%20x265%2010bit%20Joy).mkv\n",
      "http://s22.dropapk.to:182/d/f3c6mzwc4tcdvbi4b6z5lfi527jqta76ocyxlfx3mt4zgythlyxyjsbd2dts3wj7bu5hvo43/Friends%20S03E012%20The%20One%20After%20the%20Superbowl:%20Part%201%20%20(1080p%20x265%2010bit%20Joy).mkv\n",
      "http://s22.dropapk.to:182/d/f3c6mzwc4tcdvbi4b6z5lfi527jqta76ocyxlfx3mt4zgythlyxyjsbd2dts3wj7bu5hvo43/Friends%20S03E013%20The%20One%20After%20the%20Superbowl:%20Part%202%20%20(1080p%20x265%2010bit%20Joy).mkv\n",
      "http://s22.dropapk.to:182/d/f3c6mzwc4tcdvbi4b6z5lfi527jqta76ocyxlfx3mt4zgythlyxyjsbd2dts3wj7bu5hvo43/Friends%20S03E014%20The%20One%20with%20the%20Prom%20Video%20%20(1080p%20x265%2010bit%20Joy).mkv\n",
      "http://s22.dropapk.to:182/d/f3c6mzwc4tcdvbi4b6z5lfi527jqta76ocyxlfx3mt4zgythlyxyjsbd2dts3wj7bu5hvo43/Friends%20S03E015%20The%20One%20Where%20Ross%20and%20Rachel...%20You%20Know%20%20(1080p%20x265%2010bit%20Joy).mkv\n",
      "http://s22.dropapk.to:182/d/f3c6mzwc4tcdvbi4b6z5lfi527jqta76ocyxlfx3mt4zgythlyxyjsbd2dts3wj7bu5hvo43/Friends%20S03E016%20The%20One%20Where%20Joey%20Moves%20Out%20%20(1080p%20x265%2010bit%20Joy).mkv\n"
     ]
    }
   ],
   "source": [
    "for li in downloadLinks:\n",
    "    print(li)"
   ]
  },
  {
   "cell_type": "code",
   "execution_count": 174,
   "metadata": {
    "collapsed": true
   },
   "outputs": [
    {
     "name": "stdout",
     "output_type": "stream",
     "text": [
      "[<tbody>\n",
      "<tr>\n",
      "<td>Resolution</td>\n",
      "<td>Quality</td>\n",
      "<td>Language</td>\n",
      "<td>Download</td>\n",
      "</tr>\n",
      "<tr>\n",
      "<td>720p.x264</td>\n",
      "<td>BLURAY</td>\n",
      "<td>English</td>\n",
      "<td><a class=\"su-button su-button-style-default\" href=\"https://www.tvseriesnmovies.com/links/view/rKprdK7kP4\" rel=\"noopener noreferrer\" style=\"color:#000000;background-color:#ffffff00;border-color:#cccccc;border-radius:5px;-moz-border-radius:5px;-webkit-border-radius:5px\" target=\"_blank\" title=\"Download\"><span style=\"color:#000000;padding:6px 16px;font-size:13px;line-height:20px;border-color:#ffffff00;border-radius:5px;-moz-border-radius:5px;-webkit-border-radius:5px;text-shadow:none;-moz-text-shadow:none;-webkit-text-shadow:none\"><i class=\"sui sui-cloud-download\" style=\"font-size:13px;color:#000000\"></i> Download</span></a></td>\n",
      "</tr>\n",
      "<tr>\n",
      "<td>1080p.x265</td>\n",
      "<td>BLURAY</td>\n",
      "<td>English</td>\n",
      "<td><a class=\"su-button su-button-style-default\" href=\"https://www.tvseriesnmovies.com/links/view/jXnQT7AhQR\" rel=\"noopener noreferrer\" style=\"color:#000000;background-color:#ffffff00;border-color:#cccccc;border-radius:5px;-moz-border-radius:5px;-webkit-border-radius:5px\" target=\"_blank\" title=\"Download\"><span style=\"color:#000000;padding:6px 16px;font-size:13px;line-height:20px;border-color:#ffffff00;border-radius:5px;-moz-border-radius:5px;-webkit-border-radius:5px;text-shadow:none;-moz-text-shadow:none;-webkit-text-shadow:none\"><i class=\"sui sui-cloud-download\" style=\"font-size:13px;color:#000000\"></i> Download</span></a></td>\n",
      "</tr>\n",
      "</tbody>, <tbody>\n",
      "<tr>\n",
      "<td>Resolution</td>\n",
      "<td>Quality</td>\n",
      "<td>Language</td>\n",
      "<td>Download</td>\n",
      "</tr>\n",
      "<tr>\n",
      "<td>720p.x264</td>\n",
      "<td>BLURAY</td>\n",
      "<td>English</td>\n",
      "<td><a class=\"su-button su-button-style-default\" href=\"https://www.tvseriesnmovies.com/links/view/PFTrfykqP8\" rel=\"noopener noreferrer\" style=\"color:#000000;background-color:#ffffff00;border-color:#cccccc;border-radius:5px;-moz-border-radius:5px;-webkit-border-radius:5px\" target=\"_blank\" title=\"Download\"><span style=\"color:#000000;padding:6px 16px;font-size:13px;line-height:20px;border-color:#ffffff00;border-radius:5px;-moz-border-radius:5px;-webkit-border-radius:5px;text-shadow:none;-moz-text-shadow:none;-webkit-text-shadow:none\"><i class=\"sui sui-cloud-download\" style=\"font-size:13px;color:#000000\"></i> Download</span></a></td>\n",
      "</tr>\n",
      "<tr>\n",
      "<td>1080p.x265</td>\n",
      "<td>BLURAY</td>\n",
      "<td>English</td>\n",
      "<td><a class=\"su-button su-button-style-default\" href=\"https://www.tvseriesnmovies.com/links/view/oU4eBB8P3F\" rel=\"noopener noreferrer\" style=\"color:#000000;background-color:#ffffff00;border-color:#cccccc;border-radius:5px;-moz-border-radius:5px;-webkit-border-radius:5px\" target=\"_blank\" title=\"Download\"><span style=\"color:#000000;padding:6px 16px;font-size:13px;line-height:20px;border-color:#ffffff00;border-radius:5px;-moz-border-radius:5px;-webkit-border-radius:5px;text-shadow:none;-moz-text-shadow:none;-webkit-text-shadow:none\"><i class=\"sui sui-cloud-download\" style=\"font-size:13px;color:#000000\"></i> Download</span></a></td>\n",
      "</tr>\n",
      "</tbody>, <tbody>\n",
      "<tr>\n",
      "<td>Resolution</td>\n",
      "<td>Quality</td>\n",
      "<td>Language</td>\n",
      "<td>Download</td>\n",
      "</tr>\n",
      "<tr>\n",
      "<td>720p.x264</td>\n",
      "<td>BLURAY</td>\n",
      "<td>English</td>\n",
      "<td><a class=\"su-button su-button-style-default\" href=\"https://www.tvseriesnmovies.com/links/view/GaEDUzeUwJ\" rel=\"noopener noreferrer\" style=\"color:#000000;background-color:#ffffff00;border-color:#cccccc;border-radius:5px;-moz-border-radius:5px;-webkit-border-radius:5px\" target=\"_blank\" title=\"Download\"><span style=\"color:#000000;padding:6px 16px;font-size:13px;line-height:20px;border-color:#ffffff00;border-radius:5px;-moz-border-radius:5px;-webkit-border-radius:5px;text-shadow:none;-moz-text-shadow:none;-webkit-text-shadow:none\"><i class=\"sui sui-cloud-download\" style=\"font-size:13px;color:#000000\"></i> Download</span></a></td>\n",
      "</tr>\n",
      "<tr>\n",
      "<td>1080p.x265</td>\n",
      "<td>BLURAY</td>\n",
      "<td>English</td>\n",
      "<td><a class=\"su-button su-button-style-default\" href=\"https://www.tvseriesnmovies.com/links/view/Nw3zTmphos\" rel=\"noopener noreferrer\" style=\"color:#000000;background-color:#ffffff00;border-color:#cccccc;border-radius:5px;-moz-border-radius:5px;-webkit-border-radius:5px\" target=\"_blank\" title=\"Download\"><span style=\"color:#000000;padding:6px 16px;font-size:13px;line-height:20px;border-color:#ffffff00;border-radius:5px;-moz-border-radius:5px;-webkit-border-radius:5px;text-shadow:none;-moz-text-shadow:none;-webkit-text-shadow:none\"><i class=\"sui sui-cloud-download\" style=\"font-size:13px;color:#000000\"></i> Download</span></a></td>\n",
      "</tr>\n",
      "</tbody>, <tbody>\n",
      "<tr>\n",
      "<td>Resolution</td>\n",
      "<td>Quality</td>\n",
      "<td>Language</td>\n",
      "<td>Download</td>\n",
      "</tr>\n",
      "<tr>\n",
      "<td>720p.x264</td>\n",
      "<td>BLURAY</td>\n",
      "<td>English</td>\n",
      "<td><a class=\"su-button su-button-style-default\" href=\"https://www.tvseriesnmovies.com/links/view/Ygcyahpx6M\" rel=\"noopener noreferrer\" style=\"color:#000000;background-color:#ffffff00;border-color:#cccccc;border-radius:5px;-moz-border-radius:5px;-webkit-border-radius:5px\" target=\"_blank\" title=\"Download\"><span style=\"color:#000000;padding:6px 16px;font-size:13px;line-height:20px;border-color:#ffffff00;border-radius:5px;-moz-border-radius:5px;-webkit-border-radius:5px;text-shadow:none;-moz-text-shadow:none;-webkit-text-shadow:none\"><i class=\"sui sui-cloud-download\" style=\"font-size:13px;color:#000000\"></i> Download</span></a></td>\n",
      "</tr>\n",
      "<tr>\n",
      "<td>1080p.x265</td>\n",
      "<td>BLURAY</td>\n",
      "<td>English</td>\n",
      "<td><a class=\"su-button su-button-style-default\" href=\"https://www.tvseriesnmovies.com/links/view/qgPHS7baPk\" rel=\"noopener noreferrer\" style=\"color:#000000;background-color:#ffffff00;border-color:#cccccc;border-radius:5px;-moz-border-radius:5px;-webkit-border-radius:5px\" target=\"_blank\" title=\"Download\"><span style=\"color:#000000;padding:6px 16px;font-size:13px;line-height:20px;border-color:#ffffff00;border-radius:5px;-moz-border-radius:5px;-webkit-border-radius:5px;text-shadow:none;-moz-text-shadow:none;-webkit-text-shadow:none\"><i class=\"sui sui-cloud-download\" style=\"font-size:13px;color:#000000\"></i> Download</span></a></td>\n",
      "</tr>\n",
      "</tbody>, <tbody>\n",
      "<tr>\n",
      "<td>Resolution</td>\n",
      "<td>Quality</td>\n",
      "<td>Language</td>\n",
      "<td>Download</td>\n",
      "</tr>\n",
      "<tr>\n",
      "<td>720p.x264</td>\n",
      "<td>BLURAY</td>\n",
      "<td>English</td>\n",
      "<td><a class=\"su-button su-button-style-default\" href=\"https://www.tvseriesnmovies.com/links/view/IUp5eamOOj\" rel=\"noopener noreferrer\" style=\"color:#000000;background-color:#ffffff00;border-color:#cccccc;border-radius:5px;-moz-border-radius:5px;-webkit-border-radius:5px\" target=\"_blank\" title=\"Download\"><span style=\"color:#000000;padding:6px 16px;font-size:13px;line-height:20px;border-color:#ffffff00;border-radius:5px;-moz-border-radius:5px;-webkit-border-radius:5px;text-shadow:none;-moz-text-shadow:none;-webkit-text-shadow:none\"><i class=\"sui sui-cloud-download\" style=\"font-size:13px;color:#000000\"></i> Download</span></a></td>\n",
      "</tr>\n",
      "<tr>\n",
      "<td>1080p.x265</td>\n",
      "<td>BLURAY</td>\n",
      "<td>English</td>\n",
      "<td><a class=\"su-button su-button-style-default\" href=\"https://www.tvseriesnmovies.com/links/view/B6ymhGcZ9F\" rel=\"noopener noreferrer\" style=\"color:#000000;background-color:#ffffff00;border-color:#cccccc;border-radius:5px;-moz-border-radius:5px;-webkit-border-radius:5px\" target=\"_blank\" title=\"Download\"><span style=\"color:#000000;padding:6px 16px;font-size:13px;line-height:20px;border-color:#ffffff00;border-radius:5px;-moz-border-radius:5px;-webkit-border-radius:5px;text-shadow:none;-moz-text-shadow:none;-webkit-text-shadow:none\"><i class=\"sui sui-cloud-download\" style=\"font-size:13px;color:#000000\"></i> Download</span></a></td>\n",
      "</tr>\n",
      "</tbody>, <tbody>\n",
      "<tr>\n",
      "<td>Resolution</td>\n",
      "<td>Quality</td>\n",
      "<td>Language</td>\n",
      "<td>Download</td>\n",
      "</tr>\n",
      "<tr>\n",
      "<td>720p.x264</td>\n",
      "<td>BLURAY</td>\n",
      "<td>English</td>\n",
      "<td><a class=\"su-button su-button-style-default\" href=\"https://www.tvseriesnmovies.com/links/view/wMeEAsCvrV\" rel=\"noopener noreferrer\" style=\"color:#000000;background-color:#ffffff00;border-color:#cccccc;border-radius:5px;-moz-border-radius:5px;-webkit-border-radius:5px\" target=\"_blank\" title=\"Download\"><span style=\"color:#000000;padding:6px 16px;font-size:13px;line-height:20px;border-color:#ffffff00;border-radius:5px;-moz-border-radius:5px;-webkit-border-radius:5px;text-shadow:none;-moz-text-shadow:none;-webkit-text-shadow:none\"><i class=\"sui sui-cloud-download\" style=\"font-size:13px;color:#000000\"></i> Download</span></a></td>\n",
      "</tr>\n",
      "<tr>\n",
      "<td>1080p.x265</td>\n",
      "<td>BLURAY</td>\n",
      "<td>English</td>\n",
      "<td><a class=\"su-button su-button-style-default\" href=\"https://www.tvseriesnmovies.com/links/view/jurU5zxASq\" rel=\"noopener noreferrer\" style=\"color:#000000;background-color:#ffffff00;border-color:#cccccc;border-radius:5px;-moz-border-radius:5px;-webkit-border-radius:5px\" target=\"_blank\" title=\"Download\"><span style=\"color:#000000;padding:6px 16px;font-size:13px;line-height:20px;border-color:#ffffff00;border-radius:5px;-moz-border-radius:5px;-webkit-border-radius:5px;text-shadow:none;-moz-text-shadow:none;-webkit-text-shadow:none\"><i class=\"sui sui-cloud-download\" style=\"font-size:13px;color:#000000\"></i> Download</span></a></td>\n",
      "</tr>\n",
      "</tbody>, <tbody>\n",
      "<tr>\n",
      "<td>Resolution</td>\n",
      "<td>Quality</td>\n",
      "<td>Language</td>\n",
      "<td>Download</td>\n",
      "</tr>\n",
      "<tr>\n",
      "<td>720p.x264</td>\n",
      "<td>BLURAY</td>\n",
      "<td>English</td>\n",
      "<td><a class=\"su-button su-button-style-default\" href=\"https://www.tvseriesnmovies.com/links/view/3yiKzVg5zH\" rel=\"noopener noreferrer\" style=\"color:#000000;background-color:#ffffff00;border-color:#cccccc;border-radius:5px;-moz-border-radius:5px;-webkit-border-radius:5px\" target=\"_blank\" title=\"Download\"><span style=\"color:#000000;padding:6px 16px;font-size:13px;line-height:20px;border-color:#ffffff00;border-radius:5px;-moz-border-radius:5px;-webkit-border-radius:5px;text-shadow:none;-moz-text-shadow:none;-webkit-text-shadow:none\"><i class=\"sui sui-cloud-download\" style=\"font-size:13px;color:#000000\"></i> Download</span></a></td>\n",
      "</tr>\n",
      "<tr>\n",
      "<td>1080p.x265</td>\n",
      "<td>BLURAY</td>\n",
      "<td>English</td>\n",
      "<td><a class=\"su-button su-button-style-default\" href=\"https://www.tvseriesnmovies.com/links/view/UjD4TKT5C4\" rel=\"noopener noreferrer\" style=\"color:#000000;background-color:#ffffff00;border-color:#cccccc;border-radius:5px;-moz-border-radius:5px;-webkit-border-radius:5px\" target=\"_blank\" title=\"Download\"><span style=\"color:#000000;padding:6px 16px;font-size:13px;line-height:20px;border-color:#ffffff00;border-radius:5px;-moz-border-radius:5px;-webkit-border-radius:5px;text-shadow:none;-moz-text-shadow:none;-webkit-text-shadow:none\"><i class=\"sui sui-cloud-download\" style=\"font-size:13px;color:#000000\"></i> Download</span></a></td>\n",
      "</tr>\n",
      "</tbody>, <tbody>\n",
      "<tr>\n",
      "<td>Resolution</td>\n",
      "<td>Quality</td>\n",
      "<td>Language</td>\n",
      "<td>Download</td>\n",
      "</tr>\n",
      "<tr>\n",
      "<td>720p.x264</td>\n",
      "<td>BLURAY</td>\n",
      "<td>English</td>\n",
      "<td><a class=\"su-button su-button-style-default\" href=\"https://www.tvseriesnmovies.com/links/view/Vn14b8wy0k\" rel=\"noopener noreferrer\" style=\"color:#000000;background-color:#ffffff00;border-color:#cccccc;border-radius:5px;-moz-border-radius:5px;-webkit-border-radius:5px\" target=\"_blank\" title=\"Download\"><span style=\"color:#000000;padding:6px 16px;font-size:13px;line-height:20px;border-color:#ffffff00;border-radius:5px;-moz-border-radius:5px;-webkit-border-radius:5px;text-shadow:none;-moz-text-shadow:none;-webkit-text-shadow:none\"><i class=\"sui sui-cloud-download\" style=\"font-size:13px;color:#000000\"></i> Download</span></a></td>\n",
      "</tr>\n",
      "<tr>\n",
      "<td>1080p.x265</td>\n",
      "<td>BLURAY</td>\n",
      "<td>English</td>\n",
      "<td><a class=\"su-button su-button-style-default\" href=\"https://www.tvseriesnmovies.com/links/view/ng24cUwRPP\" rel=\"noopener noreferrer\" style=\"color:#000000;background-color:#ffffff00;border-color:#cccccc;border-radius:5px;-moz-border-radius:5px;-webkit-border-radius:5px\" target=\"_blank\" title=\"Download\"><span style=\"color:#000000;padding:6px 16px;font-size:13px;line-height:20px;border-color:#ffffff00;border-radius:5px;-moz-border-radius:5px;-webkit-border-radius:5px;text-shadow:none;-moz-text-shadow:none;-webkit-text-shadow:none\"><i class=\"sui sui-cloud-download\" style=\"font-size:13px;color:#000000\"></i> Download</span></a></td>\n",
      "</tr>\n",
      "</tbody>, <tbody>\n",
      "<tr>\n",
      "<td>Resolution</td>\n",
      "<td>Quality</td>\n",
      "<td>Language</td>\n",
      "<td>Download</td>\n",
      "</tr>\n",
      "<tr>\n",
      "<td>720p.x264</td>\n",
      "<td>BLURAY</td>\n",
      "<td>English</td>\n",
      "<td><a class=\"su-button su-button-style-default\" href=\"https://www.tvseriesnmovies.com/links/view/VtCH2fxT5c\" rel=\"noopener noreferrer\" style=\"color:#000000;background-color:#ffffff00;border-color:#cccccc;border-radius:5px;-moz-border-radius:5px;-webkit-border-radius:5px\" target=\"_blank\" title=\"Download\"><span style=\"color:#000000;padding:6px 16px;font-size:13px;line-height:20px;border-color:#ffffff00;border-radius:5px;-moz-border-radius:5px;-webkit-border-radius:5px;text-shadow:none;-moz-text-shadow:none;-webkit-text-shadow:none\"><i class=\"sui sui-cloud-download\" style=\"font-size:13px;color:#000000\"></i> Download</span></a></td>\n",
      "</tr>\n",
      "<tr>\n",
      "<td>1080p.x265</td>\n",
      "<td>BLURAY</td>\n",
      "<td>English</td>\n",
      "<td><a class=\"su-button su-button-style-default\" href=\"https://www.tvseriesnmovies.com/links/view/xktdtDeNDU\" rel=\"noopener noreferrer\" style=\"color:#000000;background-color:#ffffff00;border-color:#cccccc;border-radius:5px;-moz-border-radius:5px;-webkit-border-radius:5px\" target=\"_blank\" title=\"Download\"><span style=\"color:#000000;padding:6px 16px;font-size:13px;line-height:20px;border-color:#ffffff00;border-radius:5px;-moz-border-radius:5px;-webkit-border-radius:5px;text-shadow:none;-moz-text-shadow:none;-webkit-text-shadow:none\"><i class=\"sui sui-cloud-download\" style=\"font-size:13px;color:#000000\"></i> Download</span></a></td>\n",
      "</tr>\n",
      "</tbody>, <tbody>\n",
      "<tr>\n",
      "<td>Resolution</td>\n",
      "<td>Quality</td>\n",
      "<td>Language</td>\n",
      "<td>Download</td>\n",
      "</tr>\n",
      "<tr>\n",
      "<td>720p.x264</td>\n",
      "<td>BLURAY</td>\n",
      "<td>English</td>\n",
      "<td><a class=\"su-button su-button-style-default\" href=\"https://www.tvseriesnmovies.com/links/view/QjZmXZ7wp4\" rel=\"noopener noreferrer\" style=\"color:#000000;background-color:#ffffff00;border-color:#cccccc;border-radius:5px;-moz-border-radius:5px;-webkit-border-radius:5px\" target=\"_blank\" title=\"Download\"><span style=\"color:#000000;padding:6px 16px;font-size:13px;line-height:20px;border-color:#ffffff00;border-radius:5px;-moz-border-radius:5px;-webkit-border-radius:5px;text-shadow:none;-moz-text-shadow:none;-webkit-text-shadow:none\"><i class=\"sui sui-cloud-download\" style=\"font-size:13px;color:#000000\"></i> Download</span></a></td>\n",
      "</tr>\n",
      "<tr>\n",
      "<td>1080p.x265</td>\n",
      "<td>BLURAY</td>\n",
      "<td>English</td>\n",
      "<td><a class=\"su-button su-button-style-default\" href=\"https://www.tvseriesnmovies.com/links/view/hT3mlkBpeC\" rel=\"noopener noreferrer\" style=\"color:#000000;background-color:#ffffff00;border-color:#cccccc;border-radius:5px;-moz-border-radius:5px;-webkit-border-radius:5px\" target=\"_blank\" title=\"Download\"><span style=\"color:#000000;padding:6px 16px;font-size:13px;line-height:20px;border-color:#ffffff00;border-radius:5px;-moz-border-radius:5px;-webkit-border-radius:5px;text-shadow:none;-moz-text-shadow:none;-webkit-text-shadow:none\"><i class=\"sui sui-cloud-download\" style=\"font-size:13px;color:#000000\"></i> Download</span></a></td>\n",
      "</tr>\n",
      "</tbody>]\n"
     ]
    }
   ],
   "source": [
    "url = 'https://www.tvseriesnmovies.com/show/index-of-friends/'\n",
    "\n",
    "text = req.get(url).text\n",
    "soup = BeautifulSoup(text)\n",
    "res = soup.findAll(\"tbody\")\n",
    "print(res[0])"
   ]
  },
  {
   "cell_type": "code",
   "execution_count": 187,
   "metadata": {},
   "outputs": [],
   "source": [
    "link = slinks[0]"
   ]
  },
  {
   "cell_type": "code",
   "execution_count": 199,
   "metadata": {},
   "outputs": [
    {
     "name": "stdout",
     "output_type": "stream",
     "text": [
      "17\n"
     ]
    }
   ],
   "source": [
    "# link to website of that seasons episode download\n",
    "text = req.get(link).text\n",
    "soup = BeautifulSoup(text)\n",
    "divs = soup.find(\"div\",{\"id\":\"text-url\"}).findAll('a')\n",
    "elink = []\n",
    "for div in divs:\n",
    "    elink.append(div['href'])\n",
    "print(len(elink))"
   ]
  },
  {
   "cell_type": "code",
   "execution_count": 200,
   "metadata": {},
   "outputs": [
    {
     "data": {
      "text/plain": [
       "'https://dropapk.to/6n6x0ph8benz'"
      ]
     },
     "execution_count": 200,
     "metadata": {},
     "output_type": "execute_result"
    }
   ],
   "source": [
    "elink[0]"
   ]
  }
 ],
 "metadata": {
  "kernelspec": {
   "display_name": "Python 3",
   "language": "python",
   "name": "python3"
  },
  "language_info": {
   "codemirror_mode": {
    "name": "ipython",
    "version": 3
   },
   "file_extension": ".py",
   "mimetype": "text/x-python",
   "name": "python",
   "nbconvert_exporter": "python",
   "pygments_lexer": "ipython3",
   "version": "3.7.6"
  }
 },
 "nbformat": 4,
 "nbformat_minor": 4
}
