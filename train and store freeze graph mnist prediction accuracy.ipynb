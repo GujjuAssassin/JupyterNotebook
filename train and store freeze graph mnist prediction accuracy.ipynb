{
 "cells": [
  {
   "cell_type": "code",
   "execution_count": 2,
   "metadata": {
    "scrolled": true
   },
   "outputs": [
    {
     "name": "stderr",
     "output_type": "stream",
     "text": [
      "WARNING: Logging before flag parsing goes to stderr.\n",
      "W1112 11:08:12.186013 12384 deprecation_wrapper.py:119] From C:\\Users\\Assessioner\\Anaconda3\\lib\\site-packages\\keras\\backend\\tensorflow_backend.py:47: The name tf.get_default_graph is deprecated. Please use tf.compat.v1.get_default_graph instead.\n",
      "\n",
      "W1112 11:08:12.247466 12384 deprecation_wrapper.py:119] From C:\\Users\\Assessioner\\Anaconda3\\lib\\site-packages\\keras\\backend\\tensorflow_backend.py:349: The name tf.placeholder is deprecated. Please use tf.compat.v1.placeholder instead.\n",
      "\n",
      "W1112 11:08:12.264331 12384 deprecation_wrapper.py:119] From C:\\Users\\Assessioner\\Anaconda3\\lib\\site-packages\\keras\\backend\\tensorflow_backend.py:3147: The name tf.random_uniform is deprecated. Please use tf.random.uniform instead.\n",
      "\n",
      "W1112 11:08:12.329273 12384 deprecation_wrapper.py:119] From C:\\Users\\Assessioner\\Anaconda3\\lib\\site-packages\\keras\\backend\\tensorflow_backend.py:3014: The name tf.nn.max_pool is deprecated. Please use tf.nn.max_pool2d instead.\n",
      "\n",
      "W1112 11:08:12.350978 12384 deprecation.py:506] From C:\\Users\\Assessioner\\Anaconda3\\lib\\site-packages\\keras\\backend\\tensorflow_backend.py:2683: calling dropout (from tensorflow.python.ops.nn_ops) with keep_prob is deprecated and will be removed in a future version.\n",
      "Instructions for updating:\n",
      "Please use `rate` instead of `keep_prob`. Rate should be set to `rate = 1 - keep_prob`.\n"
     ]
    },
    {
     "name": "stdout",
     "output_type": "stream",
     "text": [
      "garbage/image3.jpeg\n",
      "garbage/image4.jpeg\n",
      "garbage/image5.jpeg\n",
      "garbage/image6.jpeg\n",
      "garbage/image7.jpeg\n",
      "garbage/image8.jpeg\n",
      "garbage/image9.jpeg\n",
      "garbage/image10.jpeg\n",
      "garbage/image11.jpeg\n",
      "(9, 2)\n"
     ]
    },
    {
     "name": "stderr",
     "output_type": "stream",
     "text": [
      "W1112 11:08:12.415244 12384 deprecation.py:506] From C:\\Users\\Assessioner\\Anaconda3\\lib\\site-packages\\keras\\backend\\tensorflow_backend.py:1062: calling reduce_prod_v1 (from tensorflow.python.ops.math_ops) with keep_dims is deprecated and will be removed in a future version.\n",
      "Instructions for updating:\n",
      "keep_dims is deprecated, use keepdims instead\n",
      "W1112 11:08:12.555531 12384 deprecation_wrapper.py:119] From C:\\Users\\Assessioner\\Anaconda3\\lib\\site-packages\\keras\\optimizers.py:675: The name tf.train.Optimizer is deprecated. Please use tf.compat.v1.train.Optimizer instead.\n",
      "\n",
      "W1112 11:08:12.563971 12384 deprecation.py:506] From C:\\Users\\Assessioner\\Anaconda3\\lib\\site-packages\\keras\\backend\\tensorflow_backend.py:2550: calling reduce_sum_v1 (from tensorflow.python.ops.math_ops) with keep_dims is deprecated and will be removed in a future version.\n",
      "Instructions for updating:\n",
      "keep_dims is deprecated, use keepdims instead\n",
      "W1112 11:08:12.578235 12384 deprecation_wrapper.py:119] From C:\\Users\\Assessioner\\Anaconda3\\lib\\site-packages\\keras\\backend\\tensorflow_backend.py:2554: The name tf.log is deprecated. Please use tf.math.log instead.\n",
      "\n",
      "W1112 11:08:12.860611 12384 deprecation.py:323] From C:\\Users\\Assessioner\\Anaconda3\\lib\\site-packages\\tensorflow\\python\\ops\\math_grad.py:1250: add_dispatch_support.<locals>.wrapper (from tensorflow.python.ops.array_ops) is deprecated and will be removed in a future version.\n",
      "Instructions for updating:\n",
      "Use tf.where in 2.0, which has the same broadcast rule as np.where\n",
      "W1112 11:08:13.389408 12384 deprecation.py:506] From C:\\Users\\Assessioner\\Anaconda3\\lib\\site-packages\\keras\\backend\\tensorflow_backend.py:519: calling Constant.__init__ (from tensorflow.python.ops.init_ops) with dtype is deprecated and will be removed in a future version.\n",
      "Instructions for updating:\n",
      "Call initializer instance with the dtype argument instead of passing it to the constructor\n",
      "W1112 11:08:13.617784 12384 deprecation_wrapper.py:119] From C:\\Users\\Assessioner\\Anaconda3\\lib\\site-packages\\keras\\backend\\tensorflow_backend.py:762: The name tf.assign is deprecated. Please use tf.compat.v1.assign instead.\n",
      "\n"
     ]
    },
    {
     "name": "stdout",
     "output_type": "stream",
     "text": [
      "Train on 7 samples, validate on 2 samples\n"
     ]
    },
    {
     "name": "stderr",
     "output_type": "stream",
     "text": [
      "W1112 11:08:20.732881 12384 deprecation_wrapper.py:119] From C:\\Users\\Assessioner\\Anaconda3\\lib\\site-packages\\keras\\callbacks.py:628: The name tf.summary.merge_all is deprecated. Please use tf.compat.v1.summary.merge_all instead.\n",
      "\n",
      "W1112 11:08:20.733916 12384 deprecation_wrapper.py:119] From C:\\Users\\Assessioner\\Anaconda3\\lib\\site-packages\\keras\\callbacks.py:631: The name tf.summary.FileWriter is deprecated. Please use tf.compat.v1.summary.FileWriter instead.\n",
      "\n"
     ]
    },
    {
     "name": "stdout",
     "output_type": "stream",
     "text": [
      "Epoch 1/5\n",
      "7/7 [==============================] - 5s - loss: 0.7485 - acc: 0.2857 - val_loss: 0.6210 - val_acc: 0.5000\n",
      "Epoch 2/5\n",
      "7/7 [==============================] - 0s - loss: 0.6352 - acc: 0.7143 - val_loss: 0.5685 - val_acc: 0.5000\n",
      "Epoch 3/5\n",
      "7/7 [==============================] - 0s - loss: 0.6347 - acc: 0.5714 - val_loss: 0.5075 - val_acc: 1.0000\n",
      "Epoch 4/5\n",
      "7/7 [==============================] - 0s - loss: 0.4291 - acc: 1.0000 - val_loss: 0.4703 - val_acc: 1.0000\n",
      "Epoch 5/5\n",
      "7/7 [==============================] - 0s - loss: 0.4142 - acc: 1.0000 - val_loss: 0.4323 - val_acc: 1.0000\n"
     ]
    }
   ],
   "source": [
    "import keras\n",
    "from keras.models import Sequential\n",
    "from keras.layers import Dense, Dropout, Flatten\n",
    "from keras.layers import Conv2D, MaxPooling2D\n",
    "from keras import backend as K\n",
    "import numpy as np\n",
    "import tensorflow as tf\n",
    "from matplotlib import image as lib\n",
    "\n",
    "img_row, img_col = 100,100\n",
    "shape = (img_row, img_col, 1)\n",
    "numClass=2\n",
    "\n",
    "img =[]\n",
    "for i in range(3, 12):\n",
    "    name='garbage/image'+str(i)+'.jpeg'\n",
    "    timg = lib.imread(name)\n",
    "    img.append(timg[:,:,1])\n",
    "    print(name)\n",
    "img = np.asarray(img)\n",
    "img=img.reshape(img.shape[0], img_row, img_col, 1)\n",
    "input_shape=(img_row, img_col, 1)\n",
    "img.astype(np.float32)\n",
    "img = img/255\n",
    "\n",
    "label = np.loadtxt('garbage/label.txt',dtype=int,delimiter=',')\n",
    "label = keras.utils.to_categorical(label, 2)\n",
    "print(np.shape(label))\n",
    "\n",
    "\n",
    "img_train, res_train, img_test, res_test = (img[:7], label[:7], img[7:10], label[7:10])\n",
    "boardcallback = keras.callbacks.TensorBoard(log_dir='garbage/log/graph')\n",
    "model = Sequential()\n",
    "model.add(Conv2D(32,kernel_size=5, activation='relu', input_shape=shape))\n",
    "model.add(MaxPooling2D(pool_size=(5,5)))\n",
    "model.add(Dropout(0.20))\n",
    "model.add(Flatten())\n",
    "model.add(Dense(64,activation='relu'))\n",
    "model.add(Dropout(.50))\n",
    "model.add(Dense(numClass, activation='softmax'))\n",
    "model.compile(loss=keras.losses.categorical_crossentropy,\n",
    "              optimizer=keras.optimizers.Adadelta(),\n",
    "              metrics=['accuracy'])\n",
    "\n",
    "model.fit(img_train, res_train,\n",
    "          batch_size=128,\n",
    "          epochs=5,\n",
    "          verbose=1,\n",
    "          validation_data=(img_test, res_test),\n",
    "          callbacks=[boardcallback])\n",
    "\n",
    "\n",
    "score=model.evaluate(img_test, res_test, verbose=0)\n",
    "model.save('garbage/withCallback.h5')"
   ]
  },
  {
   "cell_type": "code",
   "execution_count": 37,
   "metadata": {},
   "outputs": [
    {
     "name": "stderr",
     "output_type": "stream",
     "text": [
      "W1110 12:04:25.538975 12216 hdf5_format.py:258] Error in loading the saved optimizer state. As a result, your model is starting with a freshly initialized optimizer.\n",
      "W1110 12:04:26.039410 12216 deprecation.py:323] From C:\\Users\\Assessioner\\Anaconda3\\lib\\site-packages\\tensorflow\\lite\\python\\util.py:238: convert_variables_to_constants (from tensorflow.python.framework.graph_util_impl) is deprecated and will be removed in a future version.\n",
      "Instructions for updating:\n",
      "Use `tf.compat.v1.graph_util.convert_variables_to_constants`\n",
      "W1110 12:04:26.040446 12216 deprecation.py:323] From C:\\Users\\Assessioner\\Anaconda3\\lib\\site-packages\\tensorflow\\python\\framework\\graph_util_impl.py:270: extract_sub_graph (from tensorflow.python.framework.graph_util_impl) is deprecated and will be removed in a future version.\n",
      "Instructions for updating:\n",
      "Use `tf.compat.v1.graph_util.extract_sub_graph`\n"
     ]
    },
    {
     "data": {
      "text/plain": [
       "2963040"
      ]
     },
     "execution_count": 37,
     "metadata": {},
     "output_type": "execute_result"
    }
   ],
   "source": [
    "import tensorflow as tf\n",
    "\n",
    "c = tf.lite.TFLiteConverter.from_keras_model_file('garbage/newKeras.h5')\n",
    "m = c.convert()\n",
    "open('garbage/tm.tflite','wb').write(m)"
   ]
  },
  {
   "cell_type": "code",
   "execution_count": 6,
   "metadata": {},
   "outputs": [
    {
     "name": "stdout",
     "output_type": "stream",
     "text": [
      "['conv2d_1/kernel', 'conv2d_1/bias', 'keras_learning_phase/input', 'keras_learning_phase', 'dense_1/kernel', 'dense_1/bias', 'dense_2/kernel', 'dense_2/bias', 'Adadelta/learning_rate', 'Adadelta/decay', 'Adadelta/iterations', 'total', 'count', 'training/Adadelta/accumulator_0_1', 'training/Adadelta/accumulator_1_1', 'training/Adadelta/accumulator_2_1', 'training/Adadelta/accumulator_3_1', 'training/Adadelta/accumulator_4_1', 'training/Adadelta/accumulator_5_1', 'training/Adadelta/delta_accumulator_0_1', 'training/Adadelta/delta_accumulator_1_1', 'training/Adadelta/delta_accumulator_2_1', 'training/Adadelta/delta_accumulator_3_1', 'training/Adadelta/delta_accumulator_4_1', 'training/Adadelta/delta_accumulator_5_1', 'conv2d_1_1/kernel', 'conv2d_1_1/bias', 'dense_1_1/kernel', 'dense_1_1/bias', 'dense_2_1/kernel', 'dense_2_1/bias', 'Adadelta_1/learning_rate', 'Adadelta_1/decay', 'Adadelta_1/iterations', 'total_1', 'count_1', 'training_1/Adadelta/accumulator_0_1', 'training_1/Adadelta/accumulator_1_1', 'training_1/Adadelta/accumulator_2_1', 'training_1/Adadelta/accumulator_3_1', 'training_1/Adadelta/accumulator_4_1', 'training_1/Adadelta/accumulator_5_1', 'training_1/Adadelta/delta_accumulator_0_1', 'training_1/Adadelta/delta_accumulator_1_1', 'training_1/Adadelta/delta_accumulator_2_1', 'training_1/Adadelta/delta_accumulator_3_1', 'training_1/Adadelta/delta_accumulator_4_1', 'training_1/Adadelta/delta_accumulator_5_1', 'conv2d_1_2/kernel', 'conv2d_1_2/bias', 'dense_1_2/kernel', 'dense_1_2/bias', 'dense_2_2/kernel', 'dense_2_2/bias', 'Adadelta_2/learning_rate', 'Adadelta_2/decay', 'Adadelta_2/iterations', 'total_2', 'count_2', 'training_2/Adadelta/accumulator_0_1', 'training_2/Adadelta/accumulator_1_1', 'training_2/Adadelta/accumulator_2_1', 'training_2/Adadelta/accumulator_3_1', 'training_2/Adadelta/accumulator_4_1', 'training_2/Adadelta/accumulator_5_1', 'training_2/Adadelta/delta_accumulator_0_1', 'training_2/Adadelta/delta_accumulator_1_1', 'training_2/Adadelta/delta_accumulator_2_1', 'training_2/Adadelta/delta_accumulator_3_1', 'training_2/Adadelta/delta_accumulator_4_1', 'training_2/Adadelta/delta_accumulator_5_1', 'conv2d_1_input_3', 'conv2d_1_3/kernel', 'conv2d_1_3/bias', 'conv2d_1_3/convolution/ReadVariableOp', 'conv2d_1_3/convolution', 'conv2d_1_3/BiasAdd/ReadVariableOp', 'conv2d_1_3/BiasAdd', 'conv2d_1_3/Relu', 'max_pooling2d_1_3/MaxPool', 'dropout_1_3/cond/Switch', 'dropout_1_3/cond/switch_t', 'dropout_1_3/cond/pred_id', 'dropout_1_3/cond/dropout/rate', 'dropout_1_3/cond/dropout/Shape', 'dropout_1_3/cond/dropout/Shape/Switch', 'dropout_1_3/cond/dropout/random_uniform/min', 'dropout_1_3/cond/dropout/random_uniform/max', 'dropout_1_3/cond/dropout/random_uniform/RandomUniform', 'dropout_1_3/cond/dropout/random_uniform/sub', 'dropout_1_3/cond/dropout/random_uniform/mul', 'dropout_1_3/cond/dropout/random_uniform', 'dropout_1_3/cond/dropout/sub/x', 'dropout_1_3/cond/dropout/sub', 'dropout_1_3/cond/dropout/truediv/x', 'dropout_1_3/cond/dropout/truediv', 'dropout_1_3/cond/dropout/GreaterEqual', 'dropout_1_3/cond/dropout/mul', 'dropout_1_3/cond/dropout/Cast', 'dropout_1_3/cond/dropout/mul_1', 'dropout_1_3/cond/Switch_1', 'dropout_1_3/cond/Merge', 'flatten_1_3/Shape', 'flatten_1_3/strided_slice/stack', 'flatten_1_3/strided_slice/stack_1', 'flatten_1_3/strided_slice/stack_2', 'flatten_1_3/strided_slice', 'flatten_1_3/Const', 'flatten_1_3/Prod', 'flatten_1_3/stack_641/0', 'flatten_1_3/stack_641', 'flatten_1_3/Reshape', 'dense_1_3/kernel', 'dense_1_3/bias', 'dense_1_3/MatMul/ReadVariableOp', 'dense_1_3/MatMul', 'dense_1_3/BiasAdd/ReadVariableOp', 'dense_1_3/BiasAdd', 'dense_1_3/Relu', 'dropout_2_3/cond/Switch', 'dropout_2_3/cond/switch_t', 'dropout_2_3/cond/pred_id', 'dropout_2_3/cond/dropout/rate', 'dropout_2_3/cond/dropout/Shape', 'dropout_2_3/cond/dropout/Shape/Switch', 'dropout_2_3/cond/dropout/random_uniform/min', 'dropout_2_3/cond/dropout/random_uniform/max', 'dropout_2_3/cond/dropout/random_uniform/RandomUniform', 'dropout_2_3/cond/dropout/random_uniform/sub', 'dropout_2_3/cond/dropout/random_uniform/mul', 'dropout_2_3/cond/dropout/random_uniform', 'dropout_2_3/cond/dropout/sub/x', 'dropout_2_3/cond/dropout/sub', 'dropout_2_3/cond/dropout/truediv/x', 'dropout_2_3/cond/dropout/truediv', 'dropout_2_3/cond/dropout/GreaterEqual', 'dropout_2_3/cond/dropout/mul', 'dropout_2_3/cond/dropout/Cast', 'dropout_2_3/cond/dropout/mul_1', 'dropout_2_3/cond/Switch_1', 'dropout_2_3/cond/Merge', 'dense_2_3/kernel', 'dense_2_3/bias', 'dense_2_3/MatMul/ReadVariableOp', 'dense_2_3/MatMul', 'dense_2_3/BiasAdd/ReadVariableOp', 'dense_2_3/BiasAdd', 'dense_2_3/Softmax', 'Adadelta_3/learning_rate', 'Adadelta_3/decay', 'Adadelta_3/iterations', 'total_3', 'count_3', 'training_3/Adadelta/accumulator_0_1', 'training_3/Adadelta/accumulator_1_1', 'training_3/Adadelta/accumulator_2_1', 'training_3/Adadelta/accumulator_3_1', 'training_3/Adadelta/accumulator_4_1', 'training_3/Adadelta/accumulator_5_1', 'training_3/Adadelta/delta_accumulator_0_1', 'training_3/Adadelta/delta_accumulator_1_1', 'training_3/Adadelta/delta_accumulator_2_1', 'training_3/Adadelta/delta_accumulator_3_1', 'training_3/Adadelta/delta_accumulator_4_1', 'training_3/Adadelta/delta_accumulator_5_1']\n"
     ]
    },
    {
     "data": {
      "text/plain": [
       "(<tensorflow.python.framework.ops.Graph at 0x23153fa4518>,\n",
       " 'prefix/conv2d_1/kernel:0',\n",
       " 'prefix/training_3/Adadelta/delta_accumulator_5_1:0')"
      ]
     },
     "execution_count": 6,
     "metadata": {},
     "output_type": "execute_result"
    }
   ],
   "source": [
    "import tensorflow as tf\n",
    "import numpy as np\n",
    "from matplotlib.image import imread\n",
    "\n",
    "def load_graph(file):\n",
    "    with tf.gfile.GFile(file,'rb') as file:\n",
    "        graph_def = tf.GraphDef()\n",
    "        graph_def.ParseFromString(file.read())\n",
    "        \n",
    "    with tf.Graph().as_default() as graph:\n",
    "        tf.import_graph_def(\n",
    "            graph_def, \n",
    "            name='prefix'\n",
    "        )\n",
    "    i = graph.get_operations()[0].name+':0'\n",
    "    o = graph.get_operations()[-1].name+':0'\n",
    "    nodes = [v for v in graph_def.node]\n",
    "    names = []\n",
    "    for t in nodes:\n",
    "        names.append(t.name)\n",
    "    print(names)\n",
    "    return graph, i, o\n",
    "\n",
    "load_graph('garbage/CorC.pb')"
   ]
  },
  {
   "cell_type": "code",
   "execution_count": 12,
   "metadata": {
    "scrolled": false
   },
   "outputs": [
    {
     "name": "stdout",
     "output_type": "stream",
     "text": [
      "(9, 28, 28, 1)\n",
      "[[0.0000000e+00 0.0000000e+00 0.0000000e+00 1.0000000e+00 0.0000000e+00\n",
      "  0.0000000e+00 0.0000000e+00 0.0000000e+00 0.0000000e+00 0.0000000e+00]\n",
      " [0.0000000e+00 0.0000000e+00 1.0000000e+00 0.0000000e+00 0.0000000e+00\n",
      "  0.0000000e+00 0.0000000e+00 0.0000000e+00 0.0000000e+00 0.0000000e+00]\n",
      " [0.0000000e+00 0.0000000e+00 7.6104897e-19 1.0000000e+00 0.0000000e+00\n",
      "  0.0000000e+00 0.0000000e+00 0.0000000e+00 3.0787509e-36 0.0000000e+00]\n",
      " [0.0000000e+00 0.0000000e+00 0.0000000e+00 1.0000000e+00 0.0000000e+00\n",
      "  0.0000000e+00 0.0000000e+00 0.0000000e+00 0.0000000e+00 0.0000000e+00]\n",
      " [0.0000000e+00 0.0000000e+00 0.0000000e+00 1.0000000e+00 0.0000000e+00\n",
      "  0.0000000e+00 0.0000000e+00 5.1783474e-14 0.0000000e+00 0.0000000e+00]\n",
      " [0.0000000e+00 0.0000000e+00 0.0000000e+00 0.0000000e+00 0.0000000e+00\n",
      "  1.0000000e+00 0.0000000e+00 0.0000000e+00 0.0000000e+00 0.0000000e+00]\n",
      " [0.0000000e+00 0.0000000e+00 0.0000000e+00 0.0000000e+00 0.0000000e+00\n",
      "  1.0103385e-28 0.0000000e+00 1.0000000e+00 0.0000000e+00 0.0000000e+00]\n",
      " [0.0000000e+00 0.0000000e+00 0.0000000e+00 0.0000000e+00 0.0000000e+00\n",
      "  1.0000000e+00 0.0000000e+00 0.0000000e+00 0.0000000e+00 0.0000000e+00]\n",
      " [0.0000000e+00 0.0000000e+00 0.0000000e+00 0.0000000e+00 0.0000000e+00\n",
      "  1.0000000e+00 0.0000000e+00 0.0000000e+00 0.0000000e+00 0.0000000e+00]]\n"
     ]
    }
   ],
   "source": [
    "from keras.models import load_model\n",
    "from matplotlib.image import imread\n",
    "import numpy as np\n",
    "img = []\n",
    "for i in range(9):\n",
    "    n = i+47\n",
    "    t = imread('garbage/num/image'+str(n)+'.jpeg')\n",
    "    img.append(t[:,:,0])\n",
    "img = np.asarray(img)\n",
    "img = img.reshape(img.shape[0], 28,28,1)\n",
    "print(img.shape)\n",
    "model = load_model('garbage/mnistCNN.h5')\n",
    "res = model.predict(img)\n"
   ]
  },
  {
   "cell_type": "code",
   "execution_count": 39,
   "metadata": {},
   "outputs": [
    {
     "name": "stdout",
     "output_type": "stream",
     "text": [
      "(60000, 28, 28)\n",
      "(60000, 28, 28, 1)\n",
      "res  [[4.53725425e-12 5.25411004e-08 8.25262259e-09 1.78322829e-02\n",
      "  1.42837036e-11 9.82057452e-01 1.72265349e-12 6.97482117e-09\n",
      "  9.42054967e-09 1.10118388e-04]\n",
      " [9.99999881e-01 1.03878739e-10 5.80528976e-08 8.82231441e-11\n",
      "  7.18288895e-09 1.03415497e-11 1.53986619e-08 2.28855379e-09\n",
      "  1.90051197e-09 9.15772063e-08]\n",
      " [1.84740053e-11 1.25618881e-05 3.43615216e-06 2.07954010e-09\n",
      "  9.99878287e-01 8.89216145e-10 2.86357014e-11 7.31993977e-09\n",
      "  1.26727753e-06 1.04442028e-04]]\n",
      "act  [5 0 4]\n"
     ]
    }
   ],
   "source": [
    "from skimage.color import rgb2gray\n",
    "import matplotlib.pyplot as plt\n",
    "from keras.models import load_model\n",
    "from matplotlib.image import imread\n",
    "from keras.datasets.mnist import load_data\n",
    "(x_train, y_train), (x_test, y_test) = load_data()\n",
    "lst = x_train\n",
    "'''for i in range(3):\n",
    "    img = imread('garbage/num/image' + str(i+52) + '.jpeg')\n",
    "    gray = rgb2gray(img)\n",
    "    lst.append(gray)'''\n",
    "x_train = np.asarray(x_train)\n",
    "print(x_train.shape)\n",
    "x_train = x_train.reshape(x_train.shape[0], 28, 28, 1)\n",
    "print(x_train.shape)\n",
    "x_train = x_train.astype('float32')\n",
    "x_train /= 255\n",
    "model=load_model('garbage/models/retrained.h5')\n",
    "pre = model.predict(x_train[0:3])\n",
    "print('res ', pre)\n",
    "print('act ', y_train[0:3])"
   ]
  },
  {
   "cell_type": "code",
   "execution_count": 36,
   "metadata": {
    "scrolled": true
   },
   "outputs": [
    {
     "data": {
      "text/plain": [
       "<matplotlib.image.AxesImage at 0x211c2fa5b70>"
      ]
     },
     "execution_count": 36,
     "metadata": {},
     "output_type": "execute_result"
    },
    {
     "data": {
      "image/png": "[encoded data removed]",
      "text/plain": [
       "<Figure size 432x288 with 1 Axes>"
      ]
     },
     "metadata": {
      "needs_background": "light"
     },
     "output_type": "display_data"
    }
   ],
   "source": [
    "import matplotlib.pyplot as plt\n",
    "from keras.datasets.mnist import load_data\n",
    "(x_train, y_train), (x_test, y_test) = load_data()\n",
    "plt.imshow(x_train[0])\n"
   ]
  },
  {
   "cell_type": "code",
   "execution_count": 81,
   "metadata": {
    "scrolled": true
   },
   "outputs": [
    {
     "data": {
      "text/plain": [
       "<matplotlib.image.AxesImage at 0x129e8755710>"
      ]
     },
     "execution_count": 81,
     "metadata": {},
     "output_type": "execute_result"
    },
    {
     "data": {
      "image/png": "[encoded data removed]",
      "text/plain": [
       "<Figure size 432x288 with 1 Axes>"
      ]
     },
     "metadata": {
      "needs_background": "light"
     },
     "output_type": "display_data"
    }
   ],
   "source": [
    "import matplotlib.pyplot as plt\n",
    "from matplotlib.image import imread\n",
    "import numpy as np\n",
    "\n",
    "def convertToBlackWhite(img):\n",
    "    img = np.reshape(img, (28*28*3))\n",
    "    tem = []\n",
    "    for i in range(28*28):\n",
    "        if(img[i*3+1] < 90) and (img[i*3+2] < 90):\n",
    "            tem.append(0)\n",
    "            tem.append(0)\n",
    "            tem.append(0)\n",
    "\n",
    "        else:\n",
    "            tem.append(255)\n",
    "            tem.append(255)\n",
    "            tem.append(255)\n",
    "    tem = np.asarray(tem)\n",
    "    tem = np.reshape(tem, (28, 28, 3))\n",
    "    return tem\n",
    "'''for i in range(3):\n",
    "    t = '''\n",
    "img = imread('garbage/num/image54.jpeg')\n",
    "img = convertToBlackWhite(img)\n",
    "\n",
    "plt.imshow(img)"
   ]
  },
  {
   "cell_type": "code",
   "execution_count": 2,
   "metadata": {
    "scrolled": true
   },
   "outputs": [
    {
     "name": "stdout",
     "output_type": "stream",
     "text": [
      "(4, 28, 28)\n",
      "[[0. 0. 0. 1. 0. 0. 0. 0. 0. 0.]\n",
      " [0. 0. 0. 0. 0. 0. 0. 1. 0. 0.]\n",
      " [0. 0. 0. 0. 0. 1. 0. 0. 0. 0.]\n",
      " [0. 0. 0. 0. 0. 0. 1. 0. 0. 0.]]\n",
      "[87, 91, 99, 37]\n"
     ]
    }
   ],
   "source": [
    "from keras.models import load_model\n",
    "from matplotlib.image import imread\n",
    "import numpy as np\n",
    "\n",
    "def convertToBlackWhite(img):\n",
    "    img = np.reshape(img, (28*28*3))\n",
    "    tem = []\n",
    "    started = False\n",
    "    where = -1\n",
    "    for i in range(28*28):\n",
    "        if(img[i*3+1] < 90) and (img[i*3+2] < 90):\n",
    "            tem.append(0)\n",
    "\n",
    "        else:\n",
    "            if not started:\n",
    "                started = True\n",
    "                where = i\n",
    "            tem.append(255)\n",
    "    tem = np.asarray(tem)\n",
    "    tem = np.reshape(tem, (28, 28))\n",
    "    return tem, where\n",
    "\n",
    "model=load_model('garbage/models/retrained.h5')\n",
    "t = []\n",
    "where = []\n",
    "for i in range(4):\n",
    "    img = imread('garbage/num/image' + str(i+50) + '.jpeg')\n",
    "    img, wh = convertToBlackWhite(img)\n",
    "    t.append(img)\n",
    "    where.append(wh)\n",
    "t = np.asarray(t)\n",
    "print(t.shape)\n",
    "t=np.reshape(t, (4, 28, 28, 1))\n",
    "pred = model.predict(t)\n",
    "print(pred)\n",
    "print(where)\n",
    "#todo convert the image in 20 x 20 grid and than add padding to make 28x28 image"
   ]
  },
  {
   "cell_type": "code",
   "execution_count": 77,
   "metadata": {
    "scrolled": true
   },
   "outputs": [
    {
     "name": "stdout",
     "output_type": "stream",
     "text": [
      "[3 3 3 1]\n",
      "[3, 7, 15, 9]\n",
      "(21, 22, 3)\n"
     ]
    },
    {
     "data": {
      "image/png": "[encoded data removed]",
      "text/plain": [
       "<Figure size 432x288 with 1 Axes>"
      ]
     },
     "metadata": {
      "needs_background": "light"
     },
     "output_type": "display_data"
    }
   ],
   "source": [
    "tx = []\n",
    "ty = []\n",
    "for i in where:\n",
    "    tx.append(i/28)\n",
    "tx=np.asarray(tx).astype(int)\n",
    "print(tx)\n",
    "for i in range(4):\n",
    "    ty.append(where[i] - tx[i]*28)\n",
    "print(ty)\n",
    "test = imread('garbage/num/image51.jpeg')\n",
    "test = test[3:24, 4:26,:]\n",
    "print(test.shape)\n",
    "import matplotlib.pyplot as plt\n",
    "plt.imshow(test)\n",
    "plt.show()"
   ]
  },
  {
   "cell_type": "code",
   "execution_count": 46,
   "metadata": {
    "scrolled": true
   },
   "outputs": [
    {
     "data": {
      "text/plain": [
       "<matplotlib.image.AxesImage at 0x1473586e048>"
      ]
     },
     "execution_count": 46,
     "metadata": {},
     "output_type": "execute_result"
    },
    {
     "data": {
      "image/png": "[encoded data removed]",
      "text/plain": [
       "<Figure size 432x288 with 1 Axes>"
      ]
     },
     "metadata": {
      "needs_background": "light"
     },
     "output_type": "display_data"
    }
   ],
   "source": [
    "test = np.pad(test, ((4,4),(4,4),(0,0)), 'constant')\n",
    "test.shape\n",
    "plt.imshow(test)"
   ]
  },
  {
   "cell_type": "code",
   "execution_count": 78,
   "metadata": {
    "scrolled": true
   },
   "outputs": [
    {
     "name": "stdout",
     "output_type": "stream",
     "text": [
      "<PIL.JpegImagePlugin.JpegImageFile image mode=RGB size=28x28 at 0x14735D36D68>\n",
      "<PIL.Image.Image image mode=RGB size=22x21 at 0x14735D36EF0>\n",
      "(19, 20, 3)\n",
      "(29, 30, 3)\n"
     ]
    },
    {
     "data": {
      "text/plain": [
       "<matplotlib.image.AxesImage at 0x14735d825f8>"
      ]
     },
     "execution_count": 78,
     "metadata": {},
     "output_type": "execute_result"
    },
    {
     "data": {
      "image/png": "[encoded data removed]",
      "text/plain": [
       "<Figure size 432x288 with 1 Axes>"
      ]
     },
     "metadata": {
      "needs_background": "light"
     },
     "output_type": "display_data"
    }
   ],
   "source": [
    "import PIL.Image as p\n",
    "import PIL.ImageOps as helper\n",
    "img = p.open('garbage/num/image54.jpeg')\n",
    "print(img)\n",
    "img2 = p.fromarray(test)\n",
    "print(img2)\n",
    "img2.thumbnail((20,20), PIL.Image.ANTIALIAS)\n",
    "\n",
    "\n",
    "img2arr = np.asarray(img2)\n",
    "print(img2arr.shape)\n",
    "test = np.pad(test, ((4,4),(4,4),(0,0)), 'constant')\n",
    "print(test.shape)\n",
    "plt.imshow(test)"
   ]
  },
  {
   "cell_type": "code",
   "execution_count": 80,
   "metadata": {
    "scrolled": true
   },
   "outputs": [
    {
     "name": "stdout",
     "output_type": "stream",
     "text": [
      "(28, 28, 3)\n"
     ]
    },
    {
     "data": {
      "text/plain": [
       "<matplotlib.image.AxesImage at 0x14735ddb5f8>"
      ]
     },
     "execution_count": 80,
     "metadata": {},
     "output_type": "execute_result"
    },
    {
     "data": {
      "image/png": "[encoded data removed]",
      "text/plain": [
       "<Figure size 432x288 with 1 Axes>"
      ]
     },
     "metadata": {
      "needs_background": "light"
     },
     "output_type": "display_data"
    }
   ],
   "source": [
    "img = test[:28, 1:29, :]\n",
    "print(img.shape)\n",
    "plt.imshow(img)"
   ]
  },
  {
   "cell_type": "code",
   "execution_count": 153,
   "metadata": {
    "scrolled": true
   },
   "outputs": [
    {
     "name": "stdout",
     "output_type": "stream",
     "text": [
      "(28, 28, 3)\n",
      "17 0 3 20\n",
      "(17, 17, 3)\n",
      "(20, 20, 3)\n",
      "(28, 28, 3)\n"
     ]
    },
    {
     "data": {
      "text/plain": [
       "<matplotlib.image.AxesImage at 0x147388f65f8>"
      ]
     },
     "execution_count": 153,
     "metadata": {},
     "output_type": "execute_result"
    },
    {
     "data": {
      "image/png": "[encoded data removed]",
      "text/plain": [
       "<Figure size 432x288 with 1 Axes>"
      ]
     },
     "metadata": {
      "needs_background": "light"
     },
     "output_type": "display_data"
    }
   ],
   "source": [
    "import PIL.Image as p\n",
    "import numpy as np\n",
    "import cv2\n",
    "img = p.open('garbage/num/image51.jpeg')\n",
    "img = np.asarray(img)\n",
    "print(img.shape)\n",
    "first = img[:,:,1]\n",
    "\n",
    "#find biggest value from last in array of image\n",
    "def bfl(first):\n",
    "    s = -1\n",
    "    for i in range(28):\n",
    "        for j in range(28):\n",
    "            if(first[i, j] > 10):\n",
    "                if j > s:\n",
    "                    s = j\n",
    "    return s\n",
    "\n",
    "def bff(first):\n",
    "    s = 28\n",
    "    for i in range(28):\n",
    "        for j in range(28):\n",
    "            if(first[i, j] > 10):\n",
    "                if j < s:\n",
    "                    s = j\n",
    "                    \n",
    "    return s\n",
    "\n",
    "def fft(first):\n",
    "    s = 0\n",
    "    for i in range(28):\n",
    "        for j in range(28):\n",
    "            if(first[i, j] > 100):\n",
    "                return i\n",
    "\n",
    "def ffb(first):\n",
    "    for i in range(28):\n",
    "        for j in range(28):\n",
    "            x=27-i\n",
    "            y=27-j\n",
    "            if first[x,y] > 100:\n",
    "                return x\n",
    "\n",
    "x = bfl(first)\n",
    "y = bff(first)\n",
    "z = fft(first)\n",
    "w = ffb(first)\n",
    "print('values of right , left, top and bottom', x, y, z, w)\n",
    "img1 = img[z:w, y:x,:]\n",
    "print(img1.shape)\n",
    "reshape = cv2.resize(img1, (20,20), interpolation = cv2.INTER_NEAREST)\n",
    "print(reshape.shape)\n",
    "padd = np.pad(reshape, ((4,4),(4,4),(0,0)),'constant')\n",
    "print(padd.shape)\n",
    "plt.imshow(padd)"
   ]
  },
  {
   "cell_type": "code",
   "execution_count": 160,
   "metadata": {},
   "outputs": [
    {
     "name": "stdout",
     "output_type": "stream",
     "text": [
      "(1, 28, 28, 1)\n",
      "(1, 28, 28, 1)\n",
      "[[0. 0. 0. 0. 0. 0. 0. 0. 0. 1.]]\n"
     ]
    }
   ],
   "source": [
    "from keras.models import load_model\n",
    "model=load_model('garbage/models/mnist.h5')\n",
    "print(padd.shape)\n",
    "padd = np.reshape(padd, (1,28,28,1))\n",
    "print(padd.shape)\n",
    "\n",
    "res = model.predict(padd)\n",
    "print(res)"
   ]
  },
  {
   "cell_type": "markdown",
   "metadata": {},
   "source": [
    "from keras.models import load_model\n",
    "from matplotlib.image import imread\n",
    "import numpy as np\n",
    "from matplotlib import pyplot as plt\n",
    "model=load_model('garbage/models/mnist.h5')\n",
    "\n",
    "#Actual process of how to feed number image to mnist neural network\n",
    "\n",
    "#farthest point pixel of number on right\n",
    "def bfl(first):\n",
    "    s = -1\n",
    "    for i in range(28):\n",
    "        for j in range(28):\n",
    "            if(first[i, j] > 10):\n",
    "                if j > s:\n",
    "                    s = j\n",
    "    return s\n",
    "\n",
    "#farthest point pixel of number on left\n",
    "def bff(first):\n",
    "    s = 28\n",
    "    for i in range(28):\n",
    "        for j in range(28):\n",
    "            if(first[i, j] > 10):\n",
    "                if j < s:\n",
    "                    s = j\n",
    "                    \n",
    "    return s\n",
    "\n",
    "#first pixel of number on top\n",
    "def fft(first):\n",
    "    s = 0\n",
    "    for i in range(28):\n",
    "        for j in range(28):\n",
    "            if(first[i, j] > 100):\n",
    "                return i\n",
    "\n",
    "#first pixel of number from bottom\n",
    "def ffb(first):\n",
    "    for i in range(28):\n",
    "        for j in range(28):\n",
    "            x=27-i\n",
    "            y=27-j\n",
    "            if first[x,y] > 100:\n",
    "                return x\n",
    "            \n",
    "#format image to meet requirement to feed mnist model\n",
    "def magic(img):\n",
    "    first = img[:,:,1]\n",
    "    x = bfl(first)\n",
    "    y = bff(first)\n",
    "    z = fft(first)\n",
    "    w = ffb(first)\n",
    "    print(x, y, z, w)\n",
    "    img = img[z:w, y:x,:]\n",
    "    print('actual size of number in image ',img.shape)\n",
    "    print('done extracting number pixels')\n",
    "    #plt.imshow(img)\n",
    "    import cv2\n",
    "\n",
    "    resize = cv2.resize(img, (20,20), interpolation=cv2.INTER_NEAREST)\n",
    "    print('after resizing image',resize.shape)\n",
    "    #plt.imshow(resize)\n",
    "    padd = np.pad(resize, ((4,4),(4,4),(0,0)), 'constant')\n",
    "    plt.imshow(padd)\n",
    "    plt.show()\n",
    "    return padd\n",
    "\n",
    "feed=imread('garbage/num/image116.jpeg')\n",
    "#feed = magic(img)plt.imshow(padd)\n",
    "plt.imshow(feed)\n",
    "plt.show()\n",
    "feed = np.reshape(feed[:,:,1], (1,28,28,1))\n",
    "print('shape of feed',feed.shape)\n",
    "res = model.predict(feed)\n",
    "print(res)"
   ]
  },
  {
   "cell_type": "code",
   "execution_count": null,
   "metadata": {},
   "outputs": [],
   "source": [
    "from keras.models import load_model \n",
    "from matplotlib.image import imread \n",
    "import numpy as np \n",
    "from matplotlib import pyplot as plt \n",
    "\n",
    "model=load_model('garbage/models/mnist.h5')\n",
    "\n",
    "#Actual process of how to feed number image to mnist neural network\n",
    "\n",
    "#farthest point pixel of number on right \n",
    "def bfl(first): \n",
    "    s = -1 \n",
    "    for i in range(28): \n",
    "        for j in range(28): \n",
    "            if(first[i, j] > 10): \n",
    "                if j > s: \n",
    "                    s = j \n",
    "                    return s\n",
    "\n",
    "#farthest point pixel of number on left \n",
    "def bff(first): \n",
    "    s = 28 \n",
    "    for i in range(28): \n",
    "        for j in range(28): \n",
    "            if(first[i, j] > 10): \n",
    "                if j < s: \n",
    "                    s = j\n",
    "\n",
    "return s\n",
    "\n",
    "#first pixel of number on top \n",
    "def fft(first): \n",
    "    s = 0 \n",
    "    for i in range(28): \n",
    "        for j in range(28): \n",
    "            if(first[i, j] > 100): \n",
    "                return i\n",
    "\n",
    "#first pixel of number from bottom \n",
    "def ffb(first): \n",
    "    for i in range(28): \n",
    "        for j in range(28): \n",
    "            x=27-i \n",
    "            y=27-j \n",
    "            if first[x,y] > 100: \n",
    "                return x\n",
    "\n",
    "#format image to meet requirement to feed mnist model \n",
    "def magic(img): \n",
    "    first = img[:,:,1] \n",
    "    x = bfl(first) \n",
    "    y = bff(first) \n",
    "    z = fft(first) \n",
    "    w = ffb(first) \n",
    "    print(x, y, z, w) \n",
    "    img = img[z:w, y:x,:] \n",
    "    print('actual size of number in image ',img.shape) \n",
    "    print('done extracting number pixels')\n",
    "\n",
    "    #plt.imshow(img)\n",
    "    import cv2\n",
    "\n",
    "    resize = cv2.resize(img, (20,20), interpolation=cv2.INTER_NEAREST)\n",
    "    print('after resizing image',resize.shape)\n",
    "    #plt.imshow(resize)\n",
    "    padd = np.pad(resize, ((4,4),(4,4),(0,0)), 'constant')\n",
    "    plt.imshow(padd)\n",
    "    plt.show()\n",
    "    return padd\n",
    "\n",
    "feed=imread('garbage/num/image116.jpeg')\n",
    "\n",
    "#feed = magic(img)\n",
    "plt.imshow(padd) \n",
    "plt.imshow(feed) \n",
    "plt.show() \n",
    "feed = np.reshape(feed[:,:,1], (1,28,28,1)) \n",
    "print('shape of feed',feed.shape) \n",
    "res = model.predict(feed) \n",
    "print(res)\n"
   ]
  },
  {
   "cell_type": "code",
   "execution_count": 10,
   "metadata": {},
   "outputs": [
    {
     "name": "stdout",
     "output_type": "stream",
     "text": [
      "get the details  [ 1 28 28  1]\n",
      "24 3 6 19\n",
      "actual size of number in image  (13, 21, 3)\n",
      "done extracting number pixels\n",
      "after resizing image (20, 20, 3)\n"
     ]
    },
    {
     "data": {
      "image/png": "[encoded data removed]",
      "text/plain": [
       "<Figure size 432x288 with 1 Axes>"
      ]
     },
     "metadata": {
      "needs_background": "light"
     },
     "output_type": "display_data"
    },
    {
     "name": "stdout",
     "output_type": "stream",
     "text": [
      "[[0. 0. 0. 0. 0. 0. 0. 0. 1. 0.]]\n"
     ]
    }
   ],
   "source": [
    "import numpy as np\n",
    "import tensorflow as tf\n",
    "\n",
    "interpretor = tf.lite.Interpreter('garbage/models/mnist.tflite')\n",
    "interpretor.allocate_tensors()\n",
    "\n",
    "ipdetail=interpretor.get_input_details()\n",
    "opdetail=interpretor.get_output_details()\n",
    "\n",
    "input_shape=ipdetail[0]['shape']\n",
    "\n",
    "print('get the details ' , input_shape)\n",
    "\n",
    "from matplotlib.image import imread \n",
    "from matplotlib import pyplot as plt \n",
    "\n",
    "\n",
    "#Actual process of how to feed number image to mnist neural network\n",
    "\n",
    "#farthest point pixel of number on right \n",
    "def bfl(first): \n",
    "    s = -1 \n",
    "    for i in range(28): \n",
    "        for j in range(28): \n",
    "            if(first[i, j] > 10): \n",
    "                if j > s: \n",
    "                    s = j \n",
    "    return s\n",
    "\n",
    "#farthest point pixel of number on left \n",
    "def bff(first): \n",
    "    s = 28 \n",
    "    for i in range(28): \n",
    "        for j in range(28): \n",
    "            if(first[i, j] > 10): \n",
    "                if j < s: \n",
    "                    s = j\n",
    "\n",
    "    return s\n",
    "\n",
    "#first pixel of number on top \n",
    "def fft(first): \n",
    "    s = 0 \n",
    "    for i in range(28): \n",
    "        for j in range(28): \n",
    "            if(first[i, j] > 100): \n",
    "                return i\n",
    "\n",
    "#first pixel of number from bottom \n",
    "def ffb(first): \n",
    "    for i in range(28): \n",
    "        for j in range(28): \n",
    "            x=27-i \n",
    "            y=27-j \n",
    "            if first[x,y] > 100: \n",
    "                return x\n",
    "\n",
    "#format image to meet requirement to feed mnist model \n",
    "def magic(img): \n",
    "    first = img[:,:,1] \n",
    "    x = bfl(first) \n",
    "    y = bff(first) \n",
    "    z = fft(first) \n",
    "    w = ffb(first) \n",
    "    print(x, y, z, w) \n",
    "    img = img[z:w, y:x,:] \n",
    "    print('actual size of number in image ',img.shape) \n",
    "    print('done extracting number pixels')\n",
    "\n",
    "    #plt.imshow(img)\n",
    "    import cv2\n",
    "\n",
    "    resize = cv2.resize(img, (20,20), interpolation=cv2.INTER_NEAREST)\n",
    "    print('after resizing image',resize.shape)\n",
    "    #plt.imshow(resize)\n",
    "    padd = np.pad(resize, ((4,4),(4,4),(0,0)), 'constant')\n",
    "    plt.imshow(padd)\n",
    "    plt.show()\n",
    "    return padd\n",
    "\n",
    "img = imread('garbage/num/image106.jpeg')\n",
    "feed = magic(img)\n",
    "feed = np.reshape(feed[:,:,1], (1,28,28,1)) \n",
    "feed = feed.astype('float32')\n",
    "interpretor.set_tensor(ipdetail[0]['index'], feed)\n",
    "\n",
    "interpretor.invoke()\n",
    "\n",
    "out = interpretor.get_tensor(opdetail[0]['index'])\n",
    "print(out)"
   ]
  }
 ],
 "metadata": {
  "kernelspec": {
   "display_name": "Python 3",
   "language": "python",
   "name": "python3"
  },
  "language_info": {
   "codemirror_mode": {
    "name": "ipython",
    "version": 3
   },
   "file_extension": ".py",
   "mimetype": "text/x-python",
   "name": "python",
   "nbconvert_exporter": "python",
   "pygments_lexer": "ipython3",
   "version": "3.7.3"
  }
 },
 "nbformat": 4,
 "nbformat_minor": 2
}
