{
 "cells": [
  {
   "cell_type": "code",
   "execution_count": 3,
   "metadata": {},
   "outputs": [
    {
     "name": "stdout",
     "output_type": "stream",
     "text": [
      "0.7419034960343789 0.7147895265576849 0.7419030253527293 0.7146125373123903 0.7172809669938278 0.680576585692193\n"
     ]
    },
    {
     "data": {
      "image/png": "[encoded data removed]",
      "text/plain": [
       "<Figure size 432x288 with 1 Axes>"
      ]
     },
     "metadata": {
      "needs_background": "light"
     },
     "output_type": "display_data"
    }
   ],
   "source": [
    "##This is the demo for the Ridge regression vs Simple linear regression \n",
    "\n",
    "from sklearn.datasets import load_boston\n",
    "from sklearn.model_selection import train_test_split\n",
    "from sklearn.linear_model import LinearRegression\n",
    "from sklearn.linear_model import Ridge\n",
    "import pandas as pd\n",
    "import numpy as np\n",
    "import matplotlib.pyplot as plt\n",
    "import matplotlib\n",
    "\n",
    "boston = load_boston()\n",
    "bostondf = pd.DataFrame(boston.data, columns=boston.feature_names)\n",
    "bostondf['price'] = boston.target\n",
    "\n",
    "newX=bostondf.drop('price', axis=1)\n",
    "newY = bostondf['price']\n",
    "\n",
    "Xtrain, Xtest, ytrain, ytest = train_test_split(newX, newY, test_size=0.3, random_state=3)\n",
    "\n",
    "lr = LinearRegression()\n",
    "lr.fit(Xtrain, ytrain)\n",
    "rr = Ridge(alpha=0.01)\n",
    "rr.fit(Xtrain, ytrain)\n",
    "rrh = Ridge(alpha=100)\n",
    "rrh.fit(Xtrain, ytrain)\n",
    "trainsc = lr.score(Xtrain, ytrain)\n",
    "testsc = lr.score(Xtest, ytest)\n",
    "rtrainsc=rr.score(Xtrain, ytrain)\n",
    "rtestsc=rr.score(Xtest, ytest)\n",
    "rhtrainsc=rrh.score(Xtrain, ytrain)\n",
    "rhtestsc=rrh.score(Xtest, ytest)\n",
    "print(trainsc,testsc, rtrainsc, rtestsc, rhtrainsc, rhtestsc)\n",
    "plt.plot(rr.coef_,alpha=0.7,linestyle='none',marker='*',markersize=5,color='red',label=r'Ridge; $\\alpha = 0.01$',zorder=7) # zorder for ordering the markers\n",
    "\n",
    "plt.plot(rrh.coef_,alpha=0.5,linestyle='none',marker='d',markersize=6,color='blue',label=r'Ridge; $\\alpha = 100$') # alpha here is for transparency\n",
    "\n",
    "plt.plot(lr.coef_,alpha=0.4,linestyle='none',marker='o',markersize=7,color='green',label='Linear Regression')\n",
    "plt.legend(fontsize=13,loc=4)\n",
    "plt.show()\n"
   ]
  },
  {
   "cell_type": "code",
   "execution_count": null,
   "metadata": {},
   "outputs": [],
   "source": []
  },
  {
   "cell_type": "code",
   "execution_count": null,
   "metadata": {},
   "outputs": [],
   "source": []
  },
  {
   "cell_type": "code",
   "execution_count": 6,
   "metadata": {},
   "outputs": [
    {
     "name": "stdout",
     "output_type": "stream",
     "text": [
      "[-0.00000000e+00 -0.00000000e+00 -0.00000000e+00 -9.10366021e-05\n",
      " -0.00000000e+00 -0.00000000e+00 -0.00000000e+00 -0.00000000e+00\n",
      " -0.00000000e+00 -0.00000000e+00 -0.00000000e+00 -0.00000000e+00\n",
      " -0.00000000e+00  2.28811188e-04 -0.00000000e+00 -0.00000000e+00\n",
      " -0.00000000e+00 -0.00000000e+00 -0.00000000e+00 -0.00000000e+00\n",
      " -0.00000000e+00 -0.00000000e+00 -3.29832072e-03 -3.76623718e-04\n",
      " -0.00000000e+00 -0.00000000e+00 -0.00000000e+00 -0.00000000e+00\n",
      " -0.00000000e+00 -0.00000000e+00]\n"
     ]
    }
   ],
   "source": [
    "import math \n",
    "import matplotlib.pyplot as plt \n",
    "import pandas as pd\n",
    "import numpy as np\n",
    "\n",
    "# difference of lasso and ridge regression is that some of the coefficients can be zero i.e. some of the features are \n",
    "# completely neglected\n",
    "\n",
    "from sklearn.linear_model import Lasso\n",
    "from sklearn.linear_model import LinearRegression\n",
    "from sklearn.datasets import load_breast_cancer\n",
    "from sklearn.model_selection import train_test_split \n",
    "\n",
    "cancer = load_breast_cancer()\n",
    "X = cancer.data\n",
    "Y = cancer.target\n",
    "\n",
    "xtrain, xtest, ytrain, ytest = train_test_split(X, Y, test_size=0.3, random_state=31)\n",
    "ls = Lasso()\n",
    "ls.fit(xtrain, ytrain)\n",
    "print()"
   ]
  },
  {
   "cell_type": "code",
   "execution_count": null,
   "metadata": {},
   "outputs": [],
   "source": []
  },
  {
   "cell_type": "code",
   "execution_count": 10,
   "metadata": {},
   "outputs": [],
   "source": [
    "\n",
    "a = 5\n",
    "b = 6"
   ]
  },
  {
   "cell_type": "code",
   "execution_count": 15,
   "metadata": {},
   "outputs": [
    {
     "name": "stdout",
     "output_type": "stream",
     "text": [
      "5\n",
      "6\n"
     ]
    }
   ],
   "source": [
    "print(a)\n",
    "print(b)"
   ]
  },
  {
   "cell_type": "code",
   "execution_count": 18,
   "metadata": {},
   "outputs": [],
   "source": [
    "a, b = b, a"
   ]
  },
  {
   "cell_type": "code",
   "execution_count": 20,
   "metadata": {},
   "outputs": [
    {
     "data": {
      "text/plain": [
       "array([0.        , 0.02040816, 0.04081633, 0.06122449, 0.08163265,\n",
       "       0.10204082, 0.12244898, 0.14285714, 0.16326531, 0.18367347,\n",
       "       0.20408163, 0.2244898 , 0.24489796, 0.26530612, 0.28571429,\n",
       "       0.30612245, 0.32653061, 0.34693878, 0.36734694, 0.3877551 ,\n",
       "       0.40816327, 0.42857143, 0.44897959, 0.46938776, 0.48979592,\n",
       "       0.51020408, 0.53061224, 0.55102041, 0.57142857, 0.59183673,\n",
       "       0.6122449 , 0.63265306, 0.65306122, 0.67346939, 0.69387755,\n",
       "       0.71428571, 0.73469388, 0.75510204, 0.7755102 , 0.79591837,\n",
       "       0.81632653, 0.83673469, 0.85714286, 0.87755102, 0.89795918,\n",
       "       0.91836735, 0.93877551, 0.95918367, 0.97959184, 1.        ])"
      ]
     },
     "execution_count": 20,
     "metadata": {},
     "output_type": "execute_result"
    }
   ],
   "source": [
    "import numpy as np\n",
    "m=50\n",
    "x = np.linspace(0, 1, m)\n",
    "y = 15*x + 5 + np.random.normal(0, 0.4, m)"
   ]
  },
  {
   "cell_type": "code",
   "execution_count": null,
   "metadata": {},
   "outputs": [],
   "source": []
  },
  {
   "cell_type": "markdown",
   "metadata": {},
   "source": []
  },
  {
   "cell_type": "code",
   "execution_count": 29,
   "metadata": {},
   "outputs": [
    {
     "name": "stdout",
     "output_type": "stream",
     "text": [
      "[[2 4]\n",
      " [6 7]\n",
      " [3 2]\n",
      " [8 5]\n",
      " [6 4]\n",
      " [3 3]\n",
      " [4 2]\n",
      " [1 1]]\n"
     ]
    },
    {
     "data": {
      "image/png": "[encoded data removed]",
      "text/plain": [
       "<Figure size 432x288 with 1 Axes>"
      ]
     },
     "metadata": {
      "needs_background": "light"
     },
     "output_type": "display_data"
    }
   ],
   "source": [
    "import pandas as pd\n",
    "from pandas.compat import StringIO\n",
    "from sklearn.cluster import KMeans\n",
    "import matplotlib.pyplot as plt\n",
    "import numpy as np\n",
    "x = [2,6,3,8,6,3,4,1]\n",
    "y = [4,7,2,5,4,3,2,1]\n",
    "p = np.vstack((x,y)).T\n",
    "print(p)\n",
    "plt.scatter(p[:,0], p[:,1])\n",
    "km = KMeans(n_clusters=2)\n",
    "km.fit(p)\n",
    "yp = km.predict(p)\n",
    "plt.scatter(p[:,0], p[:,1], c=yp, cmap='viridis')\n",
    "plt.show()"
   ]
  },
  {
   "cell_type": "code",
   "execution_count": 30,
   "metadata": {},
   "outputs": [
    {
     "data": {
      "image/png": "[encoded data removed]",
      "text/plain": [
       "<Figure size 432x288 with 1 Axes>"
      ]
     },
     "metadata": {
      "needs_background": "light"
     },
     "output_type": "display_data"
    },
    {
     "name": "stdout",
     "output_type": "stream",
     "text": [
      "900\n",
      "[-11.08232623 -10.73743894 -10.39255164 -10.04766434  -9.70277705\n",
      "  -9.35788975  -9.01300245  -8.66811515  -8.32322786  -7.97834056\n",
      "  -7.63345326  -7.28856597  -6.94367867  -6.59879137  -6.25390407\n",
      "  -5.90901678  -5.56412948  -5.21924218  -4.87435489  -4.52946759\n",
      "  -4.18458029  -3.83969299  -3.4948057   -3.1499184   -2.8050311\n",
      "  -2.46014381  -2.11525651  -1.77036921  -1.42548192  -1.08059462]\n"
     ]
    }
   ],
   "source": [
    "from sklearn.datasets import make_blobs\n",
    "from matplotlib import pyplot as plt\n",
    "from sklearn import svm\n",
    "import numpy as np\n",
    "\n",
    "X, y = make_blobs(n_samples=40, centers=2, random_state=6)\n",
    "\n",
    "\n",
    "clf = svm.SVC(kernel='linear', C=1000)\n",
    "clf.fit(X, y)\n",
    "plt.scatter(X[:, 0], X[:, 1], c=y, s=30, cmap=plt.cm.Paired)\n",
    "\n",
    "ax = plt.gca()\n",
    "xlim=ax.get_xlim()\n",
    "ylim=ax.get_ylim()\n",
    "\n",
    "xx = np.linspace(xlim[0], xlim[1], 30)\n",
    "yy = np.linspace(ylim[0], ylim[1], 30)\n",
    "YY, XX = np.meshgrid(yy, xx)\n",
    "xy = np.vstack([XX.ravel(), YY.ravel()]).T\n",
    "Z = clf.decision_function(xy).reshape(XX.shape)\n",
    "ax.contour(XX, YY, Z, colors='k', levels=[-1, 0, 1], alpha=0.5,linestyles=['--', '-', '--'])\n",
    "ax.scatter(clf.support_vectors_[:, 0], clf.support_vectors_[:, 1], s=100,linewidth=1, facecolors='none', edgecolors='k')\n",
    "plt.show()\n",
    "print(len(xy))\n",
    "print(yy)"
   ]
  },
  {
   "cell_type": "code",
   "execution_count": 2,
   "metadata": {},
   "outputs": [
    {
     "data": {
      "image/png": "[encoded data removed]",
      "text/plain": [
       "<Figure size 432x288 with 1 Axes>"
      ]
     },
     "metadata": {
      "needs_background": "light"
     },
     "output_type": "display_data"
    }
   ],
   "source": [
    "import numpy as np\n",
    "import matplotlib.pyplot as plt\n",
    "from sklearn import svm\n",
    "from sklearn.datasets import make_blobs\n",
    "\n",
    "\n",
    "# we create 40 separable points\n",
    "X, y = make_blobs(n_samples=40, centers=2, random_state=6)\n",
    "\n",
    "# fit the model, don't regularize for illustration purposes\n",
    "clf = svm.SVC(kernel='linear', C=1000)\n",
    "clf.fit(X, y)\n",
    "\n",
    "plt.scatter(X[:, 0], X[:, 1], c=y, s=30, cmap=plt.cm.Paired)\n",
    "\n",
    "# plot the decision function\n",
    "ax = plt.gca()\n",
    "xlim = ax.get_xlim()\n",
    "ylim = ax.get_ylim()\n",
    "\n",
    "# create grid to evaluate model\n",
    "xx = np.linspace(xlim[0], xlim[1], 30)\n",
    "yy = np.linspace(ylim[0], ylim[1], 30)\n",
    "YY, XX = np.meshgrid(yy, xx)\n",
    "xy = np.vstack([XX.ravel(), YY.ravel()]).T\n",
    "Z = clf.decision_function(xy).reshape(XX.shape)\n",
    "\n",
    "# plot decision boundary and margins\n",
    "ax.contour(XX, YY, Z, colors='k', levels=[-1, 0, 1], alpha=0.5,\n",
    "           linestyles=['--', '-', '--'])\n",
    "# plot support vectors\n",
    "ax.scatter(clf.support_vectors_[:, 0], clf.support_vectors_[:, 1], s=100,\n",
    "           linewidth=1, facecolors='none', edgecolors='k')\n",
    "plt.show()\n"
   ]
  },
  {
   "cell_type": "code",
   "execution_count": 12,
   "metadata": {},
   "outputs": [
    {
     "name": "stdout",
     "output_type": "stream",
     "text": [
      "15\n",
      "40\n",
      "True\n",
      "False\n"
     ]
    }
   ],
   "source": [
    "def mul_by(num):\n",
    "    def mul_by_num(k):\n",
    "        return num*k\n",
    "    return mul_by_num\n",
    "five = mul_by(5)\n",
    "ten = mul_by(10)\n",
    "x = 230\n",
    "print(five(3))\n",
    "print(ten(4))\n",
    "print(callable(five))\n",
    "print(callable(x))"
   ]
  },
  {
   "cell_type": "code",
   "execution_count": null,
   "metadata": {},
   "outputs": [],
   "source": [
    "class per:\n",
    "    def __init__(self):\n",
    "        self.x = 10\n",
    "        self.y = 40\n",
    "    def __call__(self):\n",
    "        print(\"from callable\")\n",
    "s = per()\n",
    "callable(s)\n",
    "s()"
   ]
  },
  {
   "cell_type": "code",
   "execution_count": 17,
   "metadata": {
    "scrolled": true
   },
   "outputs": [
    {
     "name": "stdout",
     "output_type": "stream",
     "text": [
      "(7, 7) (7, 7)\n"
     ]
    },
    {
     "data": {
      "image/png": "[encoded data removed]",
      "text/plain": [
       "<Figure size 432x288 with 1 Axes>"
      ]
     },
     "metadata": {
      "needs_background": "light"
     },
     "output_type": "display_data"
    }
   ],
   "source": [
    "import numpy as np\n",
    "from matplotlib import pyplot as plt\n",
    "\n",
    "x = np.arange(-np.pi, np.pi)\n",
    "y = x.reshape(-1,1)\n",
    "h = np.sin(x**2+y**2)/(x**2+y**2)\n",
    "xv, yv = np.meshgrid(x, y)\n",
    "print(h.shape,xv.shape)\n",
    "\n",
    "plt.contourf(xv, yv, h, levels=[0.5,0.6])\n",
    "plt.show()"
   ]
  },
  {
   "cell_type": "code",
   "execution_count": 5,
   "metadata": {},
   "outputs": [
    {
     "name": "stdout",
     "output_type": "stream",
     "text": [
      "[ 2  5 10  5  8 13 10 13 18]\n",
      "[[1 1]\n",
      " [2 1]\n",
      " [3 1]\n",
      " [1 2]\n",
      " [2 2]\n",
      " [3 2]\n",
      " [1 3]\n",
      " [2 3]\n",
      " [3 3]] [[ 2  5 10]\n",
      " [ 5  8 13]\n",
      " [10 13 18]]\n"
     ]
    },
    {
     "name": "stderr",
     "output_type": "stream",
     "text": [
      "C:\\Users\\Assessioner\\Anaconda3\\lib\\site-packages\\matplotlib\\contour.py:1000: UserWarning: The following kwargs were not used by contour: 'linestyle'\n",
      "  s)\n"
     ]
    },
    {
     "data": {
      "image/png": "[encoded data removed]",
      "text/plain": [
       "<Figure size 432x288 with 1 Axes>"
      ]
     },
     "metadata": {
      "needs_background": "light"
     },
     "output_type": "display_data"
    }
   ],
   "source": [
    "import numpy as np\n",
    "import matplotlib.pyplot as plt\n",
    "\n",
    "def f(x):\n",
    "    return (x[:,0]**2 + x[:,1]**2)\n",
    "\n",
    "x = np.array([1,2,3])\n",
    "y = np.array([1,2,3])\n",
    "xx, yy = np.meshgrid(x, y)\n",
    "X_grid = np.c_[ np.ravel(xx), np.ravel(yy) ]\n",
    "z = f(X_grid)\n",
    "print(z)\n",
    "z = z.reshape(xx.shape)\n",
    "\n",
    "plt.contour(xx, yy, z, levels=[1,2.2,10], linestyle=['-','--','-'])\n",
    "print( X_grid, z)"
   ]
  },
  {
   "cell_type": "markdown",
   "metadata": {},
   "source": []
  },
  {
   "cell_type": "code",
   "execution_count": 23,
   "metadata": {},
   "outputs": [
    {
     "name": "stdout",
     "output_type": "stream",
     "text": [
      "(30, 30) (30, 30) (30, 30)\n"
     ]
    },
    {
     "data": {
      "image/png": "[encoded data removed]",
      "text/plain": [
       "<Figure size 432x288 with 1 Axes>"
      ]
     },
     "metadata": {
      "needs_background": "light"
     },
     "output_type": "display_data"
    }
   ],
   "source": [
    "from sklearn.datasets import make_blobs\n",
    "from matplotlib import pyplot as plt\n",
    "import numpy as  np\n",
    "from sklearn.svm import SVC\n",
    "\n",
    "x, y = make_blobs(n_samples=40, centers=2, random_state=0, cluster_std = 0.5)\n",
    "plt.scatter(x[:,0], x[:, 1], c=y)\n",
    "\n",
    "xfit=np.linspace(-1, 3.5)\n",
    "for m,b in [(1, 0.65), (0.5, 1.6), (-0.2, 2.9)]:\n",
    "    plt.plot(xfit, m*xfit + b, '-k')\n",
    "plt.xlim(-1, 3.5)\n",
    "\n",
    "model = SVC(kernel='linear', )\n",
    "model.fit(x,y)\n",
    "\n",
    "\n",
    "def plot_svc_decision_function(model, ax=None, plot_support=True):\n",
    "    \"\"\"Plot the decision function for a 2D SVC\"\"\"\n",
    "    if ax is None:\n",
    "        ax = plt.gca()\n",
    "    xlim = ax.get_xlim()\n",
    "    ylim = ax.get_ylim()\n",
    "    \n",
    "    # create grid to evaluate model\n",
    "    x = np.linspace(xlim[0], xlim[1], 30)\n",
    "    y = np.linspace(ylim[0], ylim[1], 30)\n",
    "    Y, X = np.meshgrid(y, x)\n",
    "    xy = np.vstack([X.ravel(), Y.ravel()]).T\n",
    "    P = model.decision_function(xy).reshape(X.shape)\n",
    "    # plot decision boundary and margins\n",
    "    ax.contour(X, Y, P, colors='k',\n",
    "               levels=[-1, 0, 1], alpha=0.5,\n",
    "               linestyles=['--', '-', '--'])\n",
    "    \n",
    "    # plot support vectors\n",
    "    if plot_support:\n",
    "        ax.scatter(model.support_vectors_[:, 0],\n",
    "                   model.support_vectors_[:, 1],\n",
    "                   s=300, linewidth=1, facecolors='none');\n",
    "    ax.set_xlim(xlim)\n",
    "    ax.set_ylim(ylim)\n",
    "plot_svc_decision_function(model);\n",
    "plt.show()"
   ]
  },
  {
   "cell_type": "code",
   "execution_count": 103,
   "metadata": {},
   "outputs": [
    {
     "name": "stdout",
     "output_type": "stream",
     "text": [
      "(50, 50)\n",
      "1.0000000000000002\n",
      "1.2536545839095075\n",
      "1.4907175520039377\n",
      "1.6956825506034863\n",
      "1.8551427630053459\n",
      "1.9586678530366608\n",
      "1.999486216200688\n",
      "1.9749279121818235\n",
      "1.886599306373\n",
      "1.7402779970753155\n",
      "1.5455349012105488\n",
      "1.3151082180236207\n",
      "1.064070219980713\n",
      "0.8088413712986279\n",
      "0.5661162608824417\n",
      "0.3517716046922116\n",
      "0.17982774540304425\n",
      "0.06153157795023967\n",
      "0.004620887050801881\n",
      "0.012818216585549824\n",
      "0.08558737698418728\n",
      "0.2181685175319702\n",
      "0.401889469508784\n",
      "0.6247329951206256\n",
      "0.8721228383154936\n",
      "1.1278771616845056\n",
      "1.3752670048793736\n",
      "1.5981105304912153\n",
      "1.78183148246803\n",
      "1.9144126230158123\n",
      "1.98718178341445\n",
      "1.9953791129491982\n",
      "1.9384684220497606\n",
      "1.8201722545969559\n",
      "1.6482283953077892\n",
      "1.4338837391175583\n",
      "1.1911586287013733\n",
      "0.9359297800192874\n",
      "0.6848917819763807\n",
      "0.45446509878945185\n",
      "0.2597220029246856\n",
      "0.11340069362700034\n",
      "0.02507208781817638\n",
      "0.0005137837993121064\n",
      "0.0413321469633392\n",
      "0.14485723699465303\n",
      "0.30431744939651306\n",
      "0.5092824479960606\n",
      "0.7463454160904917\n",
      "0.9999999999999998\n",
      "100\n"
     ]
    },
    {
     "data": {
      "image/png": "[encoded data removed]",
      "text/plain": [
       "<Figure size 432x288 with 1 Axes>"
      ]
     },
     "metadata": {
      "needs_background": "light"
     },
     "output_type": "display_data"
    }
   ],
   "source": [
    "import numpy as np\n",
    "from matplotlib import pyplot as plt\n",
    "\n",
    "ax = plt.gca()\n",
    "xlim = ax.get_xlim()\n",
    "ylim = ax.get_ylim()\n",
    "x = np.linspace(-2*np.pi, 2*np.pi)\n",
    "y = np.linspace(0, 4*np.pi)\n",
    "Y, X = np.meshgrid(y, x)\n",
    "h = np.sin(X) + np.cos(Y)\n",
    "plt.contour(X, Y, h)\n",
    "plt.show()"
   ]
  },
  {
   "cell_type": "code",
   "execution_count": 19,
   "metadata": {},
   "outputs": [
    {
     "name": "stdout",
     "output_type": "stream",
     "text": [
      "baseline will be 5.15\n",
      "the error in prediction is  0.1\n"
     ]
    }
   ],
   "source": [
    "import pandas as pd\n",
    "import matplotlib.pyplot as plt\n",
    "import numpy  as np\n",
    "from sklearn.model_selection import train_test_split\n",
    "from sklearn.ensemble import RandomForestRegressor\n",
    "\n",
    "features = pd.read_csv('temps.csv')\n",
    "features.head(5)\n",
    "features = pd.get_dummies(features)\n",
    "features.iloc[:5,:]\n",
    "y = np.array(features['actual'])\n",
    "featuers = features.drop('actual', axis = 1)\n",
    "fl = list(features.columns)\n",
    "features = np.array(features)\n",
    "trf, tef, trl, tel = train_test_split(features, y, test_size=0.25, random_state=6)\n",
    "bl = tef[:,fl.index('average')]\n",
    "ble = abs(bl - tel)\n",
    "print('baseline will be', round(np.mean(ble), 2))\n",
    "rf = RandomForestRegressor(n_estimators=1000, random_state=6)\n",
    "rf.fit(trf, trl)\n",
    "pred = rf.predict(tef)\n",
    "err = abs(pred - tel)\n",
    "print('the error in prediction is ' , round(np.mean(err), 2))\n"
   ]
  },
  {
   "cell_type": "code",
   "execution_count": 20,
   "metadata": {},
   "outputs": [
    {
     "data": {
      "text/plain": [
       "99.84"
      ]
     },
     "execution_count": 20,
     "metadata": {},
     "output_type": "execute_result"
    }
   ],
   "source": [
    "mape=100*(err/tel)\n",
    "acc = 100 - np.mean(mape)\n",
    "round(acc, 2)"
   ]
  },
  {
   "cell_type": "code",
   "execution_count": 29,
   "metadata": {},
   "outputs": [
    {
     "name": "stdout",
     "output_type": "stream",
     "text": [
      "[1.]\n",
      "(3, 3)\n",
      "(3, 1)\n"
     ]
    }
   ],
   "source": [
    "import numpy as np\n",
    "class NN:\n",
    "    def __init__(self):\n",
    "        np.random.seed(1)\n",
    "        self.sw1 = 2 * np.random.random((3, 1)) - 1\n",
    "    def sigmoid(self,z):\n",
    "        return 1/(1+np.exp(-z))\n",
    "    def deri_sigmoid(self, x):\n",
    "        return x*(1-x)\n",
    "    def train(self, ip, op, iters):\n",
    "        for it in range(iters):\n",
    "            output = self.learn(ip)\n",
    "            error = op - output\n",
    "            factor = self.sigmoid(np.dot(ip.T,error*self.deri_sigmoid(output)))\n",
    "            self.sw1 += factor\n",
    "            \n",
    "    def learn(self,x):\n",
    "        return self.sigmoid(np.dot(x, self.sw1))\n",
    "\n",
    "if __name__ == \"__main__\":\n",
    "    nn = NN()\n",
    "    inputs = np.array([[0, 1, 1], [1, 0, 0], [1, 0, 1]]) \n",
    "    outputs = np.array([[1, 0, 1]]).T \n",
    "    nn.train(inputs, outputs, 1000)\n",
    "    print(nn.learn(np.array([1,0, 1])))\n",
    "    print(inputs.shape)\n",
    "    print(nn.sw1.shape)"
   ]
  },
  {
   "cell_type": "code",
   "execution_count": 14,
   "metadata": {},
   "outputs": [
    {
     "name": "stdout",
     "output_type": "stream",
     "text": [
      "[0.9897704]\n"
     ]
    }
   ],
   "source": [
    "\n",
    "from numpy import *\n",
    "  \n",
    "class NeuralNet(object): \n",
    "    def __init__(self): \n",
    "        # Generate random numbers \n",
    "        random.seed(1) \n",
    "  \n",
    "        # Assign random weights to a 3 x 1 matrix, \n",
    "        self.synaptic_weights = 2 * random.random((3, 1)) - 1\n",
    "  \n",
    "    # The Sigmoid function \n",
    "    def __sigmoid(self, x): \n",
    "        return 1 / (1 + exp(-x)) \n",
    "  \n",
    "    # The derivative of the Sigmoid function. \n",
    "    # This is the gradient of the Sigmoid curve. \n",
    "    def __sigmoid_derivative(self, x): \n",
    "        return x * (1 - x) \n",
    "  \n",
    "    # Train the neural network and adjust the weights each time. \n",
    "    def train(self, inputs, outputs, training_iterations): \n",
    "        for iteration in range(training_iterations): \n",
    "  \n",
    "            # Pass the training set through the network. \n",
    "            output = self.learn(inputs) \n",
    "  \n",
    "            # Calculate the error \n",
    "            error = outputs - output \n",
    "  \n",
    "            # Adjust the weights by a factor \n",
    "            factor = dot(inputs.T, error * self.__sigmoid_derivative(output)) \n",
    "            self.synaptic_weights += factor \n",
    "  \n",
    "    # The neural network thinks. \n",
    "    def learn(self, inputs): \n",
    "        return self.__sigmoid(dot(inputs, self.synaptic_weights)) \n",
    "  \n",
    "if __name__ == \"__main__\": \n",
    "  \n",
    "    #Initialize \n",
    "    neural_network = NeuralNet() \n",
    "  \n",
    "    # The training set. \n",
    "    inputs = array([[0, 1, 1], [1, 0, 0], [1, 0, 1]]) \n",
    "    outputs = array([[1, 0, 1]]).T \n",
    "  \n",
    "    # Train the neural network \n",
    "    neural_network.train(inputs, outputs, 10000) \n",
    "  \n",
    "    # Test the neural network with a test example. \n",
    "    print(neural_network.learn(array([1, 0, 1])) )\n"
   ]
  },
  {
   "cell_type": "code",
   "execution_count": 8,
   "metadata": {},
   "outputs": [
    {
     "name": "stdout",
     "output_type": "stream",
     "text": [
      "(4, 3)\n",
      "(3, 4)\n"
     ]
    }
   ],
   "source": [
    "import numpy as np\n",
    "\n",
    "x = np.array([[0, 1, 1], [1, 0, 0], [1, 0, 1],[1,1,1]]) \n",
    "print(x.shape)\n",
    "print(x.T.shape)"
   ]
  },
  {
   "cell_type": "code",
   "execution_count": 11,
   "metadata": {},
   "outputs": [
    {
     "name": "stdout",
     "output_type": "stream",
     "text": [
      "(60000, 28, 28) (10000, 28, 28)\n",
      "5\n",
      "(60000, 28, 28, 1) (10000, 28, 28, 1)\n",
      "Train on 60000 samples, validate on 10000 samples\n",
      "Epoch 1/1\n",
      "60000/60000 [==============================] - 21s 348us/step - loss: 0.5708 - acc: 0.9297 - val_loss: 0.0933 - val_acc: 0.9718\n",
      "[[6.6573302e-09 7.5711052e-12 5.6930379e-08 1.7524966e-06 6.1614817e-11\n",
      "  1.6138240e-12 2.7722425e-12 9.9999785e-01 4.1094648e-09 2.9669005e-07]\n",
      " [3.6107210e-08 4.8591062e-07 9.9998748e-01 1.0542441e-09 7.2064237e-11\n",
      "  9.6224515e-13 1.1993549e-05 2.3249873e-15 1.6171562e-09 2.6816698e-11]\n",
      " [4.4792721e-08 9.9994147e-01 1.1265261e-05 7.6804596e-08 4.0055670e-06\n",
      "  3.0813929e-08 3.2920191e-06 5.5764854e-06 3.4199558e-05 7.7995942e-08]\n",
      " [9.9998641e-01 8.0450019e-10 4.3083769e-08 1.3721057e-12 8.0960962e-07\n",
      "  2.3385445e-08 7.5874132e-06 1.0475788e-08 7.9096253e-08 5.0524418e-06]]\n",
      "saved\n"
     ]
    }
   ],
   "source": [
    "from keras.datasets import mnist\n",
    "\n",
    "(X_train, y_train), (X_test, y_test) = mnist.load_data()\n",
    "print(X_train.shape, X_test.shape)\n",
    "print(y_train[0])\n",
    "import matplotlib.pyplot as plt\n",
    "\n",
    "X_train = X_train.reshape(60000,28,28,1)\n",
    "X_test = X_test.reshape(10000,28,28,1)\n",
    "print(X_train.shape, X_test.shape)\n",
    "from keras.utils import to_categorical\n",
    "\n",
    "y_train = to_categorical(y_train)\n",
    "y_test = to_categorical(y_test)\n",
    "\n",
    "from keras.models import Sequential\n",
    "from keras.layers import Flatten, Dense, Conv2D\n",
    "\n",
    "model = Sequential()\n",
    "model.add(Conv2D(64, kernel_size=3, activation='relu', input_shape=(28,28,1)))\n",
    "model.add(Conv2D(32, kernel_size=3, activation='relu'))\n",
    "model.add(Flatten())\n",
    "model.add(Dense(10, activation='softmax'))\n",
    "model.compile(optimizer='adam',loss='categorical_crossentropy',metrics=['accuracy'])\n",
    "\n",
    "model.fit(X_train, y_train, validation_data=(X_test, y_test),epochs=1)\n",
    "\n",
    "x = model.predict(X_test[:4])\n",
    "print(x)\n",
    "\n",
    "model_json = model.to_json()\n",
    "with open(\"model.json\", \"w\") as json_file:\n",
    "    json_file.write(model_json)\n",
    "model.save_weights(\"model.h5\")\n",
    "print(\"saved\")"
   ]
  },
  {
   "cell_type": "code",
   "execution_count": 12,
   "metadata": {},
   "outputs": [
    {
     "data": {
      "text/plain": [
       "<matplotlib.image.AxesImage at 0x1f7b6f15940>"
      ]
     },
     "execution_count": 12,
     "metadata": {},
     "output_type": "execute_result"
    },
    {
     "data": {
      "image/png": "[encoded data removed]",
      "text/plain": [
       "<Figure size 432x288 with 1 Axes>"
      ]
     },
     "metadata": {
      "needs_background": "light"
     },
     "output_type": "display_data"
    }
   ],
   "source": [
    "plt.imshow(X_test[3].reshape(28,28))"
   ]
  },
  {
   "cell_type": "code",
   "execution_count": 1,
   "metadata": {},
   "outputs": [
    {
     "name": "stderr",
     "output_type": "stream",
     "text": [
      "Using TensorFlow backend.\n"
     ]
    },
    {
     "ename": "KeyError",
     "evalue": "0",
     "output_type": "error",
     "traceback": [
      "\u001b[1;31m---------------------------------------------------------------------------\u001b[0m",
      "\u001b[1;31mKeyError\u001b[0m                                  Traceback (most recent call last)",
      "\u001b[1;32m<ipython-input-1-d31759185f45>\u001b[0m in \u001b[0;36m<module>\u001b[1;34m\u001b[0m\n\u001b[0;32m      3\u001b[0m \u001b[0mjson_file\u001b[0m\u001b[1;33m.\u001b[0m\u001b[0mclose\u001b[0m\u001b[1;33m(\u001b[0m\u001b[1;33m)\u001b[0m\u001b[1;33m\u001b[0m\u001b[1;33m\u001b[0m\u001b[0m\n\u001b[0;32m      4\u001b[0m \u001b[1;32mfrom\u001b[0m \u001b[0mkeras\u001b[0m\u001b[1;33m.\u001b[0m\u001b[0mmodels\u001b[0m \u001b[1;32mimport\u001b[0m \u001b[0mmodel_from_json\u001b[0m\u001b[1;33m\u001b[0m\u001b[1;33m\u001b[0m\u001b[0m\n\u001b[1;32m----> 5\u001b[1;33m \u001b[0mloaded_model\u001b[0m \u001b[1;33m=\u001b[0m \u001b[0mmodel_from_json\u001b[0m\u001b[1;33m(\u001b[0m\u001b[0mload_json_model\u001b[0m\u001b[1;33m)\u001b[0m\u001b[1;33m\u001b[0m\u001b[1;33m\u001b[0m\u001b[0m\n\u001b[0m\u001b[0;32m      6\u001b[0m \u001b[0mloaded_model\u001b[0m\u001b[1;33m.\u001b[0m\u001b[0mload_weights\u001b[0m\u001b[1;33m(\u001b[0m\u001b[1;34m\"model.h5\"\u001b[0m\u001b[1;33m)\u001b[0m\u001b[1;33m\u001b[0m\u001b[1;33m\u001b[0m\u001b[0m\n\u001b[0;32m      7\u001b[0m \u001b[0mprint\u001b[0m\u001b[1;33m(\u001b[0m\u001b[1;34m\"loaded the model\"\u001b[0m\u001b[1;33m)\u001b[0m\u001b[1;33m\u001b[0m\u001b[1;33m\u001b[0m\u001b[0m\n",
      "\u001b[1;32m~\\Anaconda3\\lib\\site-packages\\keras\\models.py\u001b[0m in \u001b[0;36mmodel_from_json\u001b[1;34m(json_string, custom_objects)\u001b[0m\n\u001b[0;32m    323\u001b[0m     \"\"\"\n\u001b[0;32m    324\u001b[0m     \u001b[0mconfig\u001b[0m \u001b[1;33m=\u001b[0m \u001b[0mjson\u001b[0m\u001b[1;33m.\u001b[0m\u001b[0mloads\u001b[0m\u001b[1;33m(\u001b[0m\u001b[0mjson_string\u001b[0m\u001b[1;33m)\u001b[0m\u001b[1;33m\u001b[0m\u001b[1;33m\u001b[0m\u001b[0m\n\u001b[1;32m--> 325\u001b[1;33m     \u001b[1;32mreturn\u001b[0m \u001b[0mlayer_module\u001b[0m\u001b[1;33m.\u001b[0m\u001b[0mdeserialize\u001b[0m\u001b[1;33m(\u001b[0m\u001b[0mconfig\u001b[0m\u001b[1;33m,\u001b[0m \u001b[0mcustom_objects\u001b[0m\u001b[1;33m=\u001b[0m\u001b[0mcustom_objects\u001b[0m\u001b[1;33m)\u001b[0m\u001b[1;33m\u001b[0m\u001b[1;33m\u001b[0m\u001b[0m\n\u001b[0m\u001b[0;32m    326\u001b[0m \u001b[1;33m\u001b[0m\u001b[0m\n\u001b[0;32m    327\u001b[0m \u001b[1;33m\u001b[0m\u001b[0m\n",
      "\u001b[1;32m~\\Anaconda3\\lib\\site-packages\\keras\\layers\\__init__.py\u001b[0m in \u001b[0;36mdeserialize\u001b[1;34m(config, custom_objects)\u001b[0m\n\u001b[0;32m     44\u001b[0m                                     \u001b[0mmodule_objects\u001b[0m\u001b[1;33m=\u001b[0m\u001b[0mglobs\u001b[0m\u001b[1;33m,\u001b[0m\u001b[1;33m\u001b[0m\u001b[1;33m\u001b[0m\u001b[0m\n\u001b[0;32m     45\u001b[0m                                     \u001b[0mcustom_objects\u001b[0m\u001b[1;33m=\u001b[0m\u001b[0mcustom_objects\u001b[0m\u001b[1;33m,\u001b[0m\u001b[1;33m\u001b[0m\u001b[1;33m\u001b[0m\u001b[0m\n\u001b[1;32m---> 46\u001b[1;33m                                     printable_module_name='layer')\n\u001b[0m",
      "\u001b[1;32m~\\Anaconda3\\lib\\site-packages\\keras\\utils\\generic_utils.py\u001b[0m in \u001b[0;36mdeserialize_keras_object\u001b[1;34m(identifier, module_objects, custom_objects, printable_module_name)\u001b[0m\n\u001b[0;32m    139\u001b[0m                                        custom_objects=dict(list(_GLOBAL_CUSTOM_OBJECTS.items()) +\n\u001b[0;32m    140\u001b[0m                                                            list(custom_objects.items())))\n\u001b[1;32m--> 141\u001b[1;33m             \u001b[1;32mreturn\u001b[0m \u001b[0mcls\u001b[0m\u001b[1;33m.\u001b[0m\u001b[0mfrom_config\u001b[0m\u001b[1;33m(\u001b[0m\u001b[0mconfig\u001b[0m\u001b[1;33m[\u001b[0m\u001b[1;34m'config'\u001b[0m\u001b[1;33m]\u001b[0m\u001b[1;33m)\u001b[0m\u001b[1;33m\u001b[0m\u001b[1;33m\u001b[0m\u001b[0m\n\u001b[0m\u001b[0;32m    142\u001b[0m         \u001b[1;32melse\u001b[0m\u001b[1;33m:\u001b[0m\u001b[1;33m\u001b[0m\u001b[1;33m\u001b[0m\u001b[0m\n\u001b[0;32m    143\u001b[0m             \u001b[1;31m# Then `cls` may be a function returning a class.\u001b[0m\u001b[1;33m\u001b[0m\u001b[1;33m\u001b[0m\u001b[1;33m\u001b[0m\u001b[0m\n",
      "\u001b[1;32m~\\Anaconda3\\lib\\site-packages\\keras\\models.py\u001b[0m in \u001b[0;36mfrom_config\u001b[1;34m(cls, config)\u001b[0m\n\u001b[0;32m   1179\u001b[0m     \u001b[1;33m@\u001b[0m\u001b[0mclassmethod\u001b[0m\u001b[1;33m\u001b[0m\u001b[1;33m\u001b[0m\u001b[0m\n\u001b[0;32m   1180\u001b[0m     \u001b[1;32mdef\u001b[0m \u001b[0mfrom_config\u001b[0m\u001b[1;33m(\u001b[0m\u001b[0mcls\u001b[0m\u001b[1;33m,\u001b[0m \u001b[0mconfig\u001b[0m\u001b[1;33m)\u001b[0m\u001b[1;33m:\u001b[0m\u001b[1;33m\u001b[0m\u001b[1;33m\u001b[0m\u001b[0m\n\u001b[1;32m-> 1181\u001b[1;33m         \u001b[1;32mif\u001b[0m \u001b[1;34m'class_name'\u001b[0m \u001b[1;32mnot\u001b[0m \u001b[1;32min\u001b[0m \u001b[0mconfig\u001b[0m\u001b[1;33m[\u001b[0m\u001b[1;36m0\u001b[0m\u001b[1;33m]\u001b[0m \u001b[1;32mor\u001b[0m \u001b[0mconfig\u001b[0m\u001b[1;33m[\u001b[0m\u001b[1;36m0\u001b[0m\u001b[1;33m]\u001b[0m\u001b[1;33m[\u001b[0m\u001b[1;34m'class_name'\u001b[0m\u001b[1;33m]\u001b[0m \u001b[1;33m==\u001b[0m \u001b[1;34m'Merge'\u001b[0m\u001b[1;33m:\u001b[0m\u001b[1;33m\u001b[0m\u001b[1;33m\u001b[0m\u001b[0m\n\u001b[0m\u001b[0;32m   1182\u001b[0m             \u001b[1;32mreturn\u001b[0m \u001b[0mcls\u001b[0m\u001b[1;33m.\u001b[0m\u001b[0mlegacy_from_config\u001b[0m\u001b[1;33m(\u001b[0m\u001b[0mconfig\u001b[0m\u001b[1;33m)\u001b[0m\u001b[1;33m\u001b[0m\u001b[1;33m\u001b[0m\u001b[0m\n\u001b[0;32m   1183\u001b[0m \u001b[1;33m\u001b[0m\u001b[0m\n",
      "\u001b[1;31mKeyError\u001b[0m: 0"
     ]
    }
   ],
   "source": [
    "json_file = open('model.json', 'r')\n",
    "load_json_model = json_file.read()\n",
    "json_file.close()\n",
    "from keras.models import model_from_json\n",
    "loaded_model = model_from_json(load_json_model)\n",
    "loaded_model.load_weights(\"model.h5\")\n",
    "print(\"loaded the model\")\n",
    "loaded_model.compile(loss='binary_crossentropy', optimizer='rmsprop', metrics=['accuracy'])\n",
    "img = []\n",
    "t = imread('garbage/image35.jpeg')\n",
    "img.append(t[:,:,0])\n",
    "t = imread('garbage/image36.jpeg')\n",
    "img.append(t[:,:,0])\n",
    "img = np.asarray(img)\n",
    "print(img.shape)\n",
    "print(loaded_model.predict(img[0]))\n",
    "import matplotlib.pyplot as plt\n",
    "plt.imshow(X_test[0].reshape(28,28))"
   ]
  },
  {
   "cell_type": "code",
   "execution_count": 81,
   "metadata": {},
   "outputs": [
    {
     "data": {
      "image/png": "[encoded data removed]",
      "text/plain": [
       "<Figure size 432x288 with 1 Axes>"
      ]
     },
     "metadata": {
      "needs_background": "light"
     },
     "output_type": "display_data"
    }
   ],
   "source": [
    "plt.imshow(X_test[6].reshape(28,28))\n",
    "x = X_test[4].reshape(28,28)\n",
    "xdim, ydim = x.shape"
   ]
  },
  {
   "cell_type": "code",
   "execution_count": 97,
   "metadata": {},
   "outputs": [
    {
     "data": {
      "text/plain": [
       "<matplotlib.image.AxesImage at 0x1bd294f9198>"
      ]
     },
     "execution_count": 97,
     "metadata": {},
     "output_type": "execute_result"
    },
    {
     "data": {
      "image/png": "[encoded data removed]",
      "text/plain": [
       "<Figure size 432x288 with 1 Axes>"
      ]
     },
     "metadata": {
      "needs_background": "light"
     },
     "output_type": "display_data"
    }
   ],
   "source": [
    "out = np.zeros((25,25))\n",
    "filt = np.array([[1,0,0],[0,1,1],[1,0,1]])\n",
    "for c in range(xdim-3):\n",
    "    for y in range(ydim-3):\n",
    "        out[c,y]=np.sum(filt*x[c:c+3,y:y+3])\n",
    "plt.imshow(out)"
   ]
  },
  {
   "cell_type": "code",
   "execution_count": 10,
   "metadata": {},
   "outputs": [
    {
     "name": "stderr",
     "output_type": "stream",
     "text": [
      "Using TensorFlow backend.\n"
     ]
    },
    {
     "name": "stdout",
     "output_type": "stream",
     "text": [
      "(60000, 28, 28)\n"
     ]
    },
    {
     "data": {
      "text/plain": [
       "<matplotlib.image.AxesImage at 0x1e97ec6b668>"
      ]
     },
     "execution_count": 10,
     "metadata": {},
     "output_type": "execute_result"
    },
    {
     "data": {
      "image/png": "[encoded data removed]",
      "text/plain": [
       "<Figure size 432x288 with 1 Axes>"
      ]
     },
     "metadata": {
      "needs_background": "light"
     },
     "output_type": "display_data"
    }
   ],
   "source": [
    "from keras.datasets import mnist\n",
    "from matplotlib import pyplot as plt\n",
    "\n",
    "(xtr, ytr), (xte, yte) = mnist.load_data()\n",
    "print(xtr.shape)\n",
    "x = xtr[3]\n",
    "plt.imshow(x)"
   ]
  },
  {
   "cell_type": "code",
   "execution_count": null,
   "metadata": {},
   "outputs": [],
   "source": []
  },
  {
   "cell_type": "markdown",
   "metadata": {},
   "source": [
    "import numpy as np\n",
    "import matplotlib.pyplot as plt\n",
    "out = np.zeros((25,25))\n",
    "filt = np.array([[-1,-2,-1],[0,0,0],[1,2,1]])\n",
    "def apply_filter(x, filt):\n",
    "    for c in range(25):\n",
    "        for m in range(25):\n",
    "            out[c,m] = np.sum(filt*x[c:c+3, m:m+3])\n",
    "    return out\n",
    "vfilt = np.array([[-1,0,1],[-2,0,2],[-1,0,1]])\n",
    "blur = np.array([[1/9,1/9,1/9],[1/9,1/9,1/9],[1/9,1/9,1/9]])\n",
    "sharpen=np.array([[0,-1,0],[-1,5,-1],[0,-1,0]])\n",
    "no = np.ones((3,3))\n",
    "filt1 = np.array([[0,-1,0],[0,1,1],[-1,1,-1]])\n",
    "plt.imshow(apply_filter(np.pad(apply_filter(x, filt1),pad_width=3,mode='constant',constant_values=0),blur))"
   ]
  },
  {
   "cell_type": "code",
   "execution_count": 1,
   "metadata": {},
   "outputs": [],
   "source": [
    "import cv2\n",
    "\n",
    "cap = cv2.VideoCapture(0)\n",
    "facec = cv2.CascadeClassifier('D:/haarcascade_frontalface_default.xml')\n",
    "\n",
    "while 1:\n",
    "    ret, img = cap.read()\n",
    "    gray = cv2.cvtColor(img, cv2.COLOR_BGR2GRAY)\n",
    "    faces = facec.detectMultiScale(gray, 1.4, 5)\n",
    "    \n",
    "    for (x,y,w,h) in faces:\n",
    "        cv2.rectangle(img, (x,y), (x+w, y+h), (255,255,0), 1)\n",
    "    \n",
    "    cv2.imshow('img',img)\n",
    "    \n",
    "    k = cv2.waitKey(30) & 0xff\n",
    "    if k == 27: \n",
    "        break\n",
    "        \n",
    "cap.release()\n",
    "cv2.destroyAllWindows()\n",
    "    "
   ]
  },
  {
   "cell_type": "code",
   "execution_count": null,
   "metadata": {},
   "outputs": [],
   "source": [
    "import cv2\n",
    "\n",
    "cap = cv2.VideoCapture(0)\n",
    "cap.release()"
   ]
  },
  {
   "cell_type": "code",
   "execution_count": 18,
   "metadata": {},
   "outputs": [],
   "source": [
    "import cv2\n",
    "import numpy as np\n",
    "\n",
    "cap = cv2.VideoCapture(0)\n",
    "\n",
    "while True:\n",
    "    _, frame=cap.read()\n",
    "    edge=cv2.Canny(frame,1,0,200)\n",
    "    cv2.imshow('frame',frame)\n",
    "    cv2.imshow('edge',edge)\n",
    "    k = cv2.waitKey(5) & 0xFF\n",
    "    if k == 27:\n",
    "        break\n",
    "cv2.destroyAllWindows()\n",
    "cap.release() "
   ]
  },
  {
   "cell_type": "code",
   "execution_count": 2,
   "metadata": {},
   "outputs": [],
   "source": [
    "import numpy as np\n",
    "import cv2\n",
    "from scipy import ndimage\n",
    "\n",
    "def gaussian_kernel(size, sigma=1):\n",
    "    size = int(size) // 2\n",
    "    x, y = np.mgrid[-size:size+1, -size:size+1]\n",
    "    normal = 1 / (2.0 * np.pi * sigma**2)\n",
    "    g =  np.exp(-((x**2 + y**2) / (2.0*sigma**2))) * normal\n",
    "    return g\n",
    "\n",
    "def sobel_filters(img):\n",
    "    Kx = np.array([[-1, 0, 1], [-2, 0, 2], [-1, 0, 1]], np.float32)\n",
    "    Ky = np.array([[1, 2, 1], [0, 0, 0], [-1, -2, -1]], np.float32)\n",
    "    \n",
    "    Ix = ndimage.filters.convolve(img, Kx)\n",
    "    Iy = ndimage.filters.convolve(img, Ky)\n",
    "    \n",
    "    G = np.hypot(Ix, Iy)\n",
    "    G = G / G.max() * 255\n",
    "    theta = np.arctan2(Iy, Ix)\n",
    "    \n",
    "    return (G, theta)\n",
    "\n",
    "blur=gaussian_kernel(9, 1.7)\n",
    "cap = cv2.VideoCapture(0)\n",
    "while 1:\n",
    "    _,img = cap.read()\n",
    "    r0 = img[:,:,0]\n",
    "    #r1 = img[:,:,1]\n",
    "    #r2 = img[:,:,2]\n",
    "    res0=ndimage.filters.convolve(r0,blur)\n",
    "    g, theta = sobel_filters(r0)\n",
    "    gh = np.float32(g)\n",
    "    thet = np.float32(theta)\n",
    "    #res1=ndimage.filters.convolve(r1,blur)\n",
    "    #res2=ndimage.filters.convolve(r2,blur)\n",
    "    #print(np.shape(g), np.shape(res0))\n",
    "    #print(type(res0), type(g))\n",
    "    cv2.imshow('intentsity', gh)\n",
    "    cv2.imshow('direction', thet)\n",
    "    #cv2.imshow('result1', res1)\n",
    "    #cv2.imshow('result2', res2)\n",
    "    k = cv2.waitKey(5) & 0xFF\n",
    "    if k == 27:\n",
    "        break\n",
    "cv2.destroyAllWindows()\n",
    "cap.release()"
   ]
  },
  {
   "cell_type": "code",
   "execution_count": 14,
   "metadata": {
    "scrolled": true
   },
   "outputs": [],
   "source": [
    "import cv2\n",
    "cap = cv2.VideoCapture(0)\n",
    "cap.release()\n"
   ]
  },
  {
   "cell_type": "code",
   "execution_count": 12,
   "metadata": {},
   "outputs": [],
   "source": [
    "from PIL import Image\n",
    "import cv2\n",
    "import math\n",
    "\n",
    "\n",
    "img = Image.open(\"photo.jpg\")\n",
    "width = 3000\n",
    "height = 2000\n",
    "newimg = Image.new(\"RGB\", (width, height), \"white\")\n",
    "for x in range(1, width-1):  # ignore the edge pixels for simplicity (1 to width-1)\n",
    "    for y in range(1, height-1): # ignore edge pixels for simplicity (1 to height-1)\n",
    "\n",
    "        # initialise Gx to 0 and Gy to 0 for every pixel\n",
    "        Gx = 0\n",
    "        Gy = 0\n",
    "\n",
    "        # top left pixel\n",
    "        p = img.getpixel((x-1, y-1))\n",
    "        r = p[0]\n",
    "        g = p[1]\n",
    "        b = p[2]\n",
    "\n",
    "        # intensity ranges from 0 to 765 (255 * 3)\n",
    "        intensity = r + g + b\n",
    "\n",
    "        # accumulate the value into Gx, and Gy\n",
    "        Gx += -intensity\n",
    "        Gy += -intensity\n",
    "\n",
    "        # remaining left column\n",
    "        p = img.getpixel((x-1, y))\n",
    "        r = p[0]\n",
    "        g = p[1]\n",
    "        b = p[2]\n",
    "\n",
    "        Gx += -2 * (r + g + b)\n",
    "\n",
    "        p = img.getpixel((x-1, y+1))\n",
    "        r = p[0]\n",
    "        g = p[1]\n",
    "        b = p[2]\n",
    "\n",
    "        Gx += -(r + g + b)\n",
    "        Gy += (r + g + b)\n",
    "\n",
    "        # middle pixels\n",
    "        p = img.getpixel((x, y-1))\n",
    "        r = p[0]\n",
    "        g = p[1]\n",
    "        b = p[2]\n",
    "\n",
    "        Gy += -2 * (r + g + b)\n",
    "\n",
    "        p = img.getpixel((x, y+1))\n",
    "        r = p[0]\n",
    "        g = p[1]\n",
    "        b = p[2]\n",
    "\n",
    "        Gy += 2 * (r + g + b)\n",
    "\n",
    "        # right column\n",
    "        p = img.getpixel((x+1, y-1))\n",
    "        r = p[0]\n",
    "        g = p[1]\n",
    "        b = p[2]\n",
    "\n",
    "        Gx += (r + g + b)\n",
    "        Gy += -(r + g + b)\n",
    "\n",
    "        p = img.getpixel((x+1, y))\n",
    "        r = p[0]\n",
    "        g = p[1]\n",
    "        b = p[2]\n",
    "\n",
    "        Gx += 2 * (r + g + b)\n",
    "\n",
    "        p = img.getpixel((x+1, y+1))\n",
    "        r = p[0]\n",
    "        g = p[1]\n",
    "        b = p[2]\n",
    "\n",
    "        Gx += (r + g + b)\n",
    "        Gy += (r + g + b)\n",
    "\n",
    "        # calculate the length of the gradient (Pythagorean theorem)\n",
    "        length = math.sqrt((Gx * Gx) + (Gy * Gy))\n",
    "\n",
    "        # normalise the length of gradient to the range 0 to 255\n",
    "        length = length / 4328 * 255\n",
    "\n",
    "        length = int(length)\n",
    "\n",
    "        # draw the length in the edge image\n",
    "        #newpixel = img.putpixel((length,length,length))\n",
    "        newimg.putpixel((x,y),(length,length,length))\n",
    "newimg.show()"
   ]
  },
  {
   "cell_type": "code",
   "execution_count": 7,
   "metadata": {},
   "outputs": [
    {
     "ename": "NameError",
     "evalue": "name 'onmouse' is not defined",
     "output_type": "error",
     "traceback": [
      "\u001b[1;31m---------------------------------------------------------------------------\u001b[0m",
      "\u001b[1;31mNameError\u001b[0m                                 Traceback (most recent call last)",
      "\u001b[1;32m<ipython-input-7-b4640e2dd039>\u001b[0m in \u001b[0;36m<module>\u001b[1;34m\u001b[0m\n\u001b[0;32m     68\u001b[0m \u001b[1;33m\u001b[0m\u001b[0m\n\u001b[0;32m     69\u001b[0m \u001b[1;32mif\u001b[0m \u001b[0m__name__\u001b[0m \u001b[1;33m==\u001b[0m \u001b[1;34m'__main__'\u001b[0m\u001b[1;33m:\u001b[0m\u001b[1;33m\u001b[0m\u001b[1;33m\u001b[0m\u001b[0m\n\u001b[1;32m---> 70\u001b[1;33m     \u001b[0mpts\u001b[0m\u001b[1;33m(\u001b[0m\u001b[1;33m)\u001b[0m\u001b[1;33m.\u001b[0m\u001b[0mrun\u001b[0m\u001b[1;33m(\u001b[0m\u001b[1;33m)\u001b[0m\u001b[1;33m\u001b[0m\u001b[1;33m\u001b[0m\u001b[0m\n\u001b[0m\u001b[0;32m     71\u001b[0m \u001b[1;33m\u001b[0m\u001b[0m\n\u001b[0;32m     72\u001b[0m \u001b[1;33m\u001b[0m\u001b[0m\n",
      "\u001b[1;32m<ipython-input-7-b4640e2dd039>\u001b[0m in \u001b[0;36m__init__\u001b[1;34m(self)\u001b[0m\n\u001b[0;32m      9\u001b[0m         \u001b[0mself\u001b[0m\u001b[1;33m.\u001b[0m\u001b[0mceny\u001b[0m \u001b[1;33m=\u001b[0m \u001b[1;36m320\u001b[0m\u001b[1;33m\u001b[0m\u001b[1;33m\u001b[0m\u001b[0m\n\u001b[0;32m     10\u001b[0m         \u001b[0mcv2\u001b[0m\u001b[1;33m.\u001b[0m\u001b[0mnamedWindow\u001b[0m\u001b[1;33m(\u001b[0m\u001b[1;34m'img'\u001b[0m\u001b[1;33m)\u001b[0m\u001b[1;33m\u001b[0m\u001b[1;33m\u001b[0m\u001b[0m\n\u001b[1;32m---> 11\u001b[1;33m         \u001b[0mcv2\u001b[0m\u001b[1;33m.\u001b[0m\u001b[0msetMouseCallback\u001b[0m\u001b[1;33m(\u001b[0m\u001b[1;34m'img'\u001b[0m\u001b[1;33m,\u001b[0m \u001b[0monmouse\u001b[0m\u001b[1;33m)\u001b[0m\u001b[1;33m\u001b[0m\u001b[1;33m\u001b[0m\u001b[0m\n\u001b[0m\u001b[0;32m     12\u001b[0m \u001b[1;33m\u001b[0m\u001b[0m\n\u001b[0;32m     13\u001b[0m     \u001b[1;32mdef\u001b[0m \u001b[0monmouse\u001b[0m\u001b[1;33m(\u001b[0m\u001b[0mevent\u001b[0m\u001b[1;33m,\u001b[0m \u001b[0mx\u001b[0m\u001b[1;33m,\u001b[0m \u001b[0my\u001b[0m\u001b[1;33m,\u001b[0m \u001b[0mflags\u001b[0m\u001b[1;33m,\u001b[0m \u001b[0mparam\u001b[0m\u001b[1;33m)\u001b[0m\u001b[1;33m:\u001b[0m\u001b[1;33m\u001b[0m\u001b[1;33m\u001b[0m\u001b[0m\n",
      "\u001b[1;31mNameError\u001b[0m: name 'onmouse' is not defined"
     ]
    }
   ],
   "source": [
    "import cv2  \n",
    "import numpy as np\n",
    " \n",
    "class pts:\n",
    "    def __init__(self, x, y):\n",
    "        cv2.namedWindow('img')\n",
    "        self.cam = cv2.VideoCapture(0)\n",
    "        self.cenx = 240\n",
    "        self.ceny = 320\n",
    "        cv2.setMouseCallback('img', onmouse)\n",
    "    \n",
    "    def onmouse(event, x, y, flags, param):\n",
    "        if event == cv2.EVENT_LBUTTONUP:\n",
    "            self.cenx, self.ceny = x,y\n",
    "            print('modified')\n",
    "            \n",
    "    def run():\n",
    "        while 1:  \n",
    "        # reads frames from a camera \n",
    "            ret, img = cap.read()  \n",
    "\n",
    "            # convert to gray scale of each frames \n",
    "            gray = cv2.cvtColor(img, cv2.COLOR_BGR2GRAY) \n",
    "\n",
    "            # Detects faces of different sizes in the input image \n",
    "            #print(np.shape(img))\n",
    "            faces = face_caqscade.detectMultiScale(gray, 1.3, 5) \n",
    "\n",
    "            for (x,y,w,h) in faces: \n",
    "                # To draw a rectangle in a face  \n",
    "                cv2.rectangle(img,(x,y),(x+w,y+h),(255,255,0),2)  \n",
    "                roi_gray = gray[y:y+h, x:x+w] \n",
    "                roi_color = img[y:y+h, x:x+w]\n",
    "                #print(x,y,w,h)\n",
    "            bcenx, bceny = int(x+(w/2)),int(y+(h/2))\n",
    "            distx, disty = bcenx-pt.cenx,bceny-pt.ceny\n",
    "            st = '( ' + str(distx) , str(disty) + ' )'\n",
    "            cv2.putText(img, '{},{}'.format(distx, disty), (x,y), cv2.FONT_HERSHEY_SIMPLEX, 1,(255,0,123), 3, cv2.LINE_AA)\n",
    "                # Detects eyes of different sizes in the input image \n",
    "            # Display an image in a window  \n",
    "            print(self.cenx ,self.ceny)\n",
    "            cv2.circle(img, (bcenx, bceny), 10, (255,255,0),thickness=2)\n",
    "            cv2.circle(img, (self.cenx, self.ceny), 10, (255,255,0),thickness=2)\n",
    "            cv2.imshow('img',img)\n",
    "\n",
    "            # Wait for Esc key to stop \n",
    "            k = cv2.waitKey(30) & 0xff\n",
    "            if k == 27: \n",
    "                break\n",
    "\n",
    "        # Close the window \n",
    "        cap.release() \n",
    "\n",
    "        # De-allocate any associated memory usage \n",
    "        cv2.destroyAllWindows()  \n",
    "    \n",
    "face_cascade = cv2.CascadeClassifier('Anaconda3\\Lib\\site-packages\\cv2\\data\\haarcascade_frontalface_default.xml') \n",
    "  \n",
    "#eye_cascade = cv2.CascadeClassifier('Anaconda3\\Lib\\site-packages\\cv2\\data\\haarcascade_eye.xml')  \n",
    "  \n",
    "# capture frames from a camera \n",
    "cap = cv2.VideoCapture(0) \n",
    "_, frame = cap.read()\n",
    "print(np.shape(frame))\n",
    "clicked = False\n",
    "# loop runs if capturing has been initialized. \n",
    "\n",
    "        \n",
    "\n",
    "if __name__ == '__main__':\n",
    "    \n",
    "    pts(240, 320).run()\n",
    "    \n",
    "    "
   ]
  },
  {
   "cell_type": "code",
   "execution_count": 9,
   "metadata": {},
   "outputs": [],
   "source": [
    "import cv2\n",
    "\n",
    "cap = cv2.VideoCapture(0)\n",
    "cap.release()"
   ]
  },
  {
   "cell_type": "code",
   "execution_count": 1,
   "metadata": {},
   "outputs": [
    {
     "name": "stdout",
     "output_type": "stream",
     "text": [
      "(200, 300)\n",
      "(200, 300)\n",
      "(200, 300)\n",
      "(200, 300)\n",
      "(200, 300)\n",
      "(200, 300)\n",
      "(200, 300)\n",
      "(200, 300)\n",
      "(200, 300)\n",
      "(200, 300)\n",
      "(200, 300)\n",
      "(200, 300)\n",
      "(200, 300)\n",
      "(200, 300)\n",
      "(200, 300)\n",
      "(200, 300)\n",
      "(200, 300)\n",
      "(200, 300)\n",
      "(200, 300)\n",
      "(200, 300)\n",
      "(200, 300)\n",
      "(200, 300)\n",
      "(200, 300)\n",
      "(200, 300)\n",
      "(200, 300)\n",
      "(200, 300)\n",
      "(200, 300)\n",
      "(200, 300)\n",
      "(200, 300)\n",
      "(200, 300)\n",
      "(200, 300)\n",
      "(200, 300)\n",
      "(200, 300)\n",
      "(200, 300)\n",
      "(200, 300)\n",
      "(200, 300)\n",
      "(200, 300)\n",
      "(200, 300)\n",
      "(200, 300)\n",
      "(200, 300)\n",
      "(200, 300)\n",
      "(200, 300)\n",
      "(200, 300)\n",
      "(200, 300)\n",
      "(200, 300)\n",
      "(200, 300)\n",
      "(200, 300)\n",
      "(200, 300)\n",
      "(200, 300)\n",
      "(200, 300)\n",
      "(200, 300)\n",
      "(200, 300)\n",
      "(200, 300)\n",
      "(200, 300)\n",
      "(200, 300)\n",
      "(200, 300)\n",
      "(200, 300)\n",
      "(200, 300)\n",
      "(200, 300)\n",
      "(200, 300)\n",
      "(200, 300)\n",
      "(200, 300)\n",
      "(200, 300)\n",
      "(200, 300)\n",
      "(200, 300)\n",
      "(200, 300)\n",
      "(200, 300)\n",
      "(200, 300)\n",
      "(200, 300)\n",
      "(200, 300)\n",
      "(200, 300)\n",
      "(200, 300)\n",
      "(200, 300)\n",
      "(200, 300)\n",
      "(200, 300)\n",
      "(200, 300)\n",
      "(200, 300)\n",
      "(200, 300)\n",
      "(200, 300)\n",
      "(200, 300)\n",
      "(200, 300)\n",
      "(200, 300)\n",
      "(200, 300)\n",
      "(200, 300)\n",
      "(200, 300)\n",
      "(200, 300)\n",
      "(200, 300)\n",
      "(200, 300)\n",
      "(200, 300)\n",
      "(200, 300)\n",
      "(200, 300)\n",
      "(200, 300)\n",
      "(200, 300)\n",
      "(200, 300)\n",
      "(200, 300)\n",
      "(200, 300)\n",
      "(200, 300)\n",
      "(200, 300)\n",
      "(200, 300)\n",
      "(200, 300)\n",
      "(200, 300)\n",
      "(200, 300)\n",
      "(200, 300)\n",
      "(200, 300)\n",
      "(200, 300)\n",
      "(200, 300)\n",
      "(200, 300)\n",
      "(200, 300)\n",
      "(200, 300)\n",
      "(200, 300)\n",
      "(200, 300)\n",
      "(200, 300)\n",
      "(200, 300)\n",
      "(200, 300)\n",
      "(200, 300)\n",
      "(200, 300)\n",
      "(200, 300)\n",
      "(200, 300)\n",
      "(200, 300)\n",
      "(200, 300)\n",
      "(200, 300)\n",
      "(200, 300)\n",
      "(200, 300)\n",
      "(200, 300)\n",
      "(200, 300)\n",
      "(200, 300)\n",
      "(200, 300)\n",
      "(200, 300)\n",
      "(200, 300)\n",
      "(200, 300)\n",
      "(200, 300)\n",
      "(200, 300)\n",
      "(200, 300)\n",
      "(200, 300)\n",
      "(200, 300)\n",
      "(200, 300)\n",
      "(200, 300)\n",
      "(200, 300)\n",
      "(200, 300)\n",
      "(200, 300)\n",
      "(200, 300)\n",
      "(200, 300)\n",
      "(200, 300)\n",
      "(200, 300)\n",
      "(200, 300)\n",
      "(200, 300)\n",
      "(200, 300)\n",
      "(200, 300)\n",
      "(200, 300)\n",
      "(200, 300)\n",
      "(200, 300)\n",
      "(200, 300)\n",
      "(200, 300)\n",
      "(200, 300)\n",
      "(200, 300)\n",
      "(200, 300)\n",
      "(200, 300)\n",
      "(200, 300)\n",
      "(200, 300)\n",
      "(200, 300)\n",
      "(200, 300)\n",
      "(200, 300)\n",
      "(200, 300)\n",
      "(200, 300)\n",
      "(200, 300)\n",
      "(200, 300)\n",
      "(200, 300)\n",
      "(200, 300)\n",
      "(200, 300)\n",
      "(200, 300)\n",
      "(200, 300)\n",
      "(200, 300)\n",
      "(200, 300)\n",
      "(200, 300)\n",
      "(200, 300)\n",
      "(200, 300)\n",
      "(200, 300)\n",
      "(200, 300)\n",
      "(200, 300)\n",
      "(200, 300)\n",
      "(200, 300)\n",
      "(200, 300)\n",
      "(200, 300)\n",
      "(200, 300)\n",
      "(200, 300)\n",
      "(200, 300)\n",
      "(200, 300)\n",
      "(200, 300)\n",
      "(200, 300)\n",
      "(200, 300)\n",
      "(200, 300)\n",
      "(200, 300)\n",
      "(200, 300)\n",
      "(200, 300)\n",
      "(200, 300)\n",
      "(200, 300)\n",
      "(200, 300)\n",
      "(200, 300)\n",
      "(200, 300)\n",
      "(200, 300)\n",
      "(200, 300)\n",
      "(200, 300)\n",
      "(200, 300)\n",
      "(200, 300)\n",
      "(200, 300)\n",
      "(200, 300)\n",
      "(200, 300)\n",
      "(200, 300)\n",
      "(200, 300)\n",
      "(200, 300)\n",
      "(200, 300)\n",
      "(200, 300)\n",
      "(200, 300)\n",
      "(200, 300)\n",
      "(200, 300)\n",
      "(200, 300)\n",
      "(200, 300)\n",
      "(200, 300)\n",
      "(200, 300)\n",
      "(200, 300)\n",
      "(200, 300)\n",
      "(200, 300)\n",
      "(200, 300)\n",
      "(200, 300)\n",
      "(200, 300)\n",
      "(200, 300)\n",
      "(200, 300)\n",
      "(200, 300)\n",
      "(200, 300)\n",
      "(200, 300)\n",
      "(200, 300)\n",
      "(200, 300)\n",
      "(200, 300)\n",
      "(200, 300)\n",
      "(200, 300)\n",
      "(200, 300)\n",
      "(200, 300)\n",
      "(200, 300)\n",
      "(200, 300)\n",
      "(200, 300)\n",
      "(200, 300)\n",
      "(200, 300)\n",
      "(200, 300)\n",
      "(200, 300)\n",
      "(200, 300)\n",
      "(200, 300)\n",
      "(200, 300)\n",
      "(200, 300)\n",
      "(200, 300)\n",
      "(200, 300)\n",
      "(200, 300)\n",
      "(200, 300)\n",
      "(200, 300)\n",
      "(200, 300)\n",
      "(200, 300)\n",
      "(200, 300)\n",
      "(200, 300)\n",
      "(200, 300)\n",
      "(200, 300)\n",
      "(200, 300)\n",
      "(200, 300)\n",
      "(200, 300)\n",
      "(200, 300)\n",
      "(200, 300)\n",
      "(200, 300)\n",
      "(200, 300)\n",
      "(200, 300)\n",
      "(200, 300)\n",
      "(200, 300)\n",
      "(200, 300)\n",
      "(200, 300)\n",
      "(200, 300)\n",
      "(200, 300)\n",
      "(200, 300)\n",
      "(200, 300)\n",
      "(200, 300)\n",
      "(200, 300)\n",
      "(200, 300)\n",
      "(200, 300)\n",
      "(200, 300)\n",
      "(200, 300)\n",
      "(200, 300)\n",
      "(200, 300)\n",
      "(200, 300)\n",
      "(200, 300)\n",
      "(200, 300)\n",
      "(200, 300)\n",
      "(200, 300)\n",
      "(200, 300)\n",
      "(200, 300)\n",
      "(200, 300)\n",
      "(200, 300)\n",
      "(200, 300)\n",
      "(200, 300)\n",
      "(200, 300)\n",
      "(200, 300)\n",
      "(200, 300)\n",
      "(200, 300)\n"
     ]
    }
   ],
   "source": [
    "import cv2 \n",
    "import numpy as np\n",
    "\n",
    "class com:\n",
    "    \n",
    "    def __init__(self):\n",
    "        self.cam = cv2.VideoCapture(0)\n",
    "        self.cen = (200,300)\n",
    "        cv2.namedWindow('image')\n",
    "        self.face_cascade = cv2.CascadeClassifier('garbage\\haarcascade_frontalface_default.xml') \n",
    "        ret, img = self.cam.read()\n",
    "        self.frame = img\n",
    "        cv2.setMouseCallback('image', self.onmouse)\n",
    "        self.direction = None\n",
    "        \n",
    "    def onmouse(self, event, x, y, flags, param):\n",
    "        if event == cv2.EVENT_LBUTTONUP:\n",
    "            self.cen = (x, y)\n",
    "    \n",
    "    def run(self):\n",
    "        while True:\n",
    "            ret, self.frame = self.cam.read()\n",
    "            gray = cv2.cvtColor(self.frame, cv2.COLOR_BGR2GRAY)\n",
    "            \n",
    "            faces = self.face_cascade.detectMultiScale(gray, 1.4,5)\n",
    "            \n",
    "            for (x,y,w,h) in faces:\n",
    "                cv2.rectangle(self.frame, (x,y), (x+w, y+h), (255,5,65),2)\n",
    "                print(self.cen)\n",
    "#                 cv2.circle(self.frame, (int(x+w/2),int(y+h/2)), 10, (255,255,0),thickness=2)\n",
    "                #now showing the direction for getting aligned with center\n",
    "                cx, cy = self.cen\n",
    "                self.direction = (cx - x, cy - y, 12)\n",
    "            \n",
    "            if self.direction:\n",
    "                dx, dy, dz = self.direction\n",
    "                cv2.putText(self.frame, '{} {} {}'.format(dx, dy, dz), (30,30), cv2.FONT_HERSHEY_SIMPLEX, 1,(255,0,123), 1, cv2.LINE_AA)\n",
    "            else:\n",
    "                cv2.putText(self.frame, 'direction not defined', (10,10), cv2.FONT_HERSHEY_SIMPLEX, 1,(255,0,123), 3, cv2.LINE_AA)\n",
    "            #this is meant to be the center of screen so it's constant\n",
    "            cv2.circle(self.frame, self.cen, 10, (255,255,0),thickness=2)\n",
    "            cv2.imshow('image', self.frame)\n",
    "            \n",
    "            key = cv2.waitKey(3)\n",
    "            if key == 27:            \n",
    "                self.cam.release() \n",
    "                cv2.destroyAllWindows()  \n",
    "                break\n",
    "        \n",
    "if __name__ == '__main__':\n",
    "    com().run()"
   ]
  },
  {
   "cell_type": "code",
   "execution_count": null,
   "metadata": {},
   "outputs": [],
   "source": []
  },
  {
   "cell_type": "code",
   "execution_count": null,
   "metadata": {},
   "outputs": [],
   "source": []
  }
 ],
 "metadata": {
  "kernelspec": {
   "display_name": "Python 3",
   "language": "python",
   "name": "python3"
  },
  "language_info": {
   "codemirror_mode": {
    "name": "ipython",
    "version": 3
   },
   "file_extension": ".py",
   "mimetype": "text/x-python",
   "name": "python",
   "nbconvert_exporter": "python",
   "pygments_lexer": "ipython3",
   "version": "3.7.6"
  }
 },
 "nbformat": 4,
 "nbformat_minor": 2
}
