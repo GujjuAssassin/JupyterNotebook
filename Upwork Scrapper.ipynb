{
 "cells": [
  {
   "cell_type": "code",
   "execution_count": 29,
   "metadata": {},
   "outputs": [
    {
     "name": "stdout",
     "output_type": "stream",
     "text": [
      "Metadata for kortblad\n",
      "Id: 10828\n",
      "LandkortBladId: 10828\n",
      "LandkortTypeId: 6\n",
      "Maalestok: 20000\n",
      "Kortblad: 3418\n",
      "Version: 1966\n",
      "Navn: Romsø\n",
      "OpmaalingAfsluttet: 1863\n",
      "Rettet: 1943\n",
      "EnkelteRettelser: 1960\n",
      "Udgivet: 1966\n",
      "Indgang: M/20L 3418\n",
      "Projektion: GS\n",
      "Note4: 2 meters ækvidistance\n",
      "BBox: null\n"
     ]
    }
   ],
   "source": [
    "import os\n",
    "import sys\n",
    "import re\n",
    "from selenium import webdriver\n",
    "\n",
    "os.path.dirname(sys.executable)\n",
    "webDriver = webdriver.Firefox()\n",
    "webDriver.get(\"https://hkpn.gst.dk/mapviewer.aspx?type=lkMaalebordsblade&id=10828\")\n",
    "menu = webDriver.find_element_by_id(\"metadatabutton\")\n",
    "m = webDriver.find_element_by_xpath(\"//*[text()='Kortblad']\")\n",
    "data= webDriver.find_element_by_id(\"kortbladmdBoxDiv\")\n",
    "menu.click()\n",
    "m.click()\n",
    "print(data.text)\n",
    "webDriver.close()"
   ]
  },
  {
   "cell_type": "code",
   "execution_count": null,
   "metadata": {},
   "outputs": [],
   "source": [
    "# Other project\n",
    "\n",
    "import requests as req\n",
    "import pandas as pd\n",
    "import numpy as np\n",
    "\n",
    "class processRec:\n",
    "    \n",
    "    def __init__(self,inputDataPath=\"garbage/UpworkProjects/Geocoding/input.csv\",outputDataPath=\"garbage/UpworkProjects/Geocoding/output1.csv\"):\n",
    "        self.OWNER = \"owner\"\n",
    "        self.ACRES = \"acres_owned\"\n",
    "        self.ADDRESS = \"address\"\n",
    "        self.LAT = \"Latitude\"\n",
    "        self.LONG = \"Longitude\"\n",
    "        self.OPLAT = \"Address Latitude\"\n",
    "        self.OPLONG = \"Address Longitude\"\n",
    "        self.OPACRES = \"acres_owned\"\n",
    "        self.PARCELCOUNT = \"parcel_count\"\n",
    "        self.OPCLOSEST = \"closest parcel (miles)\"\n",
    "        self.OPFARTHEST = \"farthest parcel (miles)\"\n",
    "        self.columns = [OWNER,ADDRESS,OPACRES,PARCELCOUNT,OPLAT,OPLONG,OPCLOSEST,OPFARTHEST]\n",
    "        self.inputcsvPath=inputDataPath\n",
    "        self.outputDataPath = outputDataPath\n",
    "        self.coordDict = {}\n",
    "        self.encodedAddress = []\n",
    "        self.CoordFromAdd = []\n",
    "        \n",
    "    def getUniqueData(self,save=True):\n",
    "        inputData = pd.read_csv(self.inputcsvPath)\n",
    "        uo = inputData.loc[:,OWNER].unique()\n",
    "        oa = inputData.loc[:,[\"owner\",\"address\"]]\n",
    "        outputDataDict = {}\n",
    "        \n",
    "        opframe = pd.DataFrame(columns=self.columns)\n",
    "        coordDict = {}\n",
    "    \n",
    "        for ind in inputData.index:\n",
    "            owner = inputData.loc[ind,OWNER]\n",
    "            try:\n",
    "                self.coordDict[owner]\n",
    "                outputDataDict[owner]\n",
    "            except KeyError:\n",
    "                self.coordDict[owner]=[(inputData.loc[ind,LAT],inputData.loc[ind,LONG])]\n",
    "                outputDataDict[owner]={ind:owner}\n",
    "                opframe=opframe.append({\n",
    "                    OWNER:owner,\n",
    "                    ADDRESS:inputData[ADDRESS][ind],\n",
    "                    OPACRES:inputData[ACRES][ind],\n",
    "                    PARCELCOUNT:inputData[PARCELCOUNT][ind],\n",
    "                    OPLAT:0,\n",
    "                    OPLONG:0,\n",
    "                    OPCLOSEST:0,\n",
    "                    OPFARTHEST:0\n",
    "                },ignore_index=True)\n",
    "            self.coordDict[owner].append((inputData.loc[ind,LAT],inputData.loc[ind,LONG]))\n",
    "        func = lambda x: x.replace(\" \",\"%20\")\n",
    "        self.encodedAddress = list(map(func, opframe.loc[:,ADDRESS]))\n",
    "        self.opframe = opframe\n",
    "        if save:\n",
    "            opframe.to_csv(self.outputDataPath,index=False)\n",
    "#             return self.coordDict\n",
    "        else:\n",
    "            return self.opframe,self.coordDict\n",
    "    \n",
    "    def saveData(self,outputFilePath=None):\n",
    "        if outputFilePath is None:\n",
    "            self.opframe.to_csv(self.outputDataPath,index=False)\n",
    "        else:\n",
    "            self.opframe.to_csv(outputFilePath,index=False)\n",
    "    \n",
    "    def __getCoords__(self,URL):\n",
    "        try:\n",
    "            resp = req.get(URL)\n",
    "            result = json.loads(resp.text)[0]\n",
    "            print(\"Got result \" + result)\n",
    "            return (result['lat'],result['lon'])\n",
    "        except KeyError:\n",
    "            return getCoords(URL)\n",
    "    \n",
    "    def __requestCoords__(self,addresses):\n",
    "        for address in addresses: \n",
    "            self.CoordFromAdd.append(self.__getCoords__(addressToCoordURL.format(apiKey,address)))\n",
    "            \n",
    "            \n",
    "    def fillCoordFromAddress(self,numOfThreads=3,test=False):\n",
    "        if test:\n",
    "            addList = self.encodedAddress[:10]\n",
    "        else:\n",
    "            addList = self.encodedAddress\n",
    "        threads = []\n",
    "        batchSize = int(len(addList)/numOfThreads)\n",
    "        for i in range(numOfThreads-1):\n",
    "            th = Thread(target=self.__requestCoords__, args=(addList[i*batchSize:(i+1)*batchSize],))\n",
    "            threads.append(th)\n",
    "            print(i*batchSize,(i+1)*batchSize)\n",
    "        threads.append(Thread(target=requestCoords, args=(addList[(numOfThreads-1)*batchSize:],)))\n",
    "        print((numOfThreads-1)*batchSize,len(addList))\n",
    "        for th in threads:\n",
    "            th.start()\n",
    "        for th in threads:\n",
    "            th.join()\n",
    "        self.CoordFromAdd = np.asarray(self.CoordFromAdd)\n",
    "        if self.opframe is not None:\n",
    "            if not test:\n",
    "                self.opframe[:,self.OPLAT]=self.CoordFromAdd[:,0]\n",
    "                self.opframe[:,self.OPLAT]=self.CoordFromAdd[:,1]\n",
    "                return self.opframe\n",
    "            else:\n",
    "                temp = self.opframe.loc[:10]\n",
    "                temp[:,self.OPLAT]=self.CoordFromAdd[:,0]\n",
    "                temp[:,self.OPLAT]=self.CoordFromAdd[:,1]\n",
    "                return temp\n",
    "        \n",
    "    def saveCoordToAdd(self,path):\n",
    "        if self.CoordFromAdd is not None:\n",
    "            cf = pd.DataFrame(columns=['address','lat','lon'])\n",
    "            cf.loc[:,\"address\"]=self.opframe.loc[:,self.ADDRESS]\n",
    "            cf.loc[:,\"lat\"]=self.CoordFromAdd[:,0]\n",
    "            cf.loc[:,\"lon\"]=self.CoordFromAdd[:,1]\n",
    "            cf.to_csv(path,index=False)\n",
    "            print(\"Saved at \" + path)\n",
    "        else:\n",
    "            print(\"CoordsFromAdd is None\")\n",
    "                   \n",
    "        "
   ]
  },
  {
   "cell_type": "code",
   "execution_count": null,
   "metadata": {},
   "outputs": [],
   "source": [
    "obj = processRec()\n",
    "df,coord = obj.getUniqueData(False)"
   ]
  },
  {
   "cell_type": "code",
   "execution_count": null,
   "metadata": {},
   "outputs": [],
   "source": [
    "frame = obj.fillCoordFromAddress(test=True)\n",
    "print(frame.head())"
   ]
  },
  {
   "cell_type": "code",
   "execution_count": null,
   "metadata": {},
   "outputs": [],
   "source": [
    "print(len(obj.CoordFromAdd))"
   ]
  },
  {
   "cell_type": "code",
   "execution_count": null,
   "metadata": {},
   "outputs": [],
   "source": [
    "x = []\n",
    "for ind in df.index:\n",
    "    x.append([np.random.randint(100),np.random.randint(100)])\n",
    "x = np.asarray(x)\n",
    "print(x[:,1])"
   ]
  },
  {
   "cell_type": "code",
   "execution_count": 138,
   "metadata": {},
   "outputs": [
    {
     "name": "stderr",
     "output_type": "stream",
     "text": [
      "PdfReadWarning: Xref table not zero-indexed. ID numbers for objects will be corrected. [pdf.py:1736]\n"
     ]
    },
    {
     "name": "stdout",
     "output_type": "stream",
     "text": [
      "[3, 5, 6, 7, 8, 9, 10, 12, 14, 15, 16, 18, 20, 22, 23, 24, 25, 26, 28, 29, 30, 32, 33, 34, 36, 37, 38, 39, 40, 41, 42, 43, 44, 46, 47, 48, 49, 50, 51, 52, 53, 54, 56, 57, 59, 60, 61, 62, 63]\n"
     ]
    }
   ],
   "source": [
    "### new Project\n",
    "import numpy as np\n",
    "import PyPDF2 \n",
    "import re\n",
    "import pandas as pd\n",
    "\n",
    "tupArr=[]\n",
    "MODEL=\"Model\"\n",
    "UPC=\"UPC\"\n",
    "df = pd.DataFrame(columns=[MODEL,UPC])\n",
    "filePath='garbage/UpworkProjects/utensils.pdf'\n",
    "\n",
    "pdf = open(filePath,'rb')\n",
    "pdfreader = PyPDF2.PdfFileReader(pdf)\n",
    "numPages = pdfreader.getNumPages()\n",
    "\n",
    "for pageNo in range(numPages):\n",
    "    page = pdfreader.getPage(pageNo).extractText()\n",
    "    arr=re.findall(\"Model:[\\s]*[\\n](.*?)[\\s]*[\\n][\\s]*UPC:[\\s]*(.*?)[\\s]*[\\n]\",page)\n",
    "    if len(arr) is not 0:#  and len(upc) is not 0\n",
    "        tupArr.append(arr)\n",
    "        pageswithDetails.append(pageNo)\n",
    "        \n",
    "for tup in tupArr:\n",
    "    for model,upc in tup:\n",
    "        df=df.append({MODEL:model,UPC:upc},ignore_index=True)\n",
    "    \n",
    "df.to_csv(\"garbage/UpworkProjects/Demo.csv\",index=False)"
   ]
  },
  {
   "cell_type": "code",
   "execution_count": 185,
   "metadata": {},
   "outputs": [
    {
     "name": "stdout",
     "output_type": "stream",
     "text": [
      "C:\\Users\\Assessioner\\ipynb files\\garbage\\file.csv\n"
     ]
    }
   ],
   "source": [
    "from os import path\n",
    "from glob import glob\n",
    "\n",
    "dr='garbage/UpworkProjects/'\n",
    "n=\"file.csv\"\n",
    "print(path.join(path.dirname(path.realpath(fileName)),outputFileName))\n",
    "# d = \"asdf_sdfas\"\n",
    "# print(bool(re.search(r\"\\s\",d)))\n",
    "# x = re.search('.pdf',dr)\n",
    "# start,_=x.span()\n",
    "# outputFile = dr[:start]+\".csv\"\n",
    "# print(outputFile)\n",
    "# i=0\n",
    "# for filePath in glob(path.join(dr,\"*.pdf\")):\n",
    "#     print(path.join(dr+\"demo{}\".format(i)+\".csv\"))\n",
    "#     i+=1"
   ]
  },
  {
   "cell_type": "code",
   "execution_count": null,
   "metadata": {},
   "outputs": [],
   "source": []
  }
 ],
 "metadata": {
  "kernelspec": {
   "display_name": "Python 3",
   "language": "python",
   "name": "python3"
  },
  "language_info": {
   "codemirror_mode": {
    "name": "ipython",
    "version": 3
   },
   "file_extension": ".py",
   "mimetype": "text/x-python",
   "name": "python",
   "nbconvert_exporter": "python",
   "pygments_lexer": "ipython3",
   "version": "3.7.6"
  }
 },
 "nbformat": 4,
 "nbformat_minor": 4
}
