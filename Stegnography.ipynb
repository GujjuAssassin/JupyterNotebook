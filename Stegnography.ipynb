{
 "cells": [
  {
   "cell_type": "code",
   "execution_count": 22,
   "metadata": {},
   "outputs": [
    {
     "name": "stdout",
     "output_type": "stream",
     "text": [
      "<class 'PIL.Image.Image'>\n"
     ]
    }
   ],
   "source": [
    "import stegano as st\n",
    "import cv2 as cv\n",
    "import numpy as np\n",
    "img = cv.imread('garbage/pic.png')\n",
    "re = cv.resize(img, (250,int(250*img.shape[0]/img.shape[1])))\n",
    "sec = st.lsb.hide('garbage/pic.png', 'hello little bastard there dhshfgddggggggggggggggggggggggggggggggggggggggggggggggggggggdfghfghrhtwertrt3456754643rfsdfhnvbdfgdvx bxcncnxcs24r4264olkhgfe3e456u7iolmnhbgvfed4567ui8o9p;.l,kjm hngbdfvedwsq')\n",
    "print(type(sec))\n",
    "nw = cv.resize(np.array(sec.convert('RGB'))[:,:,::-1], (250,int(250*img.shape[0]/img.shape[1])))\n",
    "cv.imshow(\"demo\", nw)\n",
    "cv.imshow(\"dem2o\", re)\n",
    "cv.waitKey(0)\n",
    "cv.destroyAllWindows()"
   ]
  },
  {
   "cell_type": "code",
   "execution_count": null,
   "metadata": {},
   "outputs": [],
   "source": []
  }
 ],
 "metadata": {
  "kernelspec": {
   "display_name": "Python 3",
   "language": "python",
   "name": "python3"
  },
  "language_info": {
   "codemirror_mode": {
    "name": "ipython",
    "version": 3
   },
   "file_extension": ".py",
   "mimetype": "text/x-python",
   "name": "python",
   "nbconvert_exporter": "python",
   "pygments_lexer": "ipython3",
   "version": "3.7.6"
  }
 },
 "nbformat": 4,
 "nbformat_minor": 4
}
