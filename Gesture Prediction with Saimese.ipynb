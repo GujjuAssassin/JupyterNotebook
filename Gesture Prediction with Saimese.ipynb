{
 "cells": [
  {
   "cell_type": "code",
   "execution_count": 3,
   "metadata": {},
   "outputs": [],
   "source": [
    "from tensorflow.keras.models import load_model\n",
    "import pandas as pd\n",
    "\n",
    "class PredictLandmarks:\n",
    "    \n",
    "    def __init__(self,ModelPath=\"garbage/GestureProject/models/gestureLm Saimese/iteration33\", CompareGesPath=\"garbage/GestureProject/NewGes10LR.csv\", SubjectGesPath=\"garbage/GestureProject/TestingCoordinates/test4.csv\", trainData=True, verbose=False):\n",
    "        %run gesLmUtilsLib.ipynb\n",
    "        self.model = load_model(ModelPath)\n",
    "        self.mainGes = np.expand_dims(preprocessLm(pd.read_csv(CompareGesPath).to_numpy().reshape((-1,42)), normalize=True, trainData=trainData),axis=1)\n",
    "        self.subjectGes = np.expand_dims(preprocessLm(pd.read_csv(SubjectGesPath).to_numpy().reshape((-1,42)), normalize=True, trainData=trainData),axis=1)\n",
    "        self.verbose = verbose\n",
    "        if self.verbose:\n",
    "            print(self.mainGes.shape)\n",
    "            print(self.subjectGes.shape)\n",
    "        \n",
    "        \n",
    "    def predictAll(self, landmarks=None):\n",
    "        allres = []\n",
    "        if landmarks is None:\n",
    "            subLms = self.subjectGes\n",
    "            \n",
    "        else:\n",
    "            subLms = landmarks\n",
    "            \n",
    "        assert subLms.shape[-2:] == (1,42) or subLms.shape[-2:] == (21,2), \"Shape of landmark {} is not right\".format(subLms.shape)\n",
    "        if self.verbose:\n",
    "            showLandmark(self.subjectGes.squeeze())\n",
    "        for subGes in subLms:\n",
    "            allres.append(self.predict(subGes))\n",
    "        return allres\n",
    "    \n",
    "    def predict(self,subjectLm=None):\n",
    "        if subjectLm is not None:\n",
    "            res = []\n",
    "            for landmark in self.mainGes:\n",
    "                inputPair = [np.asarray(landmark),np.asarray(subjectLm)]\n",
    "#                 print(np.shape(inputPair))\n",
    "                res.append(self.model.predict(inputPair))\n",
    "            ind = np.argmax(res)\n",
    "            return ind"
   ]
  }
 ],
 "metadata": {
  "kernelspec": {
   "display_name": "Python 3",
   "language": "python",
   "name": "python3"
  },
  "language_info": {
   "codemirror_mode": {
    "name": "ipython",
    "version": 3
   },
   "file_extension": ".py",
   "mimetype": "text/x-python",
   "name": "python",
   "nbconvert_exporter": "python",
   "pygments_lexer": "ipython3",
   "version": "3.7.6"
  }
 },
 "nbformat": 4,
 "nbformat_minor": 4
}
